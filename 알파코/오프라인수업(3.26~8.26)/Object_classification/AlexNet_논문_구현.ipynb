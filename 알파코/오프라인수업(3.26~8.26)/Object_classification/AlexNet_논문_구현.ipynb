{
  "cells": [
    {
      "cell_type": "markdown",
      "metadata": {
        "id": "view-in-github",
        "colab_type": "text"
      },
      "source": [
        "<a href=\"https://colab.research.google.com/github/yoonwanggyu/Self_Study/blob/main/%EC%98%A4%ED%94%84%EB%9D%BC%EC%9D%B8/AlexNet_%EA%B5%AC%ED%98%84(tensorflow%2Cpytorch).ipynb\" target=\"_parent\"><img src=\"https://colab.research.google.com/assets/colab-badge.svg\" alt=\"Open In Colab\"/></a>"
      ]
    },
    {
      "cell_type": "markdown",
      "source": [
        "# tensorflow 기반 alexnet 구현"
      ],
      "metadata": {
        "id": "fvGGvvYu71Ev"
      }
    },
    {
      "cell_type": "code",
      "execution_count": 1,
      "metadata": {
        "id": "8MrudMhbn4eZ"
      },
      "outputs": [],
      "source": [
        "import tensorflow as tf\n",
        "\n",
        "from tensorflow.keras import datasets, layers, models\n",
        "\n",
        "import matplotlib.pyplot as plt\n",
        "import numpy as np"
      ]
    },
    {
      "cell_type": "code",
      "execution_count": 2,
      "metadata": {
        "colab": {
          "base_uri": "https://localhost:8080/"
        },
        "id": "zbiSJpf7oIOn",
        "outputId": "4ba415fe-a51b-4564-e259-3eed2caaa011"
      },
      "outputs": [
        {
          "output_type": "stream",
          "name": "stdout",
          "text": [
            "Downloading data from https://storage.googleapis.com/tensorflow/tf-keras-datasets/train-labels-idx1-ubyte.gz\n",
            "29515/29515 [==============================] - 0s 0us/step\n",
            "Downloading data from https://storage.googleapis.com/tensorflow/tf-keras-datasets/train-images-idx3-ubyte.gz\n",
            "26421880/26421880 [==============================] - 0s 0us/step\n",
            "Downloading data from https://storage.googleapis.com/tensorflow/tf-keras-datasets/t10k-labels-idx1-ubyte.gz\n",
            "5148/5148 [==============================] - 0s 0us/step\n",
            "Downloading data from https://storage.googleapis.com/tensorflow/tf-keras-datasets/t10k-images-idx3-ubyte.gz\n",
            "4422102/4422102 [==============================] - 0s 0us/step\n"
          ]
        },
        {
          "output_type": "execute_result",
          "data": {
            "text/plain": [
              "((60000, 28, 28), (60000,), (10000, 28, 28), (10000,))"
            ]
          },
          "metadata": {},
          "execution_count": 2
        }
      ],
      "source": [
        "(train_images, train_labels), (test_images, test_labels) = datasets.fashion_mnist.load_data()\n",
        "train_images.shape, train_labels.shape, test_images.shape, test_labels.shape"
      ]
    },
    {
      "cell_type": "code",
      "execution_count": 3,
      "metadata": {
        "id": "lkWAYp7poLpp"
      },
      "outputs": [],
      "source": [
        "# 라벨 설정\n",
        "label_names = ['T-shirt/top', 'Trouser', 'Pullover', 'Dress', 'Coat',\n",
        "               'Sandal', 'Shirt', 'Sneaker', 'Bag', 'Ankle boot']"
      ]
    },
    {
      "cell_type": "code",
      "execution_count": 4,
      "metadata": {
        "colab": {
          "base_uri": "https://localhost:8080/"
        },
        "id": "Wr5nL0XDfVXH",
        "outputId": "7352b3bf-cda5-4c71-c94b-5159b91de77f"
      },
      "outputs": [
        {
          "output_type": "execute_result",
          "data": {
            "text/plain": [
              "((60000, 28, 28, 1), (10000, 28, 28, 1))"
            ]
          },
          "metadata": {},
          "execution_count": 4
        }
      ],
      "source": [
        "# 채널 값을 부여 : 28, 28 -> 28, 28, 1\n",
        "train_images = train_images.reshape(-1, 28, 28, 1)\n",
        "test_images = test_images.reshape(-1, 28, 28, 1)\n",
        "train_images.shape, test_images.shape"
      ]
    },
    {
      "cell_type": "code",
      "execution_count": 5,
      "metadata": {
        "colab": {
          "base_uri": "https://localhost:8080/"
        },
        "id": "OOXDhMDFiuXN",
        "outputId": "b3279660-e981-46d4-ab01-66f8f40eb1f7"
      },
      "outputs": [
        {
          "output_type": "execute_result",
          "data": {
            "text/plain": [
              "(TensorShape([60000, 28, 28, 3]), TensorShape([10000, 28, 28, 3]))"
            ]
          },
          "metadata": {},
          "execution_count": 5
        }
      ],
      "source": [
        "# AlexNet 모델 입력층에 맞게 채널 3장으로 맞춤\n",
        "train_images = tf.repeat(train_images, 3, axis=3)\n",
        "test_images = tf.repeat(test_images, 3, axis=3)\n",
        "train_images.shape, test_images.shape"
      ]
    },
    {
      "cell_type": "code",
      "execution_count": 7,
      "metadata": {
        "id": "1swpfKB9x0pB"
      },
      "outputs": [],
      "source": [
        "# ## 사용할 layer module\n",
        "# layers.Conv2D()\n",
        "# layers.Lambda(tf.nn.local_response_normalization)\n",
        "# layers.MaxPooling2D()\n",
        "\n",
        "# layers.Flatten()\n",
        "# layers.Dense()\n",
        "# layers.Dropout(0.5)"
      ]
    },
    {
      "cell_type": "code",
      "execution_count": 13,
      "metadata": {
        "colab": {
          "base_uri": "https://localhost:8080/"
        },
        "id": "imUubWGKq7fe",
        "outputId": "ca183a8b-46e7-456c-c496-249124a11723"
      },
      "outputs": [
        {
          "output_type": "stream",
          "name": "stdout",
          "text": [
            "Model: \"sequential_4\"\n",
            "_________________________________________________________________\n",
            " Layer (type)                Output Shape              Param #   \n",
            "=================================================================\n",
            " resizing_4 (Resizing)       (None, 227, 227, 3)       0         \n",
            "                                                                 \n",
            " conv2d_9 (Conv2D)           (None, 55, 55, 96)        34944     \n",
            "                                                                 \n",
            " lambda_4 (Lambda)           (None, 55, 55, 96)        0         \n",
            "                                                                 \n",
            " max_pooling2d_5 (MaxPoolin  (None, 27, 27, 96)        0         \n",
            " g2D)                                                            \n",
            "                                                                 \n",
            " conv2d_10 (Conv2D)          (None, 27, 27, 256)       614656    \n",
            "                                                                 \n",
            " lambda_5 (Lambda)           (None, 27, 27, 256)       0         \n",
            "                                                                 \n",
            " max_pooling2d_6 (MaxPoolin  (None, 13, 13, 256)       0         \n",
            " g2D)                                                            \n",
            "                                                                 \n",
            " conv2d_11 (Conv2D)          (None, 13, 13, 384)       885120    \n",
            "                                                                 \n",
            " conv2d_12 (Conv2D)          (None, 13, 13, 384)       1327488   \n",
            "                                                                 \n",
            " conv2d_13 (Conv2D)          (None, 13, 13, 256)       884992    \n",
            "                                                                 \n",
            " max_pooling2d_7 (MaxPoolin  (None, 6, 6, 256)         0         \n",
            " g2D)                                                            \n",
            "                                                                 \n",
            " flatten_1 (Flatten)         (None, 9216)              0         \n",
            "                                                                 \n",
            " dense_3 (Dense)             (None, 256)               2359552   \n",
            "                                                                 \n",
            " dropout_2 (Dropout)         (None, 256)               0         \n",
            "                                                                 \n",
            " dense_4 (Dense)             (None, 256)               65792     \n",
            "                                                                 \n",
            " dropout_3 (Dropout)         (None, 256)               0         \n",
            "                                                                 \n",
            " dense_5 (Dense)             (None, 10)                2570      \n",
            "                                                                 \n",
            "=================================================================\n",
            "Total params: 6175114 (23.56 MB)\n",
            "Trainable params: 6175114 (23.56 MB)\n",
            "Non-trainable params: 0 (0.00 Byte)\n",
            "_________________________________________________________________\n"
          ]
        }
      ],
      "source": [
        "model = models.Sequential()\n",
        "\n",
        "# 총 8층\n",
        "# 227 x 227 x 3으로 resize\n",
        "model.add(layers.experimental.preprocessing.Resizing(227, 227,\n",
        "                                                     input_shape=train_images.shape[1:]))\n",
        "# First convolutional layer\n",
        "model.add(layers.Conv2D(96,(11,11),strides = 4, activation='relu'))  # imagesize에 맞게 큰 filter에 큰 stride 적용\n",
        "model.add(layers.Lambda(tf.nn.local_response_normalization))         # ReLU 결과값 안정화\n",
        "model.add(layers.MaxPooling2D((3,3),strides=2))                      # Overlapping Pooling\n",
        "# Second convolutional layer\n",
        "model.add(layers.Conv2D(256,(5,5),activation='relu',padding='same'))\n",
        "model.add(layers.Lambda(tf.nn.local_response_normalization))\n",
        "model.add(layers.MaxPooling2D((3,3),strides=2))\n",
        "# Thrid convolutional layer\n",
        "model.add(layers.Conv2D(384,(3,3),strides=1,activation='relu',padding='same'))\n",
        "# Fourth convolutional layer\n",
        "model.add(layers.Conv2D(384,(3,3),strides=1,activation='relu',padding='same'))\n",
        "# Fifth convolutional layer\n",
        "model.add(layers.Conv2D(256,(3,3),strides=1,activation='relu',padding='same'))\n",
        "model.add(layers.MaxPooling2D((3,3),strides=2))   # fm = 6, 6, 256 = 9216\n",
        "\n",
        "# classification layer\n",
        "model.add(layers.Flatten())\n",
        "model.add(layers.Dense(256,activation='relu'))  # 원래 : 4096\n",
        "model.add(layers.Dropout(0.5))\n",
        "model.add(layers.Dense(256,activation='relu'))  # 4096\n",
        "model.add(layers.Dropout(0.5))\n",
        "model.add(layers.Dense(10,activation='softmax'))  # 1000\n",
        "\n",
        "model.compile(optimizer='adam',\n",
        "              loss='sparse_categorical_crossentropy',\n",
        "              metrics = ['accuracy'])\n",
        "\n",
        "# kernel 개수, 크기, stride,w\n",
        "# conv, pool(overlap), LRN, FC, dropout\n",
        "# output shape : 1000 -> 10\n",
        "\n",
        "model.summary()"
      ]
    },
    {
      "cell_type": "code",
      "execution_count": null,
      "metadata": {
        "colab": {
          "base_uri": "https://localhost:8080/"
        },
        "id": "xBTxdtSureZX",
        "outputId": "d037d7bc-4f37-4c39-f5db-b7df4f465d8f"
      },
      "outputs": [
        {
          "output_type": "stream",
          "name": "stdout",
          "text": [
            "Epoch 1/10\n"
          ]
        }
      ],
      "source": [
        "model.fit(train_images, train_labels, batch_size=128, epochs=10, validation_split=0.2)"
      ]
    },
    {
      "cell_type": "code",
      "execution_count": null,
      "metadata": {
        "colab": {
          "base_uri": "https://localhost:8080/"
        },
        "id": "njRpweqMlPi8",
        "outputId": "a3840ded-a08c-4274-b1ed-a19c6407ba9d"
      },
      "outputs": [
        {
          "name": "stdout",
          "output_type": "stream",
          "text": [
            "313/313 [==============================] - 5s 15ms/step - loss: 0.2764 - accuracy: 0.9050\n"
          ]
        },
        {
          "data": {
            "text/plain": [
              "[0.2764274775981903, 0.9049999713897705]"
            ]
          },
          "execution_count": 68,
          "metadata": {},
          "output_type": "execute_result"
        }
      ],
      "source": [
        "model.evaluate(test_images, test_labels)"
      ]
    },
    {
      "cell_type": "code",
      "execution_count": null,
      "metadata": {
        "id": "tmSTegjzon0U"
      },
      "outputs": [],
      "source": [
        "# AlexNet 모델을 간소화해봅시다\n",
        "## resize없이 (28, 28, 3)으로 받아봅시다\n",
        "\n",
        "## ** activation 은 모두 relu로 유지\n",
        "## layer 1 : 32개, (3, 3), strides=1 / pooling은 (2, 2) overlapping x / normalizing 유지\n",
        "\n",
        "## layer 2 : 64개, (3, 3), strides=1 / pooling은 (2, 2) overlapping x / normalizing 유지\n",
        "\n",
        "## layer 3 : 128개, (3, 3), strides=1 / pooling은 (2, 2) overlapping x\n",
        "\n",
        "## layer 4, 5 : 삭제\n",
        "\n",
        "## fully connected layer 1, 2 : node 원하는대로 주기\n"
      ]
    },
    {
      "cell_type": "markdown",
      "source": [
        "# pytorch 기반 alexnet 구현"
      ],
      "metadata": {
        "id": "Y1X-bvuK7uDz"
      }
    },
    {
      "cell_type": "code",
      "source": [
        "import torch\n",
        "import torch.nn as nn\n",
        "\n",
        "class AlexNet(nn.Module):\n",
        "    def __init__(self, num_classes=1000):\n",
        "        super(AlexNet, self).__init__()\n",
        "        self.features = nn.Sequential(\n",
        "            nn.Conv2d(3, 96, kernel_size=11, stride=4),\n",
        "            nn.ReLU(),\n",
        "            nn.LocalResponseNorm(size=5),\n",
        "            nn.MaxPool2d(kernel_size=3, stride=2),\n",
        "\n",
        "            nn.Conv2d(96, 192, kernel_size=5, padding=2),\n",
        "            nn.ReLU(),\n",
        "            nn.LocalResponseNorm(size=5),\n",
        "            nn.MaxPool2d(kernel_size=3, stride=2),\n",
        "\n",
        "            nn.Conv2d(192, 384, kernel_size=3, padding=1),\n",
        "            nn.ReLU(),\n",
        "            nn.Conv2d(384, 384, kernel_size=3, padding=1),\n",
        "            nn.ReLU(),\n",
        "            nn.Conv2d(384, 256, kernel_size=3, padding=1),\n",
        "            nn.ReLU(),\n",
        "            nn.MaxPool2d(kernel_size=3, stride=2),\n",
        "        )\n",
        "        self.classifier = nn.Sequential(\n",
        "            nn.Linear(256 * 6 * 6, 4096),\n",
        "            nn.ReLU(),\n",
        "            nn.Dropout(0.5),\n",
        "            nn.Linear(4096, 4096),\n",
        "            nn.ReLU(),\n",
        "            nn.Dropout(0.5),\n",
        "            nn.Linear(4096, num_classes),\n",
        "        )\n",
        "\n",
        "    def forward(self, x):\n",
        "        x = self.features(x)\n",
        "        x = x.view(x.size(0), -1)\n",
        "        x = self.classifier(x)\n",
        "        return x\n"
      ],
      "metadata": {
        "id": "zJrWgp0d7t2z"
      },
      "execution_count": 13,
      "outputs": []
    },
    {
      "cell_type": "code",
      "source": [
        "model = AlexNet(num_classes=10)\n",
        "print(model)"
      ],
      "metadata": {
        "colab": {
          "base_uri": "https://localhost:8080/"
        },
        "id": "7FCKvizSL2Bj",
        "outputId": "476387fb-fd34-490a-995b-41403b7022f9"
      },
      "execution_count": 14,
      "outputs": [
        {
          "output_type": "stream",
          "name": "stdout",
          "text": [
            "AlexNet(\n",
            "  (features): Sequential(\n",
            "    (0): Conv2d(3, 96, kernel_size=(11, 11), stride=(4, 4))\n",
            "    (1): ReLU()\n",
            "    (2): LocalResponseNorm(5, alpha=0.0001, beta=0.75, k=1.0)\n",
            "    (3): MaxPool2d(kernel_size=3, stride=2, padding=0, dilation=1, ceil_mode=False)\n",
            "    (4): Conv2d(96, 192, kernel_size=(5, 5), stride=(1, 1), padding=(2, 2))\n",
            "    (5): ReLU()\n",
            "    (6): LocalResponseNorm(5, alpha=0.0001, beta=0.75, k=1.0)\n",
            "    (7): MaxPool2d(kernel_size=3, stride=2, padding=0, dilation=1, ceil_mode=False)\n",
            "    (8): Conv2d(192, 384, kernel_size=(3, 3), stride=(1, 1), padding=(1, 1))\n",
            "    (9): ReLU()\n",
            "    (10): Conv2d(384, 384, kernel_size=(3, 3), stride=(1, 1), padding=(1, 1))\n",
            "    (11): ReLU()\n",
            "    (12): Conv2d(384, 256, kernel_size=(3, 3), stride=(1, 1), padding=(1, 1))\n",
            "    (13): ReLU()\n",
            "    (14): MaxPool2d(kernel_size=3, stride=2, padding=0, dilation=1, ceil_mode=False)\n",
            "  )\n",
            "  (classifier): Sequential(\n",
            "    (0): Linear(in_features=9216, out_features=4096, bias=True)\n",
            "    (1): ReLU()\n",
            "    (2): Dropout(p=0.5, inplace=False)\n",
            "    (3): Linear(in_features=4096, out_features=4096, bias=True)\n",
            "    (4): ReLU()\n",
            "    (5): Dropout(p=0.5, inplace=False)\n",
            "    (6): Linear(in_features=4096, out_features=10, bias=True)\n",
            "  )\n",
            ")\n"
          ]
        }
      ]
    }
  ],
  "metadata": {
    "colab": {
      "provenance": [],
      "include_colab_link": true
    },
    "kernelspec": {
      "display_name": "Python 3",
      "name": "python3"
    },
    "language_info": {
      "name": "python"
    }
  },
  "nbformat": 4,
  "nbformat_minor": 0
}