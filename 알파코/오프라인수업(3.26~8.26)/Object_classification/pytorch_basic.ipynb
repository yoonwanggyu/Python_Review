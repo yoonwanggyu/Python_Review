{
  "nbformat": 4,
  "nbformat_minor": 0,
  "metadata": {
    "colab": {
      "provenance": [],
      "toc_visible": true,
      "include_colab_link": true
    },
    "kernelspec": {
      "name": "python3",
      "display_name": "Python 3"
    },
    "language_info": {
      "name": "python"
    }
  },
  "cells": [
    {
      "cell_type": "markdown",
      "metadata": {
        "id": "view-in-github",
        "colab_type": "text"
      },
      "source": [
        "<a href=\"https://colab.research.google.com/github/yoonwanggyu/Self_Study/blob/main/%EC%98%A4%ED%94%84%EB%9D%BC%EC%9D%B8/pytorch_basic.ipynb\" target=\"_parent\"><img src=\"https://colab.research.google.com/assets/colab-badge.svg\" alt=\"Open In Colab\"/></a>"
      ]
    },
    {
      "cell_type": "markdown",
      "source": [
        "# 1. 텐서"
      ],
      "metadata": {
        "id": "KYz82egwyAEV"
      }
    },
    {
      "cell_type": "markdown",
      "source": [
        "## 1-1 텐서 생성하기"
      ],
      "metadata": {
        "id": "gRoE3w3jyDzk"
      }
    },
    {
      "cell_type": "markdown",
      "source": [
        "### 1) 텐서 다뤄보기"
      ],
      "metadata": {
        "id": "ynYpED_1yLhC"
      }
    },
    {
      "cell_type": "code",
      "execution_count": null,
      "metadata": {
        "colab": {
          "base_uri": "https://localhost:8080/",
          "height": 35
        },
        "id": "Hp0rtQGIuJ83",
        "outputId": "54ddeed2-4971-42d7-c44e-73c80d2d964b"
      },
      "outputs": [
        {
          "output_type": "execute_result",
          "data": {
            "text/plain": [
              "'2.1.0+cu121'"
            ],
            "application/vnd.google.colaboratory.intrinsic+json": {
              "type": "string"
            }
          },
          "metadata": {},
          "execution_count": 1
        }
      ],
      "source": [
        "import torch\n",
        "\n",
        "torch.__version__"
      ]
    },
    {
      "cell_type": "code",
      "source": [
        "# 2차원 형태의 텐서 생성하기\n",
        "\n",
        "\n",
        "print(torch.tensor([[1,2],[3,4]]))"
      ],
      "metadata": {
        "colab": {
          "base_uri": "https://localhost:8080/"
        },
        "id": "GLT4vlBYuM32",
        "outputId": "7ba6a499-7402-4e2b-b36e-28e85aca9f78"
      },
      "execution_count": null,
      "outputs": [
        {
          "output_type": "stream",
          "name": "stdout",
          "text": [
            "tensor([[1, 2],\n",
            "        [3, 4]])\n"
          ]
        }
      ]
    },
    {
      "cell_type": "code",
      "source": [
        "# 텐서 생성 위치 조절\n",
        "\n",
        "# default는 cpu, gpu로 연산하고 싶다면 'cuda' 입력\n",
        "print(torch.tensor([[1,2],[3,4]], device=\"cuda\"))"
      ],
      "metadata": {
        "colab": {
          "base_uri": "https://localhost:8080/"
        },
        "id": "kU0_C18LuWKU",
        "outputId": "4b641f2e-017c-4b90-8f9e-020d299dfe3c"
      },
      "execution_count": null,
      "outputs": [
        {
          "output_type": "stream",
          "name": "stdout",
          "text": [
            "tensor([[1, 2],\n",
            "        [3, 4]], device='cuda:0')\n"
          ]
        }
      ]
    },
    {
      "cell_type": "code",
      "source": [
        "print(torch.tensor([1, 2, 3], dtype=torch.float32, device='cpu', requires_grad=True))"
      ],
      "metadata": {
        "colab": {
          "base_uri": "https://localhost:8080/"
        },
        "id": "zK3rLb_1uZd2",
        "outputId": "acaca2f0-111c-49c2-8782-9c1b559ebfb0"
      },
      "execution_count": null,
      "outputs": [
        {
          "output_type": "stream",
          "name": "stdout",
          "text": [
            "tensor([1., 2., 3.], requires_grad=True)\n"
          ]
        }
      ]
    },
    {
      "cell_type": "code",
      "source": [
        "# 텐서 생성\n",
        "tensor1 = torch.tensor([1, 2, 3])\n",
        "print(tensor1)"
      ],
      "metadata": {
        "colab": {
          "base_uri": "https://localhost:8080/"
        },
        "id": "vNqeSIayub4d",
        "outputId": "8e79951b-ec30-4746-a8b4-b42a9911c621"
      },
      "execution_count": null,
      "outputs": [
        {
          "output_type": "stream",
          "name": "stdout",
          "text": [
            "tensor([1, 2, 3])\n"
          ]
        }
      ]
    },
    {
      "cell_type": "code",
      "source": [
        "# 텐서를 넘파이로\n",
        "ndarray1 = tensor1.numpy()\n",
        "print(ndarray1)"
      ],
      "metadata": {
        "colab": {
          "base_uri": "https://localhost:8080/"
        },
        "id": "sFKGbYsuuc-d",
        "outputId": "ddde29ff-6436-4538-8fa1-d1dc730aa425"
      },
      "execution_count": null,
      "outputs": [
        {
          "output_type": "stream",
          "name": "stdout",
          "text": [
            "[1 2 3]\n"
          ]
        }
      ]
    },
    {
      "cell_type": "code",
      "source": [
        "# 텐서 생성\n",
        "tensor1 = torch.tensor([1, 2, 3],device='cuda')\n",
        "print(tensor1)"
      ],
      "metadata": {
        "colab": {
          "base_uri": "https://localhost:8080/"
        },
        "id": "GioDEr3xue9F",
        "outputId": "65635887-af2b-4d1e-de12-44a22b92c727"
      },
      "execution_count": null,
      "outputs": [
        {
          "output_type": "stream",
          "name": "stdout",
          "text": [
            "tensor([1, 2, 3], device='cuda:0')\n"
          ]
        }
      ]
    },
    {
      "cell_type": "code",
      "source": [
        "# 텐서를 넘파이로\n",
        "ndarray1 = tensor1.numpy()\n",
        "print(ndarray1)"
      ],
      "metadata": {
        "colab": {
          "base_uri": "https://localhost:8080/",
          "height": 219
        },
        "id": "osTtL66bugmV",
        "outputId": "06c38b27-9c8d-43d8-b6a7-be9e1481f2ed"
      },
      "execution_count": null,
      "outputs": [
        {
          "output_type": "error",
          "ename": "TypeError",
          "evalue": "can't convert cuda:0 device type tensor to numpy. Use Tensor.cpu() to copy the tensor to host memory first.",
          "traceback": [
            "\u001b[0;31m---------------------------------------------------------------------------\u001b[0m",
            "\u001b[0;31mTypeError\u001b[0m                                 Traceback (most recent call last)",
            "\u001b[0;32m<ipython-input-8-f1ef80863d46>\u001b[0m in \u001b[0;36m<cell line: 2>\u001b[0;34m()\u001b[0m\n\u001b[1;32m      1\u001b[0m \u001b[0;31m# 텐서를 넘파이로\u001b[0m\u001b[0;34m\u001b[0m\u001b[0;34m\u001b[0m\u001b[0m\n\u001b[0;32m----> 2\u001b[0;31m \u001b[0mndarray1\u001b[0m \u001b[0;34m=\u001b[0m \u001b[0mtensor1\u001b[0m\u001b[0;34m.\u001b[0m\u001b[0mnumpy\u001b[0m\u001b[0;34m(\u001b[0m\u001b[0;34m)\u001b[0m\u001b[0;34m\u001b[0m\u001b[0;34m\u001b[0m\u001b[0m\n\u001b[0m\u001b[1;32m      3\u001b[0m \u001b[0mprint\u001b[0m\u001b[0;34m(\u001b[0m\u001b[0mndarray1\u001b[0m\u001b[0;34m)\u001b[0m\u001b[0;34m\u001b[0m\u001b[0;34m\u001b[0m\u001b[0m\n",
            "\u001b[0;31mTypeError\u001b[0m: can't convert cuda:0 device type tensor to numpy. Use Tensor.cpu() to copy the tensor to host memory first."
          ]
        }
      ]
    },
    {
      "cell_type": "code",
      "source": [
        "# 텐서 생성\n",
        "tensor1 = torch.tensor([1, 2, 3],device='cuda')\n",
        "print(tensor1)"
      ],
      "metadata": {
        "colab": {
          "base_uri": "https://localhost:8080/"
        },
        "id": "pABdyGhDuhys",
        "outputId": "97906bfb-9e08-4851-c451-0be76172d8e3"
      },
      "execution_count": null,
      "outputs": [
        {
          "output_type": "stream",
          "name": "stdout",
          "text": [
            "tensor([1, 2, 3], device='cuda:0')\n"
          ]
        }
      ]
    },
    {
      "cell_type": "code",
      "source": [
        "# 텐서 cpu로 이동\n",
        "tensor1 = tensor1.cpu()\n",
        "\n",
        "# 텐서를 넘파이로\n",
        "ndarray1 = tensor1.numpy()\n",
        "print(ndarray1)"
      ],
      "metadata": {
        "colab": {
          "base_uri": "https://localhost:8080/"
        },
        "id": "lmaeBP88ujI1",
        "outputId": "6bcd2cd8-ee38-4885-c623-ff41752368af"
      },
      "execution_count": null,
      "outputs": [
        {
          "output_type": "stream",
          "name": "stdout",
          "text": [
            "[1 2 3]\n"
          ]
        }
      ]
    },
    {
      "cell_type": "code",
      "source": [],
      "metadata": {
        "id": "sOP-RsMhunf9"
      },
      "execution_count": null,
      "outputs": []
    },
    {
      "cell_type": "markdown",
      "source": [
        "## 1-2 텐서의 차원 조작하기"
      ],
      "metadata": {
        "id": "BtKoxXlnyZRJ"
      }
    },
    {
      "cell_type": "markdown",
      "source": [
        "### 1) 텐서(Tensor)의 인덱스를 조작하는 방법!"
      ],
      "metadata": {
        "id": "jjhCUMbwynMm"
      }
    },
    {
      "cell_type": "code",
      "execution_count": null,
      "metadata": {
        "colab": {
          "base_uri": "https://localhost:8080/"
        },
        "id": "nZzB9BXtutvJ",
        "outputId": "ff85e4de-a9dc-467c-c3a9-eb9ccf1e49a0"
      },
      "outputs": [
        {
          "output_type": "stream",
          "name": "stdout",
          "text": [
            "tensor(1)\n",
            "tensor(5)\n"
          ]
        }
      ],
      "source": [
        "import torch\n",
        "\n",
        "# 1차원 텐서 생성\n",
        "tensor = torch.tensor([1, 2, 3, 4, 5])\n",
        "\n",
        "\n",
        "# 첫 번째 원소에 접근\n",
        "print(tensor[0])\n",
        "\n",
        " # 마지막 원소에 접근\n",
        "print(tensor[-1])"
      ]
    },
    {
      "cell_type": "code",
      "source": [
        "# 2차원 텐서 생성\n",
        "tensor = torch.tensor([[1, 2, 3], [4, 5, 6], [7, 8, 9]])\n",
        "\n",
        "# 텐서 형태 보기\n",
        "print(tensor)\n",
        "\n",
        "  # 첫 번째 행, 첫 번째 열의 원소에 접근\n",
        "print(tensor[0, 0])\n",
        "\n",
        "# 두 번째 행, 세 번째 열의 원소에 접근\n",
        "print(tensor[1, 2])"
      ],
      "metadata": {
        "colab": {
          "base_uri": "https://localhost:8080/"
        },
        "id": "RWbwv87duw4W",
        "outputId": "13b5108b-8c9e-4e39-f380-7f9d2f7b694d"
      },
      "execution_count": null,
      "outputs": [
        {
          "output_type": "stream",
          "name": "stdout",
          "text": [
            "tensor([[1, 2, 3],\n",
            "        [4, 5, 6],\n",
            "        [7, 8, 9]])\n",
            "tensor(1)\n",
            "tensor(6)\n"
          ]
        }
      ]
    },
    {
      "cell_type": "code",
      "source": [
        "# 2차원 텐서 생성\n",
        "tensor = torch.tensor([[1, 2, 3], [4, 5, 6], [7, 8, 9]])\n",
        "\n",
        "# 텐서 형태 보기\n",
        "print(tensor)\n",
        "\n",
        " # 두 번째 행의 모든 원소에 접근\n",
        "print(tensor[1, :])\n",
        "\n",
        " # 첫 번째 행의 첫 번째부터 두 번째 원소에 접근\n",
        "print(tensor[0, 0:2])"
      ],
      "metadata": {
        "colab": {
          "base_uri": "https://localhost:8080/"
        },
        "id": "avBREYzSuyEO",
        "outputId": "6364b66d-1a25-4ba8-e2e1-23d7b03fb7af"
      },
      "execution_count": null,
      "outputs": [
        {
          "output_type": "stream",
          "name": "stdout",
          "text": [
            "tensor([[1, 2, 3],\n",
            "        [4, 5, 6],\n",
            "        [7, 8, 9]])\n",
            "tensor([4, 5, 6])\n",
            "tensor([1, 2])\n"
          ]
        }
      ]
    },
    {
      "cell_type": "code",
      "source": [
        "import torch\n",
        "# 2차원 텐서 생성\n",
        "tensor = torch.tensor([[1, 2, 3], [4, 5, 6], [7, 8, 9]])\n",
        "\n",
        "# 텐서 형태 보기\n",
        "print(tensor)\n",
        "\n",
        " # 두 번째 열의 모든 원소에 접근\n",
        "print(tensor[:, 1])\n",
        "print(tensor[:, 1].shape)   # 3행\n",
        "\n",
        " # 첫 번째 열의 첫 번째부터 두 번째 원소에 접근\n",
        "print(tensor[0:2, 0])"
      ],
      "metadata": {
        "colab": {
          "base_uri": "https://localhost:8080/"
        },
        "id": "73X5MbI7uzP1",
        "outputId": "bdd09dd7-b6b2-455e-fd33-bee52d5ac958"
      },
      "execution_count": 3,
      "outputs": [
        {
          "output_type": "stream",
          "name": "stdout",
          "text": [
            "tensor([[1, 2, 3],\n",
            "        [4, 5, 6],\n",
            "        [7, 8, 9]])\n",
            "tensor([2, 5, 8])\n",
            "torch.Size([3])\n",
            "tensor([1, 4])\n"
          ]
        }
      ]
    },
    {
      "cell_type": "markdown",
      "source": [
        "### 2) 텐서(Tensor)의 차원을 조작하는 방법!"
      ],
      "metadata": {
        "id": "1KfACHQjyuis"
      }
    },
    {
      "cell_type": "markdown",
      "source": [
        "#### (1) Reshape, View"
      ],
      "metadata": {
        "id": "DfWKlyany918"
      }
    },
    {
      "cell_type": "code",
      "source": [
        "import torch\n",
        "\n",
        "# 원래 1차원 텐서 생성\n",
        "tensor = torch.arange(6)  # tensor: [0, 1, 2, 3, 4, 5]\n",
        "print(\"원래의 tensor :\",tensor)\n",
        "print(tensor.shape)     # 6행\n",
        "print(\"\")\n",
        "\n",
        "# reshape 함수를 사용하여 텐서의 형태 변경\n",
        "reshaped_tensor = torch.reshape(tensor, (2, 3))\n",
        "print(\"reshape 함수 사용 :\", reshaped_tensor)\n",
        "print(\"\")\n",
        "\n",
        "# view 함수를 사용하여 텐서의 형태 변경\n",
        "viewed_tensor = tensor.view((2, 3))\n",
        "print(\"view 함수 사용 :\", viewed_tensor )"
      ],
      "metadata": {
        "colab": {
          "base_uri": "https://localhost:8080/"
        },
        "id": "E_wRsuoLu0aN",
        "outputId": "83b793b8-6e88-4128-dffc-2390329f39fa"
      },
      "execution_count": 3,
      "outputs": [
        {
          "output_type": "stream",
          "name": "stdout",
          "text": [
            "원래의 tensor : tensor([0, 1, 2, 3, 4, 5])\n",
            "torch.Size([6])\n",
            "\n",
            "reshape 함수 사용 : tensor([[0, 1, 2],\n",
            "        [3, 4, 5]])\n",
            "\n",
            "view 함수 사용 : tensor([[0, 1, 2],\n",
            "        [3, 4, 5]])\n"
          ]
        }
      ]
    },
    {
      "cell_type": "code",
      "source": [
        "# 원래 1차원 텐서 생성\n",
        "tensor = torch.arange(6)  # tensor: [0, 1, 2, 3, 4, 5]\n",
        "print(\"원래의 tensor :\",tensor)\n",
        "print(\"\")\n",
        "\n",
        "# view 함수를 사용하여 텐서의 형태 변경\n",
        "viewed_tensor = tensor.view((2, 4))\n",
        "print(\"view 함수 사용 :\", viewed_tensor)"
      ],
      "metadata": {
        "colab": {
          "base_uri": "https://localhost:8080/",
          "height": 237
        },
        "id": "ghP1hvebu2Gv",
        "outputId": "a0e9e776-3db7-4c24-cb25-40d20c498f19"
      },
      "execution_count": 4,
      "outputs": [
        {
          "output_type": "stream",
          "name": "stdout",
          "text": [
            "원래의 tensor : tensor([0, 1, 2, 3, 4, 5])\n",
            "\n"
          ]
        },
        {
          "output_type": "error",
          "ename": "RuntimeError",
          "evalue": "shape '[2, 4]' is invalid for input of size 6",
          "traceback": [
            "\u001b[0;31m---------------------------------------------------------------------------\u001b[0m",
            "\u001b[0;31mRuntimeError\u001b[0m                              Traceback (most recent call last)",
            "\u001b[0;32m<ipython-input-4-4093239594f2>\u001b[0m in \u001b[0;36m<cell line: 7>\u001b[0;34m()\u001b[0m\n\u001b[1;32m      5\u001b[0m \u001b[0;34m\u001b[0m\u001b[0m\n\u001b[1;32m      6\u001b[0m \u001b[0;31m# view 함수를 사용하여 텐서의 형태 변경\u001b[0m\u001b[0;34m\u001b[0m\u001b[0;34m\u001b[0m\u001b[0m\n\u001b[0;32m----> 7\u001b[0;31m \u001b[0mviewed_tensor\u001b[0m \u001b[0;34m=\u001b[0m \u001b[0mtensor\u001b[0m\u001b[0;34m.\u001b[0m\u001b[0mview\u001b[0m\u001b[0;34m(\u001b[0m\u001b[0;34m(\u001b[0m\u001b[0;36m2\u001b[0m\u001b[0;34m,\u001b[0m \u001b[0;36m4\u001b[0m\u001b[0;34m)\u001b[0m\u001b[0;34m)\u001b[0m\u001b[0;34m\u001b[0m\u001b[0;34m\u001b[0m\u001b[0m\n\u001b[0m\u001b[1;32m      8\u001b[0m \u001b[0mprint\u001b[0m\u001b[0;34m(\u001b[0m\u001b[0;34m\"view 함수 사용 :\"\u001b[0m\u001b[0;34m,\u001b[0m \u001b[0mviewed_tensor\u001b[0m\u001b[0;34m)\u001b[0m\u001b[0;34m\u001b[0m\u001b[0;34m\u001b[0m\u001b[0m\n",
            "\u001b[0;31mRuntimeError\u001b[0m: shape '[2, 4]' is invalid for input of size 6"
          ]
        }
      ]
    },
    {
      "cell_type": "code",
      "source": [
        "# 원래 1차원 텐서 생성\n",
        "tensor = torch.arange(6)  # tensor: [0, 1, 2, 3, 4, 5]\n",
        "print(\"원래의 tensor :\",tensor)\n",
        "print(\"\")\n",
        "\n",
        "# 2차원 텐서로 변형. 열의 수 자동 계산\n",
        "viewed_tensor = tensor.view((2, -1))    # 2행 n열로 : 2행까지는 정해주고 열은 알아서 맞춰줘라\n",
        "print(\"2행 x열 :\", viewed_tensor )\n",
        "print(\"\")\n",
        "\n",
        "# 2차원 텐서로 변형. 행의 수 자동 계산\n",
        "viewed_tensor = tensor.view((-1, 2))\n",
        "print(\"x행 2열 :\", viewed_tensor )"
      ],
      "metadata": {
        "colab": {
          "base_uri": "https://localhost:8080/"
        },
        "id": "7I0-ea_Wu3ct",
        "outputId": "91f3df6e-c632-4dc2-e2da-011395ddf88c"
      },
      "execution_count": 6,
      "outputs": [
        {
          "output_type": "stream",
          "name": "stdout",
          "text": [
            "원래의 tensor : tensor([0, 1, 2, 3, 4, 5])\n",
            "\n",
            "2행 x열 : tensor([[0, 1, 2],\n",
            "        [3, 4, 5]])\n",
            "\n",
            "x행 2열 : tensor([[0, 1],\n",
            "        [2, 3],\n",
            "        [4, 5]])\n"
          ]
        }
      ]
    },
    {
      "cell_type": "markdown",
      "source": [
        "#### (2) Squeeze, Unsqueeze"
      ],
      "metadata": {
        "id": "fiKz-ZZ6zG9H"
      }
    },
    {
      "cell_type": "code",
      "source": [
        "# 크기가 (1, 3, 3)인 텐서\n",
        "tensor = torch.arange(9).view((1,-1))   # 9행에서 1행 9열로 -> 2차원\n",
        "print(tensor) # (1, 9)\n",
        "print(tensor.shape)\n",
        "print(\"\")\n",
        "\n",
        " # 첫 번째 차원 제거\n",
        "print(tensor.squeeze(0))\n",
        "print(tensor.squeeze(0).shape) # (9) = 9행"
      ],
      "metadata": {
        "colab": {
          "base_uri": "https://localhost:8080/"
        },
        "id": "YgcODaeEu7H2",
        "outputId": "56444a92-f682-495e-8230-0ffbb3e9fb47"
      },
      "execution_count": 8,
      "outputs": [
        {
          "output_type": "stream",
          "name": "stdout",
          "text": [
            "tensor([[0, 1, 2, 3, 4, 5, 6, 7, 8]])\n",
            "torch.Size([1, 9])\n",
            "\n",
            "tensor([0, 1, 2, 3, 4, 5, 6, 7, 8])\n",
            "torch.Size([9])\n"
          ]
        }
      ]
    },
    {
      "cell_type": "code",
      "source": [
        "# 크기가 (1, 3, 3)인 텐서\n",
        "tensor = torch.arange(9)\n",
        "print(tensor)\n",
        "print(tensor.shape)\n",
        "print(\"\")\n",
        "\n",
        " # 첫 번째 차원 추가\n",
        "print(tensor.unsqueeze(0))\n",
        "print(tensor.unsqueeze(0).shape)"
      ],
      "metadata": {
        "colab": {
          "base_uri": "https://localhost:8080/"
        },
        "id": "1j59Qw8Uu9FN",
        "outputId": "495641aa-ccff-4a59-8e05-735015e8e514"
      },
      "execution_count": 5,
      "outputs": [
        {
          "output_type": "stream",
          "name": "stdout",
          "text": [
            "tensor([0, 1, 2, 3, 4, 5, 6, 7, 8])\n",
            "torch.Size([9])\n",
            "\n",
            "tensor([[0, 1, 2, 3, 4, 5, 6, 7, 8]])\n",
            "torch.Size([1, 9])\n"
          ]
        }
      ]
    },
    {
      "cell_type": "markdown",
      "source": [
        "문제) 아래 (3, 1, 4) 모양의 텐서 'x'가 있습니다. 'squeeze' 및 'unsqueeze'를 사용하여 필요한 작업을 수행하여 모양 (3, 4)의 텐서로 다시 만드세요."
      ],
      "metadata": {
        "id": "q4Ok3DLAh99e"
      }
    },
    {
      "cell_type": "code",
      "source": [
        "import torch\n",
        "\n",
        "x = torch.randn(3, 1, 4) # 맨 뒤가 젤 안쪽이다\n",
        "x"
      ],
      "metadata": {
        "colab": {
          "base_uri": "https://localhost:8080/"
        },
        "id": "3ONlDAGKiFqh",
        "outputId": "98073c13-3dae-4dc1-9a70-3ed70a4393a1"
      },
      "execution_count": 7,
      "outputs": [
        {
          "output_type": "execute_result",
          "data": {
            "text/plain": [
              "tensor([[[-0.4995, -0.0394, -0.7908,  0.8528]],\n",
              "\n",
              "        [[ 0.8552, -1.3193, -0.3741, -1.8537]],\n",
              "\n",
              "        [[ 1.6143, -0.1403,  1.4312,  0.5376]]])"
            ]
          },
          "metadata": {},
          "execution_count": 7
        }
      ]
    },
    {
      "cell_type": "code",
      "source": [
        "x_sq = x.squeeze(1)\n",
        "x_sq.shape"
      ],
      "metadata": {
        "colab": {
          "base_uri": "https://localhost:8080/"
        },
        "id": "Z7NaomdZiJrD",
        "outputId": "d983f39f-dabb-4784-ddfb-d98e11f79367"
      },
      "execution_count": 8,
      "outputs": [
        {
          "output_type": "execute_result",
          "data": {
            "text/plain": [
              "torch.Size([3, 4])"
            ]
          },
          "metadata": {},
          "execution_count": 8
        }
      ]
    },
    {
      "cell_type": "code",
      "source": [
        "x_sq"
      ],
      "metadata": {
        "colab": {
          "base_uri": "https://localhost:8080/"
        },
        "id": "RhlSJF-rl8xj",
        "outputId": "20cff6e5-f394-4806-c20b-e59590102e7f"
      },
      "execution_count": 9,
      "outputs": [
        {
          "output_type": "execute_result",
          "data": {
            "text/plain": [
              "tensor([[-0.4995, -0.0394, -0.7908,  0.8528],\n",
              "        [ 0.8552, -1.3193, -0.3741, -1.8537],\n",
              "        [ 1.6143, -0.1403,  1.4312,  0.5376]])"
            ]
          },
          "metadata": {},
          "execution_count": 9
        }
      ]
    },
    {
      "cell_type": "markdown",
      "source": [
        "문제) 다시 (1, 3, 4) 모양의 텐서로 만드세요"
      ],
      "metadata": {
        "id": "dbh8buHUiNxx"
      }
    },
    {
      "cell_type": "code",
      "source": [
        "x_un = x_sq.unsqueeze(0)\n",
        "x_un"
      ],
      "metadata": {
        "colab": {
          "base_uri": "https://localhost:8080/"
        },
        "id": "8WACa5friNaa",
        "outputId": "138009c8-df4e-4d95-bbe9-0d2452a6052a"
      },
      "execution_count": 10,
      "outputs": [
        {
          "output_type": "execute_result",
          "data": {
            "text/plain": [
              "tensor([[[-0.4995, -0.0394, -0.7908,  0.8528],\n",
              "         [ 0.8552, -1.3193, -0.3741, -1.8537],\n",
              "         [ 1.6143, -0.1403,  1.4312,  0.5376]]])"
            ]
          },
          "metadata": {},
          "execution_count": 10
        }
      ]
    },
    {
      "cell_type": "code",
      "source": [
        "x_un.shape"
      ],
      "metadata": {
        "colab": {
          "base_uri": "https://localhost:8080/"
        },
        "id": "kruAvMFUmGqz",
        "outputId": "1184a41f-adc1-4188-dcda-2cf6f50f3722"
      },
      "execution_count": 11,
      "outputs": [
        {
          "output_type": "execute_result",
          "data": {
            "text/plain": [
              "torch.Size([1, 3, 4])"
            ]
          },
          "metadata": {},
          "execution_count": 11
        }
      ]
    },
    {
      "cell_type": "markdown",
      "source": [
        "#### (3) Transpose, cat, stack"
      ],
      "metadata": {
        "id": "3HG4YzVozNCc"
      }
    },
    {
      "cell_type": "code",
      "source": [
        "import torch\n",
        "\n",
        "# 원래 텐서 생성\n",
        "tensor = torch.tensor([[1, 2, 3], [4, 5, 6]])\n",
        "print(\"Original Tensor:\")\n",
        "print(tensor)\n",
        "print(tensor.shape)\n",
        "print(\"\")\n",
        "\n",
        "# transpose 함수를 사용하여 첫 번째 차원과 두 번째 차원의 위치를 바꿈\n",
        "transposed_tensor = torch.transpose(tensor, 0, 1)\n",
        "print(\"Transposed Tensor:\")\n",
        "print(transposed_tensor)\n",
        "print(transposed_tensor.shape)"
      ],
      "metadata": {
        "colab": {
          "base_uri": "https://localhost:8080/"
        },
        "id": "VLNvUmsmu-E2",
        "outputId": "8d494f46-37da-4328-e166-4583c365ca0c"
      },
      "execution_count": 12,
      "outputs": [
        {
          "output_type": "stream",
          "name": "stdout",
          "text": [
            "Original Tensor:\n",
            "tensor([[1, 2, 3],\n",
            "        [4, 5, 6]])\n",
            "torch.Size([2, 3])\n",
            "\n",
            "Transposed Tensor:\n",
            "tensor([[1, 4],\n",
            "        [2, 5],\n",
            "        [3, 6]])\n",
            "torch.Size([3, 2])\n"
          ]
        }
      ]
    },
    {
      "cell_type": "code",
      "source": [
        "# 원래 3차원 텐서 생성\n",
        "tensor = torch.tensor([[[1, 2, 3], [4, 5, 6]], [[7, 8, 9], [10, 11, 12]]])\n",
        "print(\"Original Tensor:\")\n",
        "print(tensor)\n",
        "print(tensor.shape)\n",
        "print(\"\")\n",
        "\n",
        "# transpose 함수를 사용하여 첫 번째 차원과 세 번째 차원의 위치를 바꿈\n",
        "transposed_tensor = torch.transpose(tensor, 0, 2)\n",
        "print(\"Transposed Tensor:\")\n",
        "print(transposed_tensor)\n",
        "print(transposed_tensor.shape)"
      ],
      "metadata": {
        "colab": {
          "base_uri": "https://localhost:8080/"
        },
        "id": "EDyJXt6JvQBW",
        "outputId": "78bced59-a89d-4540-b562-0db6c0daad1d"
      },
      "execution_count": 13,
      "outputs": [
        {
          "output_type": "stream",
          "name": "stdout",
          "text": [
            "Original Tensor:\n",
            "tensor([[[ 1,  2,  3],\n",
            "         [ 4,  5,  6]],\n",
            "\n",
            "        [[ 7,  8,  9],\n",
            "         [10, 11, 12]]])\n",
            "torch.Size([2, 2, 3])\n",
            "\n",
            "Transposed Tensor:\n",
            "tensor([[[ 1,  7],\n",
            "         [ 4, 10]],\n",
            "\n",
            "        [[ 2,  8],\n",
            "         [ 5, 11]],\n",
            "\n",
            "        [[ 3,  9],\n",
            "         [ 6, 12]]])\n",
            "torch.Size([3, 2, 2])\n"
          ]
        }
      ]
    },
    {
      "cell_type": "code",
      "source": [
        "# 원래 텐서 생성\n",
        "tensor1 = torch.tensor([[1, 2, 3],[4, 5, 6]])\n",
        "tensor2 = torch.tensor([[7, 8, 9],[10,11,12],[13,14,15]])\n",
        "print(\"Original Tensors:\")\n",
        "print(tensor1)\n",
        "print(\"tensor1 size :\", tensor1.shape)\n",
        "print(tensor2)\n",
        "print(\"tensor2 size :\", tensor2.shape)\n",
        "print(\"\")\n",
        "\n",
        "# cat 함수를 사용하여 두 텐서를 연결\n",
        "cat_tensor = torch.cat((tensor1, tensor2), dim=0)\n",
        "print(\"Concatenated Tensor:\")\n",
        "print(cat_tensor)\n",
        "print(\"cat_tensor size :\", cat_tensor.shape)"
      ],
      "metadata": {
        "colab": {
          "base_uri": "https://localhost:8080/"
        },
        "id": "D0P4W1FbvReO",
        "outputId": "52b486f9-7932-4d4a-ad23-aef48dcdf394"
      },
      "execution_count": 14,
      "outputs": [
        {
          "output_type": "stream",
          "name": "stdout",
          "text": [
            "Original Tensors:\n",
            "tensor([[1, 2, 3],\n",
            "        [4, 5, 6]])\n",
            "tensor1 size : torch.Size([2, 3])\n",
            "tensor([[ 7,  8,  9],\n",
            "        [10, 11, 12],\n",
            "        [13, 14, 15]])\n",
            "tensor2 size : torch.Size([3, 3])\n",
            "\n",
            "Concatenated Tensor:\n",
            "tensor([[ 1,  2,  3],\n",
            "        [ 4,  5,  6],\n",
            "        [ 7,  8,  9],\n",
            "        [10, 11, 12],\n",
            "        [13, 14, 15]])\n",
            "cat_tensor size : torch.Size([5, 3])\n"
          ]
        }
      ]
    },
    {
      "cell_type": "code",
      "source": [
        "# 원래 텐서 생성\n",
        "tensor1 = torch.tensor([[1, 2, 3],[4, 5, 6]])\n",
        "tensor2 = torch.tensor([[7, 8, 9],[10,11,12],[13,14,15]])\n",
        "print(\"Original Tensors:\")\n",
        "print(tensor1)\n",
        "print(\"tensor1 size :\", tensor1.shape)\n",
        "print(tensor2)\n",
        "print(\"tensor2 size :\", tensor2.shape)\n",
        "print(\"\")\n",
        "\n",
        "# cat 함수를 사용하여 두 텐서를 연결\n",
        "cat_tensor = torch.stack((tensor1, tensor2), dim=0)\n",
        "print(\"Concatenated Tensor:\")\n",
        "print(cat_tensor)\n",
        "print(\"cat_tensor size :\", cat_tensor.shape)"
      ],
      "metadata": {
        "colab": {
          "base_uri": "https://localhost:8080/",
          "height": 382
        },
        "id": "n1EJ2SamvTrt",
        "outputId": "7f8611eb-39ff-441b-b72e-e831ce28833e"
      },
      "execution_count": 15,
      "outputs": [
        {
          "output_type": "stream",
          "name": "stdout",
          "text": [
            "Original Tensors:\n",
            "tensor([[1, 2, 3],\n",
            "        [4, 5, 6]])\n",
            "tensor1 size : torch.Size([2, 3])\n",
            "tensor([[ 7,  8,  9],\n",
            "        [10, 11, 12],\n",
            "        [13, 14, 15]])\n",
            "tensor2 size : torch.Size([3, 3])\n",
            "\n"
          ]
        },
        {
          "output_type": "error",
          "ename": "RuntimeError",
          "evalue": "stack expects each tensor to be equal size, but got [2, 3] at entry 0 and [3, 3] at entry 1",
          "traceback": [
            "\u001b[0;31m---------------------------------------------------------------------------\u001b[0m",
            "\u001b[0;31mRuntimeError\u001b[0m                              Traceback (most recent call last)",
            "\u001b[0;32m<ipython-input-15-b027d2425a52>\u001b[0m in \u001b[0;36m<cell line: 12>\u001b[0;34m()\u001b[0m\n\u001b[1;32m     10\u001b[0m \u001b[0;34m\u001b[0m\u001b[0m\n\u001b[1;32m     11\u001b[0m \u001b[0;31m# cat 함수를 사용하여 두 텐서를 연결\u001b[0m\u001b[0;34m\u001b[0m\u001b[0;34m\u001b[0m\u001b[0m\n\u001b[0;32m---> 12\u001b[0;31m \u001b[0mcat_tensor\u001b[0m \u001b[0;34m=\u001b[0m \u001b[0mtorch\u001b[0m\u001b[0;34m.\u001b[0m\u001b[0mstack\u001b[0m\u001b[0;34m(\u001b[0m\u001b[0;34m(\u001b[0m\u001b[0mtensor1\u001b[0m\u001b[0;34m,\u001b[0m \u001b[0mtensor2\u001b[0m\u001b[0;34m)\u001b[0m\u001b[0;34m,\u001b[0m \u001b[0mdim\u001b[0m\u001b[0;34m=\u001b[0m\u001b[0;36m0\u001b[0m\u001b[0;34m)\u001b[0m\u001b[0;34m\u001b[0m\u001b[0;34m\u001b[0m\u001b[0m\n\u001b[0m\u001b[1;32m     13\u001b[0m \u001b[0mprint\u001b[0m\u001b[0;34m(\u001b[0m\u001b[0;34m\"Concatenated Tensor:\"\u001b[0m\u001b[0;34m)\u001b[0m\u001b[0;34m\u001b[0m\u001b[0;34m\u001b[0m\u001b[0m\n\u001b[1;32m     14\u001b[0m \u001b[0mprint\u001b[0m\u001b[0;34m(\u001b[0m\u001b[0mcat_tensor\u001b[0m\u001b[0;34m)\u001b[0m\u001b[0;34m\u001b[0m\u001b[0;34m\u001b[0m\u001b[0m\n",
            "\u001b[0;31mRuntimeError\u001b[0m: stack expects each tensor to be equal size, but got [2, 3] at entry 0 and [3, 3] at entry 1"
          ]
        }
      ]
    },
    {
      "cell_type": "code",
      "source": [
        "# 원래 텐서 생성\n",
        "tensor1 = torch.tensor([[1, 2, 3],[4, 5, 6]])\n",
        "tensor2 = torch.tensor([[7, 8, 9],[10,11,12]])\n",
        "print(\"Original Tensors:\")\n",
        "print(tensor1)\n",
        "print(\"tensor1 size :\", tensor1.shape)\n",
        "print(tensor2)\n",
        "print(\"tensor2 size :\", tensor2.shape)\n",
        "print(\"\")\n",
        "\n",
        "# stack 함수를 사용하여 두 텐서를 연결\n",
        "stack_tensor = torch.stack((tensor1, tensor2), dim=0)\n",
        "print(\"Constackenated Tensor:\")\n",
        "print(stack_tensor)\n",
        "print(\"stack_tensor size :\", stack_tensor.shape)"
      ],
      "metadata": {
        "colab": {
          "base_uri": "https://localhost:8080/"
        },
        "id": "mmUUiNY9vVq-",
        "outputId": "f37db561-b8e7-4e25-dc5a-530cd72e6eab"
      },
      "execution_count": 16,
      "outputs": [
        {
          "output_type": "stream",
          "name": "stdout",
          "text": [
            "Original Tensors:\n",
            "tensor([[1, 2, 3],\n",
            "        [4, 5, 6]])\n",
            "tensor1 size : torch.Size([2, 3])\n",
            "tensor([[ 7,  8,  9],\n",
            "        [10, 11, 12]])\n",
            "tensor2 size : torch.Size([2, 3])\n",
            "\n",
            "Constackenated Tensor:\n",
            "tensor([[[ 1,  2,  3],\n",
            "         [ 4,  5,  6]],\n",
            "\n",
            "        [[ 7,  8,  9],\n",
            "         [10, 11, 12]]])\n",
            "stack_tensor size : torch.Size([2, 2, 3])\n"
          ]
        }
      ]
    },
    {
      "cell_type": "markdown",
      "source": [
        "문제:\n",
        "1. (2, 3) 모양의 텐서 'A'가 있습니다. 텐서를 전치하고 결과를 'A_transposed'에 저장합니다.\n",
        "  \n",
        "  \n",
        "2. 각각 모양이 (4, 3)과 (4, 3)인 두 개의 텐서 'B'와 'C'가 있습니다. 지정된 차원을 따라 연결하여 새 텐서 'D'를 만듭니다.  \n",
        "  \n",
        "\n",
        "3. 모양이 (3,)과 (3,)인 두 개의 텐서 'E'와 'F'가 있습니다. 이를 새로운 차원에 따라 쌓아 2D 텐서 'G'를 만듭니다."
      ],
      "metadata": {
        "id": "GCLr9zZTifyS"
      }
    },
    {
      "cell_type": "code",
      "source": [],
      "metadata": {
        "id": "OHrBmjnDdVMS"
      },
      "execution_count": null,
      "outputs": []
    },
    {
      "cell_type": "code",
      "source": [
        "# 1\n",
        "A = torch.randn(2, 3)\n",
        "A_transposed = torch.transpose(A, 0, 1)\n",
        "print(A_transposed)\n",
        "\n",
        "# 2\n",
        "B = torch.randn(4, 3)\n",
        "C = torch.randn(4, 3)\n",
        "cat = torch.cat((B, C), dim=0)\n",
        "print(cat)\n",
        "\n",
        "# 3\n",
        "E = torch.randn(3)\n",
        "F = torch.randn(3)\n",
        "stk = torch.stack((E, F), dim=0)\n",
        "print(stk)"
      ],
      "metadata": {
        "id": "cyxCKx3PvXKf",
        "colab": {
          "base_uri": "https://localhost:8080/"
        },
        "outputId": "39885e17-6306-44a1-81c2-a5ccfe72e534"
      },
      "execution_count": null,
      "outputs": [
        {
          "output_type": "stream",
          "name": "stdout",
          "text": [
            "tensor([[ 0.0187,  0.0291],\n",
            "        [-0.0402, -1.6266],\n",
            "        [-0.0068, -1.0458]])\n",
            "tensor([[ 0.9861,  1.0260,  0.5935],\n",
            "        [ 0.7280,  0.7304,  0.9811],\n",
            "        [-1.0486,  1.3183, -1.0224],\n",
            "        [ 0.5366,  1.0343,  0.7470],\n",
            "        [-0.2151, -0.1029, -1.9291],\n",
            "        [-0.5190,  1.4203,  0.8539],\n",
            "        [-0.5331, -1.0012,  1.2112],\n",
            "        [ 1.9187, -1.1432, -0.7649]])\n",
            "tensor([[ 1.4829, -0.1285, -0.0522],\n",
            "        [ 0.5129,  1.3644, -0.9996]])\n"
          ]
        }
      ]
    },
    {
      "cell_type": "markdown",
      "source": [
        "## 1-3. 텐서의 연산"
      ],
      "metadata": {
        "id": "bzDW1LB9zTzH"
      }
    },
    {
      "cell_type": "markdown",
      "source": [
        "#### (1) 더하기, 빼기 연산"
      ],
      "metadata": {
        "id": "NECqPMf4z4oz"
      }
    },
    {
      "cell_type": "code",
      "execution_count": 17,
      "metadata": {
        "colab": {
          "base_uri": "https://localhost:8080/"
        },
        "id": "hr_EvYOSvcV3",
        "outputId": "fc215463-9901-4b05-e796-184c7219a6ff"
      },
      "outputs": [
        {
          "output_type": "stream",
          "name": "stdout",
          "text": [
            "tensor1 : tensor([1, 2, 3])\n",
            "tensor2 : tensor([4, 5, 6])\n",
            "\n",
            "tensor1 + tensor2 = tensor([5, 7, 9])\n",
            "tensor1 + tensor2 = tensor([-3, -3, -3])\n"
          ]
        }
      ],
      "source": [
        "import torch\n",
        "\n",
        "tensor1 = torch.tensor([1, 2, 3])\n",
        "tensor2 = torch.tensor([4, 5, 6])\n",
        "print(\"tensor1 :\", tensor1)\n",
        "print(\"tensor2 :\", tensor2)\n",
        "print('')\n",
        "\n",
        "# 덧셈\n",
        "tensor3 = tensor1 + tensor2\n",
        "print(\"tensor1 + tensor2 =\", tensor3)\n",
        "\n",
        "# 뺄셈\n",
        "tensor4 = tensor1 - tensor2\n",
        "print(\"tensor1 + tensor2 =\", tensor4)"
      ]
    },
    {
      "cell_type": "markdown",
      "source": [
        "#### (2) 곱하기 연산"
      ],
      "metadata": {
        "id": "AswQZw9bz7zU"
      }
    },
    {
      "cell_type": "code",
      "source": [
        "import torch\n",
        "\n",
        "tensor1 = torch.tensor([1, 2, 3])\n",
        "tensor2 = torch.tensor([4, 5, 6])\n",
        "print(\"tensor1 :\", tensor1)\n",
        "print(\"tensor2 :\", tensor2)\n",
        "print('')\n",
        "\n",
        "# 원소별 곱셈\n",
        "tensor3 = tensor1 * tensor2\n",
        "print(\"tensor1 * tensor2 =\", tensor3)"
      ],
      "metadata": {
        "colab": {
          "base_uri": "https://localhost:8080/"
        },
        "id": "3Je1coM0xZfn",
        "outputId": "0b091eef-d346-4fd6-aaaa-44a761edfaff"
      },
      "execution_count": 18,
      "outputs": [
        {
          "output_type": "stream",
          "name": "stdout",
          "text": [
            "tensor1 : tensor([1, 2, 3])\n",
            "tensor2 : tensor([4, 5, 6])\n",
            "\n",
            "tensor1 * tensor2 = tensor([ 4, 10, 18])\n"
          ]
        }
      ]
    },
    {
      "cell_type": "code",
      "source": [
        "import torch\n",
        "\n",
        "tensor1 = torch.tensor([[1, 2, 3], [4, 5, 6]])  # Size: (2, 3)\n",
        "tensor2 = torch.tensor([[7, 8], [9, 10], [11, 12]])  # Size: (3, 2)\n",
        "print(\"tensor1 :\\n\", tensor1)\n",
        "print(\"tensor1 size : \", tensor1.shape)\n",
        "print(\"\")\n",
        "print(\"tensor2 :\\n\", tensor2)\n",
        "print(\"tensor2 size : \", tensor2.shape)\n",
        "print(\"\")\n",
        "\n",
        "# 행렬 곱셈\n",
        "tensor3 = torch.matmul(tensor1, tensor2)\n",
        "print(\"tensor1.matmul(tensor2) =\\n\", tensor3)\n",
        "print(\"tensor1.matmul(tensor2) size = \", tensor3.shape)"
      ],
      "metadata": {
        "colab": {
          "base_uri": "https://localhost:8080/"
        },
        "id": "4bMCQyiHxbN1",
        "outputId": "0c33ab0b-1df4-4b48-89af-88988b9ffe2d"
      },
      "execution_count": 19,
      "outputs": [
        {
          "output_type": "stream",
          "name": "stdout",
          "text": [
            "tensor1 :\n",
            " tensor([[1, 2, 3],\n",
            "        [4, 5, 6]])\n",
            "tensor1 size :  torch.Size([2, 3])\n",
            "\n",
            "tensor2 :\n",
            " tensor([[ 7,  8],\n",
            "        [ 9, 10],\n",
            "        [11, 12]])\n",
            "tensor2 size :  torch.Size([3, 2])\n",
            "\n",
            "tensor1.matmul(tensor2) =\n",
            " tensor([[ 58,  64],\n",
            "        [139, 154]])\n",
            "tensor1.matmul(tensor2) size =  torch.Size([2, 2])\n"
          ]
        }
      ]
    },
    {
      "cell_type": "markdown",
      "source": [
        "#### (3) 나누기 연산"
      ],
      "metadata": {
        "id": "ndeqabbi0BTe"
      }
    },
    {
      "cell_type": "code",
      "source": [
        "import torch\n",
        "\n",
        "tensor1 = torch.tensor([1, 2, 3])\n",
        "tensor2 = torch.tensor([4, 5, 6])\n",
        "print(\"tensor1 :\", tensor1)\n",
        "print(\"tensor2 :\", tensor2)\n",
        "print('')\n",
        "\n",
        "# 원소별 나눗셈\n",
        "tensor3 = tensor1 / tensor2\n",
        "print(\"tensor1 / tensor2 =\", tensor3)\n",
        "\n",
        "# 결과 텐서의 데이터 타입 확인\n",
        "print(\"Data type of the result: \", tensor3.dtype)"
      ],
      "metadata": {
        "colab": {
          "base_uri": "https://localhost:8080/"
        },
        "id": "syldy4D-xclF",
        "outputId": "405a7095-780a-4e68-efd7-6c556d1344a1"
      },
      "execution_count": null,
      "outputs": [
        {
          "output_type": "stream",
          "name": "stdout",
          "text": [
            "tensor1 : tensor([1, 2, 3])\n",
            "tensor2 : tensor([4, 5, 6])\n",
            "\n",
            "tensor1 / tensor2 = tensor([0.2500, 0.4000, 0.5000])\n",
            "Data type of the result:  torch.float32\n"
          ]
        }
      ]
    },
    {
      "cell_type": "markdown",
      "source": [
        "### 2) 텐서(Tensor)의 축을 따른 연산"
      ],
      "metadata": {
        "id": "ZDIYuPfi0EVY"
      }
    },
    {
      "cell_type": "code",
      "source": [
        "import torch\n",
        "\n",
        "# (3, 3) 크기의 텐서 생성\n",
        "tensor = torch.tensor([[1, 2, 3], [4, 5, 6], [7, 8, 9]], dtype=torch.float)\n",
        "print(\"Original tensor:\\n\", tensor)\n",
        "print('')\n",
        "\n",
        "# sum 연산 (axis=0)\n",
        "sum0 = tensor.sum(dim=0)\n",
        "print(\"Sum along the first axis (dim=0):\\n\", sum0)\n",
        "\n",
        "# mean 연산 (axis=1)\n",
        "mean1 = tensor.mean(dim=1)\n",
        "print(\"Mean along the second axis (dim=1):\\n\", mean1)\n",
        "\n",
        "# max 연산 (axis=0)\n",
        "max0, _ = tensor.max(dim=0)\n",
        "print(\"Max along the first axis (dim=0):\\n\", max0)\n",
        "\n",
        "# min 연산 (axis=1)\n",
        "min1, _ = tensor.min(dim=1)\n",
        "print(\"Min along the second axis (dim=1):\\n\", min1)"
      ],
      "metadata": {
        "colab": {
          "base_uri": "https://localhost:8080/"
        },
        "id": "SI5Gedknxd9-",
        "outputId": "e29d5707-a71c-4bf5-eba1-5fed6513913e"
      },
      "execution_count": 21,
      "outputs": [
        {
          "output_type": "stream",
          "name": "stdout",
          "text": [
            "Original tensor:\n",
            " tensor([[1., 2., 3.],\n",
            "        [4., 5., 6.],\n",
            "        [7., 8., 9.]])\n",
            "\n",
            "Sum along the first axis (dim=0):\n",
            " tensor([12., 15., 18.])\n",
            "Mean along the second axis (dim=1):\n",
            " tensor([2., 5., 8.])\n",
            "Max along the first axis (dim=0):\n",
            " tensor([7., 8., 9.])\n",
            "Min along the second axis (dim=1):\n",
            " tensor([1., 4., 7.])\n"
          ]
        }
      ]
    },
    {
      "cell_type": "markdown",
      "source": [
        "### 텐서(Tensor)의 기타 연산"
      ],
      "metadata": {
        "id": "wFavJhA50GAX"
      }
    },
    {
      "cell_type": "code",
      "source": [
        "import torch\n",
        "\n",
        "tensor1 = torch.tensor([1, 2, 3])\n",
        "print(\"tensor1 :\", tensor1)\n",
        "print('')\n",
        "\n",
        "# 절대값\n",
        "tensor2 = torch.abs(tensor1)\n",
        "print(\"torch.abs(tensor1) =\", tensor2)\n",
        "\n",
        "# 제곱근\n",
        "tensor3 = torch.sqrt(tensor1)\n",
        "print(\"torch.sqrt(tensor1) =\", tensor3)\n",
        "\n",
        "# 자연로그\n",
        "tensor4 = torch.log(tensor1)\n",
        "print(\"torch.log(tensor1) =\", tensor4)\n",
        "\n",
        "# 지수\n",
        "tensor5 = torch.exp(tensor1)\n",
        "print(\"torch.exp(tensor1) =\", tensor5)"
      ],
      "metadata": {
        "colab": {
          "base_uri": "https://localhost:8080/"
        },
        "id": "z73hwAHfxml2",
        "outputId": "9ae2efa2-67f8-4565-bf68-b13a2580e029"
      },
      "execution_count": null,
      "outputs": [
        {
          "output_type": "stream",
          "name": "stdout",
          "text": [
            "tensor1 : tensor([1, 2, 3])\n",
            "\n",
            "torch.abs(tensor1) = tensor([1, 2, 3])\n",
            "torch.sqrt(tensor1) = tensor([1.0000, 1.4142, 1.7321])\n",
            "torch.log(tensor1) = tensor([0.0000, 0.6931, 1.0986])\n",
            "torch.exp(tensor1) = tensor([ 2.7183,  7.3891, 20.0855])\n"
          ]
        }
      ]
    },
    {
      "cell_type": "code",
      "source": [],
      "metadata": {
        "id": "cdz-AZybxpFO"
      },
      "execution_count": null,
      "outputs": []
    },
    {
      "cell_type": "code",
      "source": [],
      "metadata": {
        "id": "4zMGxoG9XIk8"
      },
      "execution_count": null,
      "outputs": []
    },
    {
      "cell_type": "markdown",
      "source": [
        "# 2. 데이터 준비"
      ],
      "metadata": {
        "id": "7IT9dywZAkHq"
      }
    },
    {
      "cell_type": "markdown",
      "source": [
        "## 2-1 데이터 준비하기"
      ],
      "metadata": {
        "id": "1U081ONEUgPA"
      }
    },
    {
      "cell_type": "markdown",
      "source": [
        "### 1) Dataset 클래스"
      ],
      "metadata": {
        "id": "HzYz4-awAl4N"
      }
    },
    {
      "cell_type": "code",
      "source": [
        "# 라이브러리 불러오기\n",
        "\n",
        "from torch.utils.data import Dataset"
      ],
      "metadata": {
        "id": "38UWRm5qAlQH"
      },
      "execution_count": 22,
      "outputs": []
    },
    {
      "cell_type": "code",
      "source": [
        "class CustomDataset(Dataset):\n",
        "    def __init__(self, x_data, y_data):\n",
        "        self.x_data = x_data\n",
        "        self.y_data = y_data\n",
        "\n",
        "    def __len__(self):\n",
        "        return len(self.x_data)\n",
        "\n",
        "    def __getitem__(self, idx):\n",
        "        x = self.x_data[idx]\n",
        "        y = self.y_data[idx]\n",
        "        return x, y"
      ],
      "metadata": {
        "id": "v3C2Nd-YReNg"
      },
      "execution_count": 23,
      "outputs": []
    },
    {
      "cell_type": "code",
      "source": [
        "class CustomDataset(Dataset):\n",
        "    def __init__(self, x, y): # 초기화 변수\n",
        "        self.x = x\n",
        "        self.y = y\n",
        "\n",
        "     # __len__ 메소드는 데이터셋의 총 샘플 수 반환\n",
        "    def __len__(self):\n",
        "        return len(self.x)\n",
        "\n",
        "    # __getitem__ 메소드는 주어진 인덱스에 해당하는 샘플을 가져옴\n",
        "    def __getitem__(self, idx):\n",
        "        x = self.x[idx]\n",
        "        y = self.y[idx]\n",
        "        return x, y"
      ],
      "metadata": {
        "id": "9WXOUFNkShJl"
      },
      "execution_count": 24,
      "outputs": []
    },
    {
      "cell_type": "code",
      "source": [
        "#샘플 데이터 생성\n",
        "x = [i for i in range(10)]\n",
        "y = [2*i for i in x]\n",
        "\n",
        "print(\"x :\", x)\n",
        "print(\"y :\", y)"
      ],
      "metadata": {
        "colab": {
          "base_uri": "https://localhost:8080/"
        },
        "id": "wep3U_igTSRn",
        "outputId": "9c2e1ce8-6187-4ba9-c137-84b585f7f92d"
      },
      "execution_count": 25,
      "outputs": [
        {
          "output_type": "stream",
          "name": "stdout",
          "text": [
            "x : [0, 1, 2, 3, 4, 5, 6, 7, 8, 9]\n",
            "y : [0, 2, 4, 6, 8, 10, 12, 14, 16, 18]\n"
          ]
        }
      ]
    },
    {
      "cell_type": "code",
      "source": [
        "dataset = CustomDataset(x, y)\n",
        "dataset"
      ],
      "metadata": {
        "colab": {
          "base_uri": "https://localhost:8080/"
        },
        "id": "Ax5Ui3tFUGI-",
        "outputId": "1c40ae2f-1f2d-43d4-a85c-9ea856cec06e"
      },
      "execution_count": 26,
      "outputs": [
        {
          "output_type": "execute_result",
          "data": {
            "text/plain": [
              "<__main__.CustomDataset at 0x7babdf39e3e0>"
            ]
          },
          "metadata": {},
          "execution_count": 26
        }
      ]
    },
    {
      "cell_type": "code",
      "source": [
        "## __len__ 메서드 실행\n",
        "print(f\"데이터셋의 총 샘플 수 : {len(dataset)}\")\n",
        "\n",
        "## __getitem__ 메서드 실행\n",
        "sample_x, sample_y = dataset[2]\n",
        "print(f\"2 번째 x : {sample_x} \\n2 번째 y : {sample_y} \")"
      ],
      "metadata": {
        "colab": {
          "base_uri": "https://localhost:8080/"
        },
        "id": "b5IRB39RUNu_",
        "outputId": "92bab066-ad7a-4979-b942-4e1a9692d9f6"
      },
      "execution_count": 27,
      "outputs": [
        {
          "output_type": "stream",
          "name": "stdout",
          "text": [
            "데이터셋의 총 샘플 수 : 10\n",
            "2 번째 x : 2 \n",
            "2 번째 y : 4 \n"
          ]
        }
      ]
    },
    {
      "cell_type": "markdown",
      "source": [
        "### 2) DataLoader 클래스"
      ],
      "metadata": {
        "id": "aipIqPO-aEsr"
      }
    },
    {
      "cell_type": "code",
      "source": [
        "# 클래스 불러오기\n",
        "from torch.utils.data import DataLoader"
      ],
      "metadata": {
        "id": "QWUHzORTW4-c"
      },
      "execution_count": 28,
      "outputs": []
    },
    {
      "cell_type": "code",
      "source": [
        "data_loader = DataLoader(dataset=dataset, batch_size=2, shuffle=True)\n",
        "\n",
        "data_loader"
      ],
      "metadata": {
        "colab": {
          "base_uri": "https://localhost:8080/"
        },
        "id": "aSBIXlhyaTU1",
        "outputId": "ddd09b24-e7a2-4a26-de08-a1af5d4ae41c"
      },
      "execution_count": 29,
      "outputs": [
        {
          "output_type": "execute_result",
          "data": {
            "text/plain": [
              "<torch.utils.data.dataloader.DataLoader at 0x7babdf39ee90>"
            ]
          },
          "metadata": {},
          "execution_count": 29
        }
      ]
    },
    {
      "cell_type": "code",
      "source": [
        "# DataLoader를 통해 데이터를 배치 단위로 불러오기\n",
        "for idx, (x, y) in enumerate(data_loader):\n",
        "    print(f'Batch {idx+1}')\n",
        "    print('x:', x, ', y:', y)"
      ],
      "metadata": {
        "colab": {
          "base_uri": "https://localhost:8080/"
        },
        "id": "Auh2if25bCsu",
        "outputId": "f4af4152-2884-4fe3-aee6-7a0fd669a72b"
      },
      "execution_count": 30,
      "outputs": [
        {
          "output_type": "stream",
          "name": "stdout",
          "text": [
            "Batch 1\n",
            "x: tensor([1, 4]) , y: tensor([2, 8])\n",
            "Batch 2\n",
            "x: tensor([2, 6]) , y: tensor([ 4, 12])\n",
            "Batch 3\n",
            "x: tensor([8, 3]) , y: tensor([16,  6])\n",
            "Batch 4\n",
            "x: tensor([5, 7]) , y: tensor([10, 14])\n",
            "Batch 5\n",
            "x: tensor([9, 0]) , y: tensor([18,  0])\n"
          ]
        }
      ]
    },
    {
      "cell_type": "code",
      "source": [],
      "metadata": {
        "id": "PhFmosEHbZTn"
      },
      "execution_count": null,
      "outputs": []
    },
    {
      "cell_type": "markdown",
      "source": [
        "### 3)MNIST 데이터 불러오기 예제"
      ],
      "metadata": {
        "id": "Q9mCgwADe7-p"
      }
    },
    {
      "cell_type": "code",
      "source": [
        "from torchvision import datasets\n",
        "import matplotlib.pyplot as plt\n",
        "import numpy as np"
      ],
      "metadata": {
        "id": "sL52SIi4e-aP"
      },
      "execution_count": 31,
      "outputs": []
    },
    {
      "cell_type": "code",
      "source": [
        "# MNIST 데이터셋을 불러옵니다. 이때 transforms는 None으로 설정하여 원본 이미지를 그대로 불러옵니다.\n",
        "mnist = datasets.MNIST(root='./data', train=True, download=True, transform=None)\n",
        "mnist"
      ],
      "metadata": {
        "colab": {
          "base_uri": "https://localhost:8080/"
        },
        "id": "UHyuMAevfQ9n",
        "outputId": "7de2a7fb-ceee-4869-b5b9-e8e027fd7399"
      },
      "execution_count": 32,
      "outputs": [
        {
          "output_type": "stream",
          "name": "stdout",
          "text": [
            "Downloading http://yann.lecun.com/exdb/mnist/train-images-idx3-ubyte.gz\n",
            "Failed to download (trying next):\n",
            "HTTP Error 403: Forbidden\n",
            "\n",
            "Downloading https://ossci-datasets.s3.amazonaws.com/mnist/train-images-idx3-ubyte.gz\n",
            "Downloading https://ossci-datasets.s3.amazonaws.com/mnist/train-images-idx3-ubyte.gz to ./data/MNIST/raw/train-images-idx3-ubyte.gz\n"
          ]
        },
        {
          "output_type": "stream",
          "name": "stderr",
          "text": [
            "100%|██████████| 9912422/9912422 [00:00<00:00, 21763012.69it/s]\n"
          ]
        },
        {
          "output_type": "stream",
          "name": "stdout",
          "text": [
            "Extracting ./data/MNIST/raw/train-images-idx3-ubyte.gz to ./data/MNIST/raw\n",
            "\n",
            "Downloading http://yann.lecun.com/exdb/mnist/train-labels-idx1-ubyte.gz\n",
            "Failed to download (trying next):\n",
            "HTTP Error 403: Forbidden\n",
            "\n",
            "Downloading https://ossci-datasets.s3.amazonaws.com/mnist/train-labels-idx1-ubyte.gz\n",
            "Downloading https://ossci-datasets.s3.amazonaws.com/mnist/train-labels-idx1-ubyte.gz to ./data/MNIST/raw/train-labels-idx1-ubyte.gz\n"
          ]
        },
        {
          "output_type": "stream",
          "name": "stderr",
          "text": [
            "100%|██████████| 28881/28881 [00:00<00:00, 631391.90it/s]\n"
          ]
        },
        {
          "output_type": "stream",
          "name": "stdout",
          "text": [
            "Extracting ./data/MNIST/raw/train-labels-idx1-ubyte.gz to ./data/MNIST/raw\n",
            "\n",
            "Downloading http://yann.lecun.com/exdb/mnist/t10k-images-idx3-ubyte.gz\n",
            "Failed to download (trying next):\n",
            "HTTP Error 403: Forbidden\n",
            "\n",
            "Downloading https://ossci-datasets.s3.amazonaws.com/mnist/t10k-images-idx3-ubyte.gz\n",
            "Downloading https://ossci-datasets.s3.amazonaws.com/mnist/t10k-images-idx3-ubyte.gz to ./data/MNIST/raw/t10k-images-idx3-ubyte.gz\n"
          ]
        },
        {
          "output_type": "stream",
          "name": "stderr",
          "text": [
            "100%|██████████| 1648877/1648877 [00:00<00:00, 5616657.43it/s]\n"
          ]
        },
        {
          "output_type": "stream",
          "name": "stdout",
          "text": [
            "Extracting ./data/MNIST/raw/t10k-images-idx3-ubyte.gz to ./data/MNIST/raw\n",
            "\n",
            "Downloading http://yann.lecun.com/exdb/mnist/t10k-labels-idx1-ubyte.gz\n",
            "Failed to download (trying next):\n",
            "HTTP Error 403: Forbidden\n",
            "\n",
            "Downloading https://ossci-datasets.s3.amazonaws.com/mnist/t10k-labels-idx1-ubyte.gz\n",
            "Downloading https://ossci-datasets.s3.amazonaws.com/mnist/t10k-labels-idx1-ubyte.gz to ./data/MNIST/raw/t10k-labels-idx1-ubyte.gz\n"
          ]
        },
        {
          "output_type": "stream",
          "name": "stderr",
          "text": [
            "100%|██████████| 4542/4542 [00:00<00:00, 8694901.31it/s]"
          ]
        },
        {
          "output_type": "stream",
          "name": "stdout",
          "text": [
            "Extracting ./data/MNIST/raw/t10k-labels-idx1-ubyte.gz to ./data/MNIST/raw\n",
            "\n"
          ]
        },
        {
          "output_type": "stream",
          "name": "stderr",
          "text": [
            "\n"
          ]
        },
        {
          "output_type": "execute_result",
          "data": {
            "text/plain": [
              "Dataset MNIST\n",
              "    Number of datapoints: 60000\n",
              "    Root location: ./data\n",
              "    Split: Train"
            ]
          },
          "metadata": {},
          "execution_count": 32
        }
      ]
    },
    {
      "cell_type": "code",
      "source": [
        "image, label = mnist[0]\n",
        "\n",
        "# 이미지를 출력합니다.\n",
        "plt.imshow(image, cmap='gray')\n",
        "plt.title(f'Label: {label}')\n",
        "plt.show()"
      ],
      "metadata": {
        "colab": {
          "base_uri": "https://localhost:8080/",
          "height": 452
        },
        "id": "GZyAQpnRfUBI",
        "outputId": "00125086-ac4e-4b01-83bc-e10fdb939145"
      },
      "execution_count": 33,
      "outputs": [
        {
          "output_type": "display_data",
          "data": {
            "text/plain": [
              "<Figure size 640x480 with 1 Axes>"
            ],
            "image/png": "[encoded data removed]"
          },
          "metadata": {}
        }
      ]
    },
    {
      "cell_type": "code",
      "source": [
        "from torch.utils.data import Dataset, DataLoader\n",
        "\n",
        "# 커스텀 데이터셋 클래스를 정의합니다.\n",
        "class CustomDataset(Dataset):\n",
        "    def __init__(self, mnist):\n",
        "        self.mnist = mnist\n",
        "\n",
        "    def __getitem__(self, idx):\n",
        "        image, label = self.mnist[idx]\n",
        "        return np.array(image), label  # 이미지를 넘파이 배열로 변환하여 반환합니다.\n",
        "\n",
        "    def __len__(self):\n",
        "        return len(self.mnist)\n",
        "\n",
        "# 커스텀 데이터셋 객체를 생성합니다.\n",
        "custom_dataset = CustomDataset(mnist)\n",
        "\n",
        "# DataLoader를 이용해 데이터를 배치 단위로 불러올 수 있도록 합니다.\n",
        "data_loader = DataLoader(custom_dataset, batch_size=64, shuffle=True)\n",
        "\n",
        "# DataLoader를 통해 데이터를 불러옵니다.\n",
        "for idx, (images, labels) in enumerate(data_loader):\n",
        "    sample_img, sample_lb = images[0], labels[0]\n",
        "    print(f'Batch {idx+1}')\n",
        "    print('Images shape:', images.shape, ', Labels shape:', labels.shape)\n",
        "    break  # 예제이므로 한 배치만 출력하고 중단합니다.\n",
        "\n",
        "\n",
        "\n",
        "# 배치 중 하나의 이미지를 출력해봅니다.\n",
        "print(\"\")\n",
        "print(\"배치 중 임의의 이미지 출력 - 레이블 :\", sample_lb)\n",
        "plt.imshow(sample_img, cmap='gray')\n",
        "plt.show()"
      ],
      "metadata": {
        "colab": {
          "base_uri": "https://localhost:8080/",
          "height": 503
        },
        "id": "1xAbZLyahHEP",
        "outputId": "dce2f847-c699-4849-d612-ffa3a03fa8ff"
      },
      "execution_count": 34,
      "outputs": [
        {
          "output_type": "stream",
          "name": "stdout",
          "text": [
            "Batch 1\n",
            "Images shape: torch.Size([64, 28, 28]) , Labels shape: torch.Size([64])\n",
            "\n",
            "배치 중 임의의 이미지 출력 - 레이블 : tensor(0)\n"
          ]
        },
        {
          "output_type": "display_data",
          "data": {
            "text/plain": [
              "<Figure size 640x480 with 1 Axes>"
            ],
            "image/png": "[encoded data removed]"
          },
          "metadata": {}
        }
      ]
    },
    {
      "cell_type": "code",
      "source": [],
      "metadata": {
        "id": "BnQs_nfNhHGk"
      },
      "execution_count": null,
      "outputs": []
    },
    {
      "cell_type": "code",
      "source": [],
      "metadata": {
        "id": "1k3eh-ltfgom"
      },
      "execution_count": null,
      "outputs": []
    },
    {
      "cell_type": "markdown",
      "source": [
        "## 2-2 전처리"
      ],
      "metadata": {
        "id": "BzuGyjLmUwq4"
      }
    },
    {
      "cell_type": "markdown",
      "source": [
        "### 1) Transform을 이용하지 않고 직접 전처리"
      ],
      "metadata": {
        "id": "vsCoTByBU0tE"
      }
    },
    {
      "cell_type": "code",
      "source": [
        "import nltk\n",
        "from torch.utils.data import Dataset, DataLoader\n",
        "import torch\n",
        "from nltk.tokenize import word_tokenize\n",
        "\n",
        "# nltk의 'punkt' 토큰화 모듈을 다운\n",
        "# 이 모듈은 word_tokenize 함수가 영어 텍스트를 토큰화하는 데 필요합니다.\n",
        "nltk.download('punkt')"
      ],
      "metadata": {
        "colab": {
          "base_uri": "https://localhost:8080/"
        },
        "id": "KLLEVgtsVq4j",
        "outputId": "c22628a9-d65a-42eb-c26f-5cb9be818b7f"
      },
      "execution_count": 35,
      "outputs": [
        {
          "output_type": "stream",
          "name": "stderr",
          "text": [
            "[nltk_data] Downloading package punkt to /root/nltk_data...\n",
            "[nltk_data]   Unzipping tokenizers/punkt.zip.\n"
          ]
        },
        {
          "output_type": "execute_result",
          "data": {
            "text/plain": [
              "True"
            ]
          },
          "metadata": {},
          "execution_count": 35
        }
      ]
    },
    {
      "cell_type": "code",
      "source": [
        "# 샘플 텍스트 데이터 생성\n",
        "texts = ['I love PyTorch!', 'It is very easy to use.']\n",
        "labels = [1, 0]"
      ],
      "metadata": {
        "id": "mTASN9S4ZZ2y"
      },
      "execution_count": null,
      "outputs": []
    },
    {
      "cell_type": "code",
      "source": [
        "# nltk의 word_tokenize 함수를 사용하여 텍스트를 토큰화\n",
        "tokenized_texts = [word_tokenize(text) for text in texts]\n",
        "tokenized_texts"
      ],
      "metadata": {
        "colab": {
          "base_uri": "https://localhost:8080/"
        },
        "id": "hisNdbPubI2J",
        "outputId": "300d0b47-6cd2-4cdc-caad-d489b8c7d2ee"
      },
      "execution_count": null,
      "outputs": [
        {
          "output_type": "execute_result",
          "data": {
            "text/plain": [
              "[['I', 'love', 'PyTorch', '!'], ['It', 'is', 'very', 'easy', 'to', 'use', '.']]"
            ]
          },
          "metadata": {},
          "execution_count": 49
        }
      ]
    },
    {
      "cell_type": "code",
      "source": [
        "# 단어 사전을 만들어 각 단어에 인덱스를 부여합니다.\n",
        "# '<PAD>'와 '<UNK>'는 각각 패딩과 알 수 없는 단어를 나타내는 특수 토큰입니다.\n",
        "vocab = {'<PAD>': 0, '<UNK>': 1, 'I': 2, 'love': 3, 'PyTorch!': 4, 'It': 5, 'is': 6, 'very': 7, 'easy': 8, 'to': 9, 'use.': 10}\n",
        "indexed_tokens = [[vocab.get(token, vocab['<UNK>']) for token in tokens] for tokens in tokenized_texts]\n",
        "\n",
        "\n",
        "vocab, indexed_tokens"
      ],
      "metadata": {
        "colab": {
          "base_uri": "https://localhost:8080/"
        },
        "id": "Evs4hMqra6JC",
        "outputId": "b8099328-aac1-4435-c601-66620ea8d09a"
      },
      "execution_count": null,
      "outputs": [
        {
          "output_type": "execute_result",
          "data": {
            "text/plain": [
              "({'<PAD>': 0,\n",
              "  '<UNK>': 1,\n",
              "  'I': 2,\n",
              "  'love': 3,\n",
              "  'PyTorch!': 4,\n",
              "  'It': 5,\n",
              "  'is': 6,\n",
              "  'very': 7,\n",
              "  'easy': 8,\n",
              "  'to': 9,\n",
              "  'use.': 10},\n",
              " [[2, 3, 1, 1], [5, 6, 7, 8, 9, 1, 1]])"
            ]
          },
          "metadata": {},
          "execution_count": 50
        }
      ]
    },
    {
      "cell_type": "code",
      "source": [
        "# 모든 텍스트가 동일한 길이를 갖도록 패딩을 추가합니다.\n",
        "# 이 예시에서는 가장 긴 텍스트의 길이를 max_seq_length로 설정합니다.\n",
        "max_seq_length = 10\n",
        "preprocessed_data = [tokens + [vocab['<PAD>']] * (max_seq_length - len(tokens)) for tokens in indexed_tokens]\n",
        "\n",
        "preprocessed_data"
      ],
      "metadata": {
        "colab": {
          "base_uri": "https://localhost:8080/"
        },
        "id": "QEKT7neybpsT",
        "outputId": "d99ed789-585d-47c3-b9e1-adc540447a11"
      },
      "execution_count": null,
      "outputs": [
        {
          "output_type": "execute_result",
          "data": {
            "text/plain": [
              "[[2, 3, 1, 1, 0, 0, 0, 0, 0, 0], [5, 6, 7, 8, 9, 1, 1, 0, 0, 0]]"
            ]
          },
          "metadata": {},
          "execution_count": 51
        }
      ]
    },
    {
      "cell_type": "code",
      "source": [
        "# PyTorch의 Dataset 클래스를 상속받아 Custom Dataset을 정의\n",
        "class CustomDataset(Dataset):\n",
        "    def __init__(self, data, labels):\n",
        "        self.data = data\n",
        "        self.labels = labels\n",
        "\n",
        "    def __getitem__(self, index):\n",
        "        text = self.data[index]\n",
        "        label = self.labels[index]\n",
        "        return torch.tensor(text, dtype=torch.long), torch.tensor(label, dtype=torch.long)\n",
        "\n",
        "    def __len__(self):\n",
        "        return len(self.data)\n",
        "\n",
        "# 전처리된 데이터와 레이블을 사용하여 Custom Dataset을 생성합니다.\n",
        "dataset = CustomDataset(preprocessed_data, labels)\n",
        "\n",
        "data_loader = DataLoader(dataset, batch_size=2, shuffle=True)\n",
        "\n",
        "for idx, (x, y) in enumerate(data_loader):\n",
        "    print(f'Batch {idx+1}')\n",
        "    print('x:', x, ', y:', y)"
      ],
      "metadata": {
        "colab": {
          "base_uri": "https://localhost:8080/"
        },
        "id": "y7Hb1RLkcEBE",
        "outputId": "6fb7ba16-5b30-447e-c348-a194fdff67df"
      },
      "execution_count": null,
      "outputs": [
        {
          "output_type": "stream",
          "name": "stdout",
          "text": [
            "Batch 1\n",
            "x: tensor([[2, 3, 1, 1, 0, 0, 0, 0, 0, 0],\n",
            "        [5, 6, 7, 8, 9, 1, 1, 0, 0, 0]]) , y: tensor([1, 0])\n"
          ]
        }
      ]
    },
    {
      "cell_type": "code",
      "source": [],
      "metadata": {
        "id": "TKIhKNsQf8qL"
      },
      "execution_count": null,
      "outputs": []
    },
    {
      "cell_type": "code",
      "source": [
        "# 전처리 과정을 CustomDataset 클래스 안에 넣어서 처리하기\n",
        "\n",
        "import nltk\n",
        "from torch.utils.data import Dataset, DataLoader\n",
        "import torch\n",
        "from nltk.tokenize import word_tokenize\n",
        "\n",
        "nltk.download('punkt')\n",
        "\n",
        "class CustomDataset(Dataset):\n",
        "    def __init__(self, texts, labels, vocab, max_seq_length=10):\n",
        "        self.texts = texts\n",
        "        self.labels = labels\n",
        "        self.vocab = vocab\n",
        "        self.max_seq_length = max_seq_length\n",
        "\n",
        "    def tokenize_and_index(self, text):\n",
        "        tokens = word_tokenize(text)\n",
        "        indexed_tokens = [self.vocab.get(token, self.vocab['<UNK>']) for token in tokens]\n",
        "        return indexed_tokens + [self.vocab['<PAD>']] * (self.max_seq_length - len(indexed_tokens))\n",
        "\n",
        "    def __getitem__(self, index):\n",
        "        text = self.tokenize_and_index(self.texts[index])\n",
        "        label = self.labels[index]\n",
        "        return torch.tensor(text, dtype=torch.long), torch.tensor(label, dtype=torch.long)\n",
        "\n",
        "    def __len__(self):\n",
        "        return len(self.texts)\n",
        "\n",
        "vocab = {'<PAD>': 0, '<UNK>': 1, 'I': 2, 'love': 3, 'PyTorch!': 4, 'It': 5, 'is': 6, 'very': 7, 'easy': 8, 'to': 9, 'use.': 10}\n",
        "texts = ['I love PyTorch!', 'It is very easy to use.']\n",
        "labels = [1, 0]\n",
        "\n",
        "dataset = CustomDataset(texts, labels, vocab)\n",
        "\n",
        "data_loader = DataLoader(dataset, batch_size=2, shuffle=True)\n",
        "\n",
        "for idx, (x, y) in enumerate(data_loader):\n",
        "    print(f'Batch {idx+1}')\n",
        "    print('x:', x, ', y:', y)\n"
      ],
      "metadata": {
        "colab": {
          "base_uri": "https://localhost:8080/"
        },
        "id": "0WwA7ECzhhR5",
        "outputId": "99879764-8b0c-4db1-f71f-59d76a1c2d94"
      },
      "execution_count": null,
      "outputs": [
        {
          "output_type": "stream",
          "name": "stdout",
          "text": [
            "Batch 1\n",
            "x: tensor([[5, 6, 7, 8, 9, 1, 1, 0, 0, 0],\n",
            "        [2, 3, 1, 1, 0, 0, 0, 0, 0, 0]]) , y: tensor([0, 1])\n"
          ]
        },
        {
          "output_type": "stream",
          "name": "stderr",
          "text": [
            "[nltk_data] Downloading package punkt to /root/nltk_data...\n",
            "[nltk_data]   Package punkt is already up-to-date!\n"
          ]
        }
      ]
    },
    {
      "cell_type": "markdown",
      "source": [
        "### 2) Transform을 사용하여 데이터를 불러오면서 전처리"
      ],
      "metadata": {
        "id": "hDPXhwuulVSA"
      }
    },
    {
      "cell_type": "code",
      "source": [
        "from torchvision import datasets, transforms\n",
        "import matplotlib.pyplot as plt\n",
        "import numpy as np\n",
        "from torch.utils.data import Dataset, DataLoader"
      ],
      "metadata": {
        "id": "a7PwgnNO5hE7"
      },
      "execution_count": 36,
      "outputs": []
    },
    {
      "cell_type": "code",
      "source": [
        "# MNIST 데이터셋을 불러옵니다.\n",
        "mnist = datasets.MNIST(root='./data', train=True, download=True)\n",
        "\n",
        "image, label = mnist[0]\n",
        "\n",
        "# 이미지를 출력합니다.\n",
        "plt.imshow(image, cmap='gray')\n",
        "plt.title(f'Label: {label}')\n",
        "plt.show()"
      ],
      "metadata": {
        "colab": {
          "base_uri": "https://localhost:8080/",
          "height": 452
        },
        "id": "0VMs27m45uYc",
        "outputId": "a0fffcc5-d444-4590-d83b-7166323f7c55"
      },
      "execution_count": 37,
      "outputs": [
        {
          "output_type": "display_data",
          "data": {
            "text/plain": [
              "<Figure size 640x480 with 1 Axes>"
            ],
            "image/png": "[encoded data removed]"
          },
          "metadata": {}
        }
      ]
    },
    {
      "cell_type": "code",
      "source": [
        "# transform 정의합니다.\n",
        "transform = transforms.Compose([\n",
        "    transforms.RandomHorizontalFlip(p=1),\n",
        "    transforms.ToTensor(),\n",
        "    transforms.Normalize((0.1307,), (0.3081,))\n",
        "])"
      ],
      "metadata": {
        "id": "u9MtC2C661JA"
      },
      "execution_count": 38,
      "outputs": []
    },
    {
      "cell_type": "code",
      "source": [
        "# 커스텀 데이터셋 클래스를 정의합니다.\n",
        "class CustomDataset(Dataset):\n",
        "    def __init__(self, mnist, transform=None):\n",
        "        self.mnist = mnist\n",
        "        self.transform = transform\n",
        "\n",
        "    def __getitem__(self, idx):\n",
        "        image, label = self.mnist[idx]\n",
        "        if self.transform:  # 만약 주어진 transform이 있다면\n",
        "            image = self.transform(image)  # 이미지에 변환을 적용합니다.\n",
        "        return image, label\n",
        "\n",
        "    def __len__(self):\n",
        "        return len(self.mnist)\n",
        "\n",
        "# 커스텀 데이터셋 객체를 생성합니다.\n",
        "custom_dataset = CustomDataset(mnist, transform=transform)"
      ],
      "metadata": {
        "id": "XbAMlFBN8mO2"
      },
      "execution_count": 39,
      "outputs": []
    },
    {
      "cell_type": "code",
      "source": [
        "# DataLoader를 이용해 데이터를 배치 단위로 불러올 수 있도록 합니다.\n",
        "data_loader = DataLoader(custom_dataset, batch_size=64, shuffle=False)\n",
        "\n",
        "# DataLoader를 통해 데이터를 불러옵니다.\n",
        "for idx, (images, labels) in enumerate(data_loader):\n",
        "    sample_img, sample_lb = images[0], labels[0]\n",
        "    print(f'Batch {idx+1}')\n",
        "    print('Images shape:', images.shape, ', Labels shape:', labels.shape)\n",
        "    break  # 예제이므로 한 배치만 출력하고 중단합니다.\n",
        "\n",
        "# 배치 중 하나의 이미지를 출력해봅니다.\n",
        "print(\"\\n배치 중 임의의 이미지 출력 - 레이블 :\", sample_lb.item())\n",
        "plt.imshow(sample_img.squeeze().numpy(), cmap='gray')  # 이미지는 텐서이므로 넘파이 배열로 변환합니다.\n",
        "plt.show()"
      ],
      "metadata": {
        "colab": {
          "base_uri": "https://localhost:8080/",
          "height": 503
        },
        "id": "bNmFT-cPpUB0",
        "outputId": "4420ef14-7cc7-4303-ff72-079d8803dbac"
      },
      "execution_count": 40,
      "outputs": [
        {
          "output_type": "stream",
          "name": "stdout",
          "text": [
            "Batch 1\n",
            "Images shape: torch.Size([64, 1, 28, 28]) , Labels shape: torch.Size([64])\n",
            "\n",
            "배치 중 임의의 이미지 출력 - 레이블 : 5\n"
          ]
        },
        {
          "output_type": "display_data",
          "data": {
            "text/plain": [
              "<Figure size 640x480 with 1 Axes>"
            ],
            "image/png": "[encoded data removed]"
          },
          "metadata": {}
        }
      ]
    },
    {
      "cell_type": "markdown",
      "source": [
        "## 2-3 데이터 나누기"
      ],
      "metadata": {
        "id": "q0A2MwKIB9tH"
      }
    },
    {
      "cell_type": "markdown",
      "source": [
        "#### 1) 훈련용 CustomDataset, 검증용 CustomDataset 따로 만들기"
      ],
      "metadata": {
        "id": "NR4nHBaoaSAw"
      }
    },
    {
      "cell_type": "code",
      "source": [
        "from torchvision import datasets, transforms\n",
        "import matplotlib.pyplot as plt\n",
        "import numpy as np\n",
        "from torch.utils.data import Dataset, DataLoader\n",
        "\n",
        "# MNIST 데이터셋을 불러옵니다.\n",
        "mnist = datasets.MNIST(root='./data', train=True, download=True)\n",
        "\n",
        "image, label = mnist[0]\n",
        "\n",
        "# 이미지를 출력합니다.\n",
        "plt.imshow(image, cmap='gray')\n",
        "plt.title(f'Label: {label}')\n",
        "plt.show()"
      ],
      "metadata": {
        "colab": {
          "base_uri": "https://localhost:8080/",
          "height": 452
        },
        "id": "5-7v4MdV2rV2",
        "outputId": "b94bf618-b557-4682-f4c0-486e6fdb09a8"
      },
      "execution_count": 41,
      "outputs": [
        {
          "output_type": "display_data",
          "data": {
            "text/plain": [
              "<Figure size 640x480 with 1 Axes>"
            ],
            "image/png": "[encoded data removed]"
          },
          "metadata": {}
        }
      ]
    },
    {
      "cell_type": "code",
      "source": [
        "mnist_list = [mnist[i] for i in range(len(mnist))]\n",
        "len(mnist_list)"
      ],
      "metadata": {
        "colab": {
          "base_uri": "https://localhost:8080/"
        },
        "id": "VQ1rCJ0oeasJ",
        "outputId": "4c630093-46b7-40e1-f6ab-71ff4d618a3e"
      },
      "execution_count": 42,
      "outputs": [
        {
          "output_type": "execute_result",
          "data": {
            "text/plain": [
              "60000"
            ]
          },
          "metadata": {},
          "execution_count": 42
        }
      ]
    },
    {
      "cell_type": "code",
      "source": [
        "# 훈련용 데이터 transform 정의합니다.\n",
        "train_transform = transforms.Compose([\n",
        "    transforms.RandomRotation(180),# 0~180도 사이로 무작위 회전\n",
        "    transforms.ToTensor(),\n",
        "    transforms.Normalize((0.1307,), (0.3081,))\n",
        "])\n",
        "# 검증용 데이터 transform 정의합니다.\n",
        "valid_transform = transforms.Compose([\n",
        "    transforms.ToTensor(),\n",
        "    transforms.Normalize((0.1307,), (0.3081,))\n",
        "])"
      ],
      "metadata": {
        "id": "kU3X0TMt2rYq"
      },
      "execution_count": 43,
      "outputs": []
    },
    {
      "cell_type": "code",
      "source": [
        "# 훈련용 커스텀 데이터셋 클래스를 정의합니다.\n",
        "class TrainCustomDataset(Dataset):\n",
        "    def __init__(self, data, transform=None):\n",
        "        # 전체 데이터에서 80% 슬라이싱\n",
        "        self.data = data[:int(0.8*len(data))]\n",
        "        # 훈련용 transform\n",
        "        self.transform = transform\n",
        "\n",
        "    def __getitem__(self, idx):\n",
        "        image, label = self.data[idx]\n",
        "        if self.transform:  # 만약 주어진 transform이 있다면\n",
        "            image = self.transform(image)  # 이미지에 변환을 적용합니다.\n",
        "        return image, label\n",
        "\n",
        "    def __len__(self):\n",
        "        return len(self.data)\n",
        "\n",
        "# 훈련용 커스텀 데이터셋 클래스를 정의합니다.\n",
        "class ValidCustomDataset(Dataset):\n",
        "    def __init__(self, data, transform=None):\n",
        "        # 전체 데이터에서 나머지 20% 슬라이싱\n",
        "        self.data = data[int(0.8*len(data)):]\n",
        "        # 검증용 transform\n",
        "        self.transform = transform\n",
        "\n",
        "    def __getitem__(self, idx):\n",
        "        image, label = self.data[idx]\n",
        "        if self.transform:  # 만약 주어진 transform이 있다면\n",
        "            image = self.transform(image)  # 이미지에 변환을 적용합니다.\n",
        "        return image, label\n",
        "\n",
        "    def __len__(self):\n",
        "        return len(self.data)\n",
        "\n",
        "\n",
        "\n",
        "# 커스텀 데이터셋 객체를 생성합니다.\n",
        "train_dataset = TrainCustomDataset(mnist_list, transform=train_transform)\n",
        "valid_dataset = ValidCustomDataset(mnist_list, transform=valid_transform)"
      ],
      "metadata": {
        "id": "bb2ALo4-2rbV"
      },
      "execution_count": 44,
      "outputs": []
    },
    {
      "cell_type": "code",
      "source": [
        "# train_loader 생성 후 루프 돌리면서 데이터 불러오기\n",
        "train_loader = DataLoader(train_dataset, batch_size=64, shuffle=True)\n",
        "for idx, (images, labels) in enumerate(train_loader):\n",
        "    train_sample_img, train_sample_lb = images[0], labels[0]\n",
        "    print(f'[Training] Batch {idx+1}')\n",
        "    print('Images shape:', images.shape, ', Labels shape:', labels.shape)\n",
        "    break  # 예제이므로 한 배치만 출력하고 중단합니다.\n",
        "\n",
        "# valid_loader 생성 후 루프 돌리면서 데이터 불러오기\n",
        "valid_loader = DataLoader(valid_dataset, batch_size=64, shuffle=True)\n",
        "for idx, (images, labels) in enumerate(valid_loader):\n",
        "    valid_sample_img, valid_sample_lb = images[0], labels[0]\n",
        "    print(f'[Validation] Batch {idx+1}')\n",
        "    print('Images shape:', images.shape, ', Labels shape:', labels.shape)\n",
        "    break  # 예제이므로 한 배치만 출력하고 중단합니다.\n",
        "\n",
        "\n",
        "fig, axes = plt.subplots(1, 2, figsize=(10, 5))  # 1행 2열의 subplot 생성\n",
        "\n",
        "# 훈련용 이미지 출력\n",
        "axes[0].imshow(train_sample_img.squeeze().numpy(), cmap='gray')\n",
        "axes[0].set_title(f'[Training] Label: {train_sample_lb.item()}')\n",
        "\n",
        "# 검증용 이미지 출력\n",
        "axes[1].imshow(valid_sample_img.squeeze().numpy(), cmap='gray')\n",
        "axes[1].set_title(f'[Validation] Label: {valid_sample_lb.item()}')\n",
        "\n",
        "plt.tight_layout()\n",
        "plt.show()"
      ],
      "metadata": {
        "colab": {
          "base_uri": "https://localhost:8080/",
          "height": 606
        },
        "id": "CrVHxQ-npRiX",
        "outputId": "c83fc65f-af5d-4504-a20d-b02fe4fe1c12"
      },
      "execution_count": 45,
      "outputs": [
        {
          "output_type": "stream",
          "name": "stdout",
          "text": [
            "[Training] Batch 1\n",
            "Images shape: torch.Size([64, 1, 28, 28]) , Labels shape: torch.Size([64])\n",
            "[Validation] Batch 1\n",
            "Images shape: torch.Size([64, 1, 28, 28]) , Labels shape: torch.Size([64])\n"
          ]
        },
        {
          "output_type": "display_data",
          "data": {
            "text/plain": [
              "<Figure size 1000x500 with 2 Axes>"
            ],
            "image/png": "[encoded data removed]"
          },
          "metadata": {}
        }
      ]
    },
    {
      "cell_type": "code",
      "source": [],
      "metadata": {
        "id": "la3bNUrmkdB8"
      },
      "execution_count": null,
      "outputs": []
    },
    {
      "cell_type": "markdown",
      "source": [
        "#### 2) 하나의 CustomDataset 안에서 나눠주기"
      ],
      "metadata": {
        "id": "agnZvQeXju1q"
      }
    },
    {
      "cell_type": "code",
      "source": [
        "from torchvision import datasets, transforms\n",
        "import matplotlib.pyplot as plt\n",
        "import numpy as np\n",
        "from torch.utils.data import Dataset, DataLoader\n",
        "\n",
        "# MNIST 데이터셋을 불러옵니다.\n",
        "mnist = datasets.MNIST(root='./data', train=True, download=True)\n",
        "\n",
        "image, label = mnist[0]\n",
        "\n",
        "# 이미지를 출력합니다.\n",
        "plt.imshow(image, cmap='gray')\n",
        "plt.title(f'Label: {label}')\n",
        "plt.show()"
      ],
      "metadata": {
        "colab": {
          "base_uri": "https://localhost:8080/",
          "height": 452
        },
        "id": "IvaEwIgpj0Qw",
        "outputId": "d08be664-6185-4697-e8a0-da75519cd235"
      },
      "execution_count": 46,
      "outputs": [
        {
          "output_type": "display_data",
          "data": {
            "text/plain": [
              "<Figure size 640x480 with 1 Axes>"
            ],
            "image/png": "[encoded data removed]"
          },
          "metadata": {}
        }
      ]
    },
    {
      "cell_type": "code",
      "source": [
        "mnist_list = [mnist[i] for i in range(len(mnist))]\n",
        "len(mnist_list)"
      ],
      "metadata": {
        "colab": {
          "base_uri": "https://localhost:8080/"
        },
        "id": "bhXroRrIkOq5",
        "outputId": "a50fa6bb-ed3a-426f-8957-76d39bc6682a"
      },
      "execution_count": 47,
      "outputs": [
        {
          "output_type": "execute_result",
          "data": {
            "text/plain": [
              "60000"
            ]
          },
          "metadata": {},
          "execution_count": 47
        }
      ]
    },
    {
      "cell_type": "code",
      "source": [
        "# 훈련용 데이터 transform 정의합니다.\n",
        "transform = {\"train\" :\n",
        "             transforms.Compose([\n",
        "                 transforms.RandomRotation(180),# 0~180도 사이로 무작위 회전\n",
        "                 transforms.ToTensor(),\n",
        "                 transforms.Normalize((0.1307,), (0.3081,))\n",
        "                 ]),\n",
        "             \"valid\" :\n",
        "             transforms.Compose([\n",
        "                 transforms.ToTensor(),\n",
        "                 transforms.Normalize((0.1307,), (0.3081,))\n",
        "                 ])}"
      ],
      "metadata": {
        "id": "UggSTVlCkQfu"
      },
      "execution_count": 48,
      "outputs": []
    },
    {
      "cell_type": "code",
      "source": [
        "# 커스텀 데이터셋 클래스를 생성합니다.\n",
        "class CustomDataset(Dataset):\n",
        "    def __init__(self, data, transform=None, phase='train'):\n",
        "        if phase == 'train':\n",
        "            self.data = data[:int(0.8*len(data))]\n",
        "        else:  # phase == 'valid'\n",
        "            self.data = data[int(0.8*len(data)):]\n",
        "        self.transform = transform[phase]\n",
        "\n",
        "    def __getitem__(self, idx):\n",
        "        image, label = self.data[idx]\n",
        "        if self.transform:\n",
        "            image = self.transform(image)\n",
        "        return image, label\n",
        "\n",
        "    def __len__(self):\n",
        "        return len(self.data)\n",
        "\n",
        "\n",
        "# 커스텀 데이터셋 객체를 생성합니다.\n",
        "train_dataset = CustomDataset(mnist_list, transform=transform, phase='train')\n",
        "valid_dataset = CustomDataset(mnist_list, transform=transform, phase='valid')"
      ],
      "metadata": {
        "id": "sYcgk6ImkouG"
      },
      "execution_count": 49,
      "outputs": []
    },
    {
      "cell_type": "code",
      "source": [
        "# train_loader 생성 후 루프 돌리면서 데이터 불러오기\n",
        "train_loader = DataLoader(train_dataset, batch_size=64, shuffle=True)\n",
        "for idx, (images, labels) in enumerate(train_loader):\n",
        "    train_sample_img, train_sample_lb = images[0], labels[0]\n",
        "    print(f'[Training] Batch {idx+1}')\n",
        "    print('Images shape:', images.shape, ', Labels shape:', labels.shape)\n",
        "    break  # 예제이므로 한 배치만 출력하고 중단합니다.\n",
        "\n",
        "# valid_loader 생성 후 루프 돌리면서 데이터 불러오기\n",
        "valid_loader = DataLoader(valid_dataset, batch_size=64, shuffle=True)\n",
        "for idx, (images, labels) in enumerate(valid_loader):\n",
        "    valid_sample_img, valid_sample_lb = images[0], labels[0]\n",
        "    print(f'[Validation] Batch {idx+1}')\n",
        "    print('Images shape:', images.shape, ', Labels shape:', labels.shape)\n",
        "    break  # 예제이므로 한 배치만 출력하고 중단합니다.\n",
        "\n",
        "\n",
        "fig, axes = plt.subplots(1, 2, figsize=(10, 5))  # 1행 2열의 subplot 생성\n",
        "\n",
        "# 훈련용 이미지 출력\n",
        "axes[0].imshow(train_sample_img.squeeze().numpy(), cmap='gray')\n",
        "axes[0].set_title(f'[Training] Label: {train_sample_lb.item()}')\n",
        "\n",
        "# 검증용 이미지 출력\n",
        "axes[1].imshow(valid_sample_img.squeeze().numpy(), cmap='gray')\n",
        "axes[1].set_title(f'[Validation] Label: {valid_sample_lb.item()}')\n",
        "\n",
        "plt.tight_layout()\n",
        "plt.show()"
      ],
      "metadata": {
        "colab": {
          "base_uri": "https://localhost:8080/",
          "height": 606
        },
        "id": "g7mkpYG3jRD2",
        "outputId": "86204418-7026-4165-b7bf-35b37eaf4227"
      },
      "execution_count": 50,
      "outputs": [
        {
          "output_type": "stream",
          "name": "stdout",
          "text": [
            "[Training] Batch 1\n",
            "Images shape: torch.Size([64, 1, 28, 28]) , Labels shape: torch.Size([64])\n",
            "[Validation] Batch 1\n",
            "Images shape: torch.Size([64, 1, 28, 28]) , Labels shape: torch.Size([64])\n"
          ]
        },
        {
          "output_type": "display_data",
          "data": {
            "text/plain": [
              "<Figure size 1000x500 with 2 Axes>"
            ],
            "image/png": "[encoded data removed]"
          },
          "metadata": {}
        }
      ]
    },
    {
      "cell_type": "code",
      "source": [
        "# 데이터를 섞어서 랜덤으로 훈련용, 검증용을 나누는 방법입니다.\n",
        "\n",
        "import random  # random 모듈 임포트\n",
        "\n",
        "class CustomDataset(Dataset):\n",
        "    def __init__(self, data, transform=None, phase='train'):\n",
        "        random.shuffle(data)  # 데이터 셔플\n",
        "        if phase == 'train':\n",
        "            self.data = data[:int(0.8*len(data))]\n",
        "        else:  # phase == 'valid'\n",
        "            self.data = data[int(0.8*len(data)):]\n",
        "        self.transform = transform[phase]\n",
        "\n",
        "    def __getitem__(self, idx):\n",
        "        image, label = self.data[idx]\n",
        "        if self.transform:\n",
        "            image = self.transform(image)\n",
        "        return image, label\n",
        "\n",
        "    def __len__(self):\n",
        "        return len(self.data)\n",
        "\n",
        "# 커스텀 데이터셋 객체를 생성합니다.\n",
        "train_dataset = CustomDataset(mnist_list, transform=transform, phase='train')\n",
        "valid_dataset = CustomDataset(mnist_list, transform=transform, phase='valid')\n",
        "\n",
        "# train_loader 생성 후 루프 돌리면서 데이터 불러오기\n",
        "train_loader = DataLoader(train_dataset, batch_size=64, shuffle=True)\n",
        "for idx, (images, labels) in enumerate(train_loader):\n",
        "    train_sample_img, train_sample_lb = images[0], labels[0]\n",
        "    print(f'[Training] Batch {idx+1}')\n",
        "    print('Images shape:', images.shape, ', Labels shape:', labels.shape)\n",
        "    break  # 예제이므로 한 배치만 출력하고 중단합니다.\n",
        "\n",
        "# valid_loader 생성 후 루프 돌리면서 데이터 불러오기\n",
        "valid_loader = DataLoader(valid_dataset, batch_size=64, shuffle=True)\n",
        "for idx, (images, labels) in enumerate(valid_loader):\n",
        "    valid_sample_img, valid_sample_lb = images[0], labels[0]\n",
        "    print(f'[Validation] Batch {idx+1}')\n",
        "    print('Images shape:', images.shape, ', Labels shape:', labels.shape)\n",
        "    break  # 예제이므로 한 배치만 출력하고 중단합니다.\n",
        "\n",
        "\n",
        "fig, axes = plt.subplots(1, 2, figsize=(10, 5))  # 1행 2열의 subplot 생성\n",
        "\n",
        "# 훈련용 이미지 출력\n",
        "axes[0].imshow(train_sample_img.squeeze().numpy(), cmap='gray')\n",
        "axes[0].set_title(f'[Training] Label: {train_sample_lb.item()}')\n",
        "\n",
        "# 검증용 이미지 출력\n",
        "axes[1].imshow(valid_sample_img.squeeze().numpy(), cmap='gray')\n",
        "axes[1].set_title(f'[Validation] Label: {valid_sample_lb.item()}')\n",
        "\n",
        "plt.tight_layout()\n",
        "plt.show()"
      ],
      "metadata": {
        "colab": {
          "base_uri": "https://localhost:8080/",
          "height": 606
        },
        "id": "Gbw0p25omA80",
        "outputId": "7c63037c-8088-4f84-ed93-970ddc00ead9"
      },
      "execution_count": 51,
      "outputs": [
        {
          "output_type": "stream",
          "name": "stdout",
          "text": [
            "[Training] Batch 1\n",
            "Images shape: torch.Size([64, 1, 28, 28]) , Labels shape: torch.Size([64])\n",
            "[Validation] Batch 1\n",
            "Images shape: torch.Size([64, 1, 28, 28]) , Labels shape: torch.Size([64])\n"
          ]
        },
        {
          "output_type": "display_data",
          "data": {
            "text/plain": [
              "<Figure size 1000x500 with 2 Axes>"
            ],
            "image/png": "[encoded data removed]"
          },
          "metadata": {}
        }
      ]
    },
    {
      "cell_type": "code",
      "source": [],
      "metadata": {
        "id": "hrauDP3DmIkv"
      },
      "execution_count": null,
      "outputs": []
    },
    {
      "cell_type": "code",
      "source": [],
      "metadata": {
        "id": "rw9ZW2xGymhd"
      },
      "execution_count": null,
      "outputs": []
    },
    {
      "cell_type": "markdown",
      "source": [
        "# 3. 모델"
      ],
      "metadata": {
        "id": "e5VtJbq1hEi-"
      }
    },
    {
      "cell_type": "markdown",
      "source": [
        "## 3-1 모델 정의"
      ],
      "metadata": {
        "id": "xYt7N_TehR0F"
      }
    },
    {
      "cell_type": "markdown",
      "source": [
        "### 1) 직접 모델 클래스 만들기"
      ],
      "metadata": {
        "id": "Smi9nuLvKw_2"
      }
    },
    {
      "cell_type": "markdown",
      "source": [
        "#### (1) 기본적인 형태"
      ],
      "metadata": {
        "id": "Rmi4WchFK0zG"
      }
    },
    {
      "cell_type": "code",
      "source": [
        "# 필요한 모듈 불러오기\n",
        "import torch\n",
        "import torch.nn as nn\n",
        "\n",
        "# nn.Module을 상속받는 MyModel 클래스를 정의\n",
        "class MyModel(nn.Module):\n",
        "    def __init__(self):\n",
        "        super(MyModel, self).__init__() # nn.Module의 초기화 메소드를 호출\n",
        "        self.fc1 = nn.Linear(10, 1) # 레이어 정의 / 텐서플로우에서의 Dense와 같은 의미\n",
        "        self.activation = nn.Sigmoid() # 활성화 함수 정의\n",
        "\n",
        "    # 순전파 정의\n",
        "    def forward(self, x):\n",
        "        x = self.fc1(x) # 입력 데이터 레이어 통과\n",
        "        x = self.activation(x) # 입력 데이터 활성화 함수 통과\n",
        "        return x # 결과값"
      ],
      "metadata": {
        "id": "WuplmgZPhHsk"
      },
      "execution_count": 52,
      "outputs": []
    },
    {
      "cell_type": "code",
      "source": [
        "model = MyModel() # 모델 인스턴스 생성\n",
        "print(model) # 모델 구조 확인"
      ],
      "metadata": {
        "colab": {
          "base_uri": "https://localhost:8080/"
        },
        "id": "wLNEEbbtIYwd",
        "outputId": "ed2ae20a-5d72-4cbf-e5dd-000e8dd54951"
      },
      "execution_count": 53,
      "outputs": [
        {
          "output_type": "stream",
          "name": "stdout",
          "text": [
            "MyModel(\n",
            "  (fc1): Linear(in_features=10, out_features=1, bias=True)\n",
            "  (activation): Sigmoid()\n",
            ")\n"
          ]
        }
      ]
    },
    {
      "cell_type": "code",
      "source": [
        "# 샘플 데이터 생성\n",
        "sample_data = torch.randn(5, 10)  # 배치 크기 5, 입력 차원 10인 임의의 데이터\n",
        "print(\"sample data :\", sample_data)\n",
        "# 모델을 통과시키기\n",
        "output = model(sample_data)\n",
        "\n",
        "print(\"output :\", output)  # 모델의 출력 확인\n"
      ],
      "metadata": {
        "colab": {
          "base_uri": "https://localhost:8080/"
        },
        "id": "hXJOUYpyIYyo",
        "outputId": "f90c2b1c-6351-47ce-bb78-1d831c2e5165"
      },
      "execution_count": 54,
      "outputs": [
        {
          "output_type": "stream",
          "name": "stdout",
          "text": [
            "sample data : tensor([[-1.2649,  0.1071,  1.8850,  0.2932,  1.2395,  1.1024,  0.2097,  0.4429,\n",
            "         -0.9899, -0.9478],\n",
            "        [-0.9899, -0.5923,  1.3863, -0.0855,  1.8150, -0.1712, -1.2824,  0.3841,\n",
            "          0.7975,  2.3238],\n",
            "        [-0.3667, -0.7067,  0.8123,  0.3885, -0.2048, -0.2333, -1.3170,  0.3202,\n",
            "         -0.5491,  1.0885],\n",
            "        [-0.6496, -1.0064, -0.9021,  0.3972,  0.7154,  0.1141,  0.4496, -0.0217,\n",
            "         -0.5020, -0.5788],\n",
            "        [-0.7650, -0.5735, -1.3911,  0.9888, -0.0281,  0.8395, -0.7089, -0.2722,\n",
            "          1.5364,  0.7263]])\n",
            "output : tensor([[0.7700],\n",
            "        [0.5899],\n",
            "        [0.5174],\n",
            "        [0.6501],\n",
            "        [0.5588]], grad_fn=<SigmoidBackward0>)\n"
          ]
        }
      ]
    },
    {
      "cell_type": "code",
      "source": [],
      "metadata": {
        "id": "i_RmieCbC1LQ"
      },
      "execution_count": null,
      "outputs": []
    },
    {
      "cell_type": "markdown",
      "source": [
        "#### (2) Sequential 모듈 사용"
      ],
      "metadata": {
        "id": "HYBCrlPuK4v_"
      }
    },
    {
      "cell_type": "code",
      "source": [
        "class MyModel(nn.Module):\n",
        "    def __init__(self):\n",
        "        super(MyModel, self).__init__()\n",
        "\n",
        "        # Sequntial을 이용해 network1 정의\n",
        "        self.network1 = nn.Sequential(\n",
        "            nn.Linear(10, 20),  # 10차원 입력을 받아 20차원 출력\n",
        "            nn.ReLU(),  # ReLU 활성화 함수\n",
        "            nn.Linear(20, 10),\n",
        "            nn.ReLU()\n",
        "        )\n",
        "\n",
        "        # network2 정의\n",
        "        self.network2 = nn.Sequential(\n",
        "            nn.Linear(10, 10),\n",
        "            nn.ReLU(),\n",
        "            nn.Linear(10, 1),\n",
        "            nn.Sigmoid()\n",
        "        )\n",
        "\n",
        "    # 순전파 연산\n",
        "    def forward(self, x):\n",
        "        x = self.network1(x)\n",
        "        print(\"self.network1 통과 후 x 크기 :\",x.size())\n",
        "        print(\"\")\n",
        "        x = self.network2(x)\n",
        "        print(\"self.network2 통과 후 x 크기 :\",x.size())\n",
        "        print(\"\")\n",
        "\n",
        "        return x"
      ],
      "metadata": {
        "id": "vCN8Efi1K_xE"
      },
      "execution_count": 55,
      "outputs": []
    },
    {
      "cell_type": "code",
      "source": [
        "model = MyModel() # 모델 인스턴스 생성\n",
        "print(model) # 모델 구조 확인"
      ],
      "metadata": {
        "colab": {
          "base_uri": "https://localhost:8080/"
        },
        "id": "7vY92z-WMLa0",
        "outputId": "b277ad32-87b9-4fea-d8f2-70968c3d477a"
      },
      "execution_count": 56,
      "outputs": [
        {
          "output_type": "stream",
          "name": "stdout",
          "text": [
            "MyModel(\n",
            "  (network1): Sequential(\n",
            "    (0): Linear(in_features=10, out_features=20, bias=True)\n",
            "    (1): ReLU()\n",
            "    (2): Linear(in_features=20, out_features=10, bias=True)\n",
            "    (3): ReLU()\n",
            "  )\n",
            "  (network2): Sequential(\n",
            "    (0): Linear(in_features=10, out_features=10, bias=True)\n",
            "    (1): ReLU()\n",
            "    (2): Linear(in_features=10, out_features=1, bias=True)\n",
            "    (3): Sigmoid()\n",
            "  )\n",
            ")\n"
          ]
        }
      ]
    },
    {
      "cell_type": "code",
      "source": [
        "# 샘플 데이터 생성\n",
        "sample_data = torch.randn(5, 10)  # 배치 크기 5, 입력 차원 10인 임의의 데이터\n",
        "print(\"sample_data :\", sample_data)\n",
        "print(\"sample_data 사이즈 :\", sample_data.size())\n",
        "print(\"\")\n",
        "# 모델을 통과시키기\n",
        "output = model(sample_data)\n",
        "\n",
        "print(\"output :\", output)  # 모델의 출력 확인\n"
      ],
      "metadata": {
        "colab": {
          "base_uri": "https://localhost:8080/"
        },
        "id": "pq2VGuy_LjfM",
        "outputId": "c51e3e3b-3093-4ad3-87e2-cd067089ef36"
      },
      "execution_count": null,
      "outputs": [
        {
          "output_type": "stream",
          "name": "stdout",
          "text": [
            "sample data : tensor([[ 0.6648,  1.8221,  0.3828, -0.7719, -0.0956,  0.4396, -0.2748, -0.2950,\n",
            "          0.0329, -0.9778],\n",
            "        [-0.4396, -0.0602, -0.0769, -0.9004, -0.7698,  0.9394, -0.5680, -1.1157,\n",
            "          1.5037,  2.0360],\n",
            "        [-0.5039,  1.1539,  2.2883, -1.2955,  0.3610, -0.9315, -0.6473,  0.5200,\n",
            "          0.3735, -0.1082],\n",
            "        [-0.8545, -0.7184, -0.0774,  1.2203,  0.6452,  0.2801, -0.9952,  1.4884,\n",
            "         -0.3165,  0.8926],\n",
            "        [-0.1311, -0.5776, -0.8859, -0.3404, -0.2201,  1.9249, -1.4341, -0.0372,\n",
            "          0.9395,  0.4199]])\n",
            "sample data 사이즈 : torch.Size([5, 10])\n",
            "\n",
            "self.network1 통과 후 x 크기 : torch.Size([5, 10])\n",
            "\n",
            "self.network2 통과 후 x 크기 : torch.Size([5, 1])\n",
            "\n",
            "output : tensor([[0.4786],\n",
            "        [0.4833],\n",
            "        [0.4913],\n",
            "        [0.4951],\n",
            "        [0.4858]], grad_fn=<SigmoidBackward0>)\n"
          ]
        }
      ]
    },
    {
      "cell_type": "code",
      "source": [],
      "metadata": {
        "id": "TkOpgciJLrFy"
      },
      "execution_count": null,
      "outputs": []
    },
    {
      "cell_type": "markdown",
      "source": [
        "### 2) 학습된 모델 불러오기"
      ],
      "metadata": {
        "id": "SQKuP8mBSEUS"
      }
    },
    {
      "cell_type": "code",
      "source": [
        "# 필요한 라이브러리 불러오기\n",
        "\n",
        "import torch\n",
        "import torchvision.models as models\n",
        "import torchvision.transforms as transforms\n",
        "import torchvision.datasets as datasets\n",
        "import torch.nn.functional as F"
      ],
      "metadata": {
        "id": "wmSH1StTSFjl"
      },
      "execution_count": 57,
      "outputs": []
    },
    {
      "cell_type": "code",
      "source": [
        "# 사전 학습된 파라미터를 사용하여 ResNet 모델을 불러오기\n",
        "resnet = models.resnet50(pretrained=True)\n",
        "\n",
        "# 모델의 구조를 출력\n",
        "print(resnet)"
      ],
      "metadata": {
        "colab": {
          "base_uri": "https://localhost:8080/"
        },
        "id": "VLsyQfsCSLFE",
        "outputId": "0d4a29df-e719-46ac-d55a-686c9c23cbcd"
      },
      "execution_count": 58,
      "outputs": [
        {
          "output_type": "stream",
          "name": "stderr",
          "text": [
            "/usr/local/lib/python3.10/dist-packages/torchvision/models/_utils.py:208: UserWarning: The parameter 'pretrained' is deprecated since 0.13 and may be removed in the future, please use 'weights' instead.\n",
            "  warnings.warn(\n",
            "/usr/local/lib/python3.10/dist-packages/torchvision/models/_utils.py:223: UserWarning: Arguments other than a weight enum or `None` for 'weights' are deprecated since 0.13 and may be removed in the future. The current behavior is equivalent to passing `weights=ResNet50_Weights.IMAGENET1K_V1`. You can also use `weights=ResNet50_Weights.DEFAULT` to get the most up-to-date weights.\n",
            "  warnings.warn(msg)\n",
            "Downloading: \"https://download.pytorch.org/models/resnet50-0676ba61.pth\" to /root/.cache/torch/hub/checkpoints/resnet50-0676ba61.pth\n",
            "100%|██████████| 97.8M/97.8M [00:00<00:00, 119MB/s]\n"
          ]
        },
        {
          "output_type": "stream",
          "name": "stdout",
          "text": [
            "ResNet(\n",
            "  (conv1): Conv2d(3, 64, kernel_size=(7, 7), stride=(2, 2), padding=(3, 3), bias=False)\n",
            "  (bn1): BatchNorm2d(64, eps=1e-05, momentum=0.1, affine=True, track_running_stats=True)\n",
            "  (relu): ReLU(inplace=True)\n",
            "  (maxpool): MaxPool2d(kernel_size=3, stride=2, padding=1, dilation=1, ceil_mode=False)\n",
            "  (layer1): Sequential(\n",
            "    (0): Bottleneck(\n",
            "      (conv1): Conv2d(64, 64, kernel_size=(1, 1), stride=(1, 1), bias=False)\n",
            "      (bn1): BatchNorm2d(64, eps=1e-05, momentum=0.1, affine=True, track_running_stats=True)\n",
            "      (conv2): Conv2d(64, 64, kernel_size=(3, 3), stride=(1, 1), padding=(1, 1), bias=False)\n",
            "      (bn2): BatchNorm2d(64, eps=1e-05, momentum=0.1, affine=True, track_running_stats=True)\n",
            "      (conv3): Conv2d(64, 256, kernel_size=(1, 1), stride=(1, 1), bias=False)\n",
            "      (bn3): BatchNorm2d(256, eps=1e-05, momentum=0.1, affine=True, track_running_stats=True)\n",
            "      (relu): ReLU(inplace=True)\n",
            "      (downsample): Sequential(\n",
            "        (0): Conv2d(64, 256, kernel_size=(1, 1), stride=(1, 1), bias=False)\n",
            "        (1): BatchNorm2d(256, eps=1e-05, momentum=0.1, affine=True, track_running_stats=True)\n",
            "      )\n",
            "    )\n",
            "    (1): Bottleneck(\n",
            "      (conv1): Conv2d(256, 64, kernel_size=(1, 1), stride=(1, 1), bias=False)\n",
            "      (bn1): BatchNorm2d(64, eps=1e-05, momentum=0.1, affine=True, track_running_stats=True)\n",
            "      (conv2): Conv2d(64, 64, kernel_size=(3, 3), stride=(1, 1), padding=(1, 1), bias=False)\n",
            "      (bn2): BatchNorm2d(64, eps=1e-05, momentum=0.1, affine=True, track_running_stats=True)\n",
            "      (conv3): Conv2d(64, 256, kernel_size=(1, 1), stride=(1, 1), bias=False)\n",
            "      (bn3): BatchNorm2d(256, eps=1e-05, momentum=0.1, affine=True, track_running_stats=True)\n",
            "      (relu): ReLU(inplace=True)\n",
            "    )\n",
            "    (2): Bottleneck(\n",
            "      (conv1): Conv2d(256, 64, kernel_size=(1, 1), stride=(1, 1), bias=False)\n",
            "      (bn1): BatchNorm2d(64, eps=1e-05, momentum=0.1, affine=True, track_running_stats=True)\n",
            "      (conv2): Conv2d(64, 64, kernel_size=(3, 3), stride=(1, 1), padding=(1, 1), bias=False)\n",
            "      (bn2): BatchNorm2d(64, eps=1e-05, momentum=0.1, affine=True, track_running_stats=True)\n",
            "      (conv3): Conv2d(64, 256, kernel_size=(1, 1), stride=(1, 1), bias=False)\n",
            "      (bn3): BatchNorm2d(256, eps=1e-05, momentum=0.1, affine=True, track_running_stats=True)\n",
            "      (relu): ReLU(inplace=True)\n",
            "    )\n",
            "  )\n",
            "  (layer2): Sequential(\n",
            "    (0): Bottleneck(\n",
            "      (conv1): Conv2d(256, 128, kernel_size=(1, 1), stride=(1, 1), bias=False)\n",
            "      (bn1): BatchNorm2d(128, eps=1e-05, momentum=0.1, affine=True, track_running_stats=True)\n",
            "      (conv2): Conv2d(128, 128, kernel_size=(3, 3), stride=(2, 2), padding=(1, 1), bias=False)\n",
            "      (bn2): BatchNorm2d(128, eps=1e-05, momentum=0.1, affine=True, track_running_stats=True)\n",
            "      (conv3): Conv2d(128, 512, kernel_size=(1, 1), stride=(1, 1), bias=False)\n",
            "      (bn3): BatchNorm2d(512, eps=1e-05, momentum=0.1, affine=True, track_running_stats=True)\n",
            "      (relu): ReLU(inplace=True)\n",
            "      (downsample): Sequential(\n",
            "        (0): Conv2d(256, 512, kernel_size=(1, 1), stride=(2, 2), bias=False)\n",
            "        (1): BatchNorm2d(512, eps=1e-05, momentum=0.1, affine=True, track_running_stats=True)\n",
            "      )\n",
            "    )\n",
            "    (1): Bottleneck(\n",
            "      (conv1): Conv2d(512, 128, kernel_size=(1, 1), stride=(1, 1), bias=False)\n",
            "      (bn1): BatchNorm2d(128, eps=1e-05, momentum=0.1, affine=True, track_running_stats=True)\n",
            "      (conv2): Conv2d(128, 128, kernel_size=(3, 3), stride=(1, 1), padding=(1, 1), bias=False)\n",
            "      (bn2): BatchNorm2d(128, eps=1e-05, momentum=0.1, affine=True, track_running_stats=True)\n",
            "      (conv3): Conv2d(128, 512, kernel_size=(1, 1), stride=(1, 1), bias=False)\n",
            "      (bn3): BatchNorm2d(512, eps=1e-05, momentum=0.1, affine=True, track_running_stats=True)\n",
            "      (relu): ReLU(inplace=True)\n",
            "    )\n",
            "    (2): Bottleneck(\n",
            "      (conv1): Conv2d(512, 128, kernel_size=(1, 1), stride=(1, 1), bias=False)\n",
            "      (bn1): BatchNorm2d(128, eps=1e-05, momentum=0.1, affine=True, track_running_stats=True)\n",
            "      (conv2): Conv2d(128, 128, kernel_size=(3, 3), stride=(1, 1), padding=(1, 1), bias=False)\n",
            "      (bn2): BatchNorm2d(128, eps=1e-05, momentum=0.1, affine=True, track_running_stats=True)\n",
            "      (conv3): Conv2d(128, 512, kernel_size=(1, 1), stride=(1, 1), bias=False)\n",
            "      (bn3): BatchNorm2d(512, eps=1e-05, momentum=0.1, affine=True, track_running_stats=True)\n",
            "      (relu): ReLU(inplace=True)\n",
            "    )\n",
            "    (3): Bottleneck(\n",
            "      (conv1): Conv2d(512, 128, kernel_size=(1, 1), stride=(1, 1), bias=False)\n",
            "      (bn1): BatchNorm2d(128, eps=1e-05, momentum=0.1, affine=True, track_running_stats=True)\n",
            "      (conv2): Conv2d(128, 128, kernel_size=(3, 3), stride=(1, 1), padding=(1, 1), bias=False)\n",
            "      (bn2): BatchNorm2d(128, eps=1e-05, momentum=0.1, affine=True, track_running_stats=True)\n",
            "      (conv3): Conv2d(128, 512, kernel_size=(1, 1), stride=(1, 1), bias=False)\n",
            "      (bn3): BatchNorm2d(512, eps=1e-05, momentum=0.1, affine=True, track_running_stats=True)\n",
            "      (relu): ReLU(inplace=True)\n",
            "    )\n",
            "  )\n",
            "  (layer3): Sequential(\n",
            "    (0): Bottleneck(\n",
            "      (conv1): Conv2d(512, 256, kernel_size=(1, 1), stride=(1, 1), bias=False)\n",
            "      (bn1): BatchNorm2d(256, eps=1e-05, momentum=0.1, affine=True, track_running_stats=True)\n",
            "      (conv2): Conv2d(256, 256, kernel_size=(3, 3), stride=(2, 2), padding=(1, 1), bias=False)\n",
            "      (bn2): BatchNorm2d(256, eps=1e-05, momentum=0.1, affine=True, track_running_stats=True)\n",
            "      (conv3): Conv2d(256, 1024, kernel_size=(1, 1), stride=(1, 1), bias=False)\n",
            "      (bn3): BatchNorm2d(1024, eps=1e-05, momentum=0.1, affine=True, track_running_stats=True)\n",
            "      (relu): ReLU(inplace=True)\n",
            "      (downsample): Sequential(\n",
            "        (0): Conv2d(512, 1024, kernel_size=(1, 1), stride=(2, 2), bias=False)\n",
            "        (1): BatchNorm2d(1024, eps=1e-05, momentum=0.1, affine=True, track_running_stats=True)\n",
            "      )\n",
            "    )\n",
            "    (1): Bottleneck(\n",
            "      (conv1): Conv2d(1024, 256, kernel_size=(1, 1), stride=(1, 1), bias=False)\n",
            "      (bn1): BatchNorm2d(256, eps=1e-05, momentum=0.1, affine=True, track_running_stats=True)\n",
            "      (conv2): Conv2d(256, 256, kernel_size=(3, 3), stride=(1, 1), padding=(1, 1), bias=False)\n",
            "      (bn2): BatchNorm2d(256, eps=1e-05, momentum=0.1, affine=True, track_running_stats=True)\n",
            "      (conv3): Conv2d(256, 1024, kernel_size=(1, 1), stride=(1, 1), bias=False)\n",
            "      (bn3): BatchNorm2d(1024, eps=1e-05, momentum=0.1, affine=True, track_running_stats=True)\n",
            "      (relu): ReLU(inplace=True)\n",
            "    )\n",
            "    (2): Bottleneck(\n",
            "      (conv1): Conv2d(1024, 256, kernel_size=(1, 1), stride=(1, 1), bias=False)\n",
            "      (bn1): BatchNorm2d(256, eps=1e-05, momentum=0.1, affine=True, track_running_stats=True)\n",
            "      (conv2): Conv2d(256, 256, kernel_size=(3, 3), stride=(1, 1), padding=(1, 1), bias=False)\n",
            "      (bn2): BatchNorm2d(256, eps=1e-05, momentum=0.1, affine=True, track_running_stats=True)\n",
            "      (conv3): Conv2d(256, 1024, kernel_size=(1, 1), stride=(1, 1), bias=False)\n",
            "      (bn3): BatchNorm2d(1024, eps=1e-05, momentum=0.1, affine=True, track_running_stats=True)\n",
            "      (relu): ReLU(inplace=True)\n",
            "    )\n",
            "    (3): Bottleneck(\n",
            "      (conv1): Conv2d(1024, 256, kernel_size=(1, 1), stride=(1, 1), bias=False)\n",
            "      (bn1): BatchNorm2d(256, eps=1e-05, momentum=0.1, affine=True, track_running_stats=True)\n",
            "      (conv2): Conv2d(256, 256, kernel_size=(3, 3), stride=(1, 1), padding=(1, 1), bias=False)\n",
            "      (bn2): BatchNorm2d(256, eps=1e-05, momentum=0.1, affine=True, track_running_stats=True)\n",
            "      (conv3): Conv2d(256, 1024, kernel_size=(1, 1), stride=(1, 1), bias=False)\n",
            "      (bn3): BatchNorm2d(1024, eps=1e-05, momentum=0.1, affine=True, track_running_stats=True)\n",
            "      (relu): ReLU(inplace=True)\n",
            "    )\n",
            "    (4): Bottleneck(\n",
            "      (conv1): Conv2d(1024, 256, kernel_size=(1, 1), stride=(1, 1), bias=False)\n",
            "      (bn1): BatchNorm2d(256, eps=1e-05, momentum=0.1, affine=True, track_running_stats=True)\n",
            "      (conv2): Conv2d(256, 256, kernel_size=(3, 3), stride=(1, 1), padding=(1, 1), bias=False)\n",
            "      (bn2): BatchNorm2d(256, eps=1e-05, momentum=0.1, affine=True, track_running_stats=True)\n",
            "      (conv3): Conv2d(256, 1024, kernel_size=(1, 1), stride=(1, 1), bias=False)\n",
            "      (bn3): BatchNorm2d(1024, eps=1e-05, momentum=0.1, affine=True, track_running_stats=True)\n",
            "      (relu): ReLU(inplace=True)\n",
            "    )\n",
            "    (5): Bottleneck(\n",
            "      (conv1): Conv2d(1024, 256, kernel_size=(1, 1), stride=(1, 1), bias=False)\n",
            "      (bn1): BatchNorm2d(256, eps=1e-05, momentum=0.1, affine=True, track_running_stats=True)\n",
            "      (conv2): Conv2d(256, 256, kernel_size=(3, 3), stride=(1, 1), padding=(1, 1), bias=False)\n",
            "      (bn2): BatchNorm2d(256, eps=1e-05, momentum=0.1, affine=True, track_running_stats=True)\n",
            "      (conv3): Conv2d(256, 1024, kernel_size=(1, 1), stride=(1, 1), bias=False)\n",
            "      (bn3): BatchNorm2d(1024, eps=1e-05, momentum=0.1, affine=True, track_running_stats=True)\n",
            "      (relu): ReLU(inplace=True)\n",
            "    )\n",
            "  )\n",
            "  (layer4): Sequential(\n",
            "    (0): Bottleneck(\n",
            "      (conv1): Conv2d(1024, 512, kernel_size=(1, 1), stride=(1, 1), bias=False)\n",
            "      (bn1): BatchNorm2d(512, eps=1e-05, momentum=0.1, affine=True, track_running_stats=True)\n",
            "      (conv2): Conv2d(512, 512, kernel_size=(3, 3), stride=(2, 2), padding=(1, 1), bias=False)\n",
            "      (bn2): BatchNorm2d(512, eps=1e-05, momentum=0.1, affine=True, track_running_stats=True)\n",
            "      (conv3): Conv2d(512, 2048, kernel_size=(1, 1), stride=(1, 1), bias=False)\n",
            "      (bn3): BatchNorm2d(2048, eps=1e-05, momentum=0.1, affine=True, track_running_stats=True)\n",
            "      (relu): ReLU(inplace=True)\n",
            "      (downsample): Sequential(\n",
            "        (0): Conv2d(1024, 2048, kernel_size=(1, 1), stride=(2, 2), bias=False)\n",
            "        (1): BatchNorm2d(2048, eps=1e-05, momentum=0.1, affine=True, track_running_stats=True)\n",
            "      )\n",
            "    )\n",
            "    (1): Bottleneck(\n",
            "      (conv1): Conv2d(2048, 512, kernel_size=(1, 1), stride=(1, 1), bias=False)\n",
            "      (bn1): BatchNorm2d(512, eps=1e-05, momentum=0.1, affine=True, track_running_stats=True)\n",
            "      (conv2): Conv2d(512, 512, kernel_size=(3, 3), stride=(1, 1), padding=(1, 1), bias=False)\n",
            "      (bn2): BatchNorm2d(512, eps=1e-05, momentum=0.1, affine=True, track_running_stats=True)\n",
            "      (conv3): Conv2d(512, 2048, kernel_size=(1, 1), stride=(1, 1), bias=False)\n",
            "      (bn3): BatchNorm2d(2048, eps=1e-05, momentum=0.1, affine=True, track_running_stats=True)\n",
            "      (relu): ReLU(inplace=True)\n",
            "    )\n",
            "    (2): Bottleneck(\n",
            "      (conv1): Conv2d(2048, 512, kernel_size=(1, 1), stride=(1, 1), bias=False)\n",
            "      (bn1): BatchNorm2d(512, eps=1e-05, momentum=0.1, affine=True, track_running_stats=True)\n",
            "      (conv2): Conv2d(512, 512, kernel_size=(3, 3), stride=(1, 1), padding=(1, 1), bias=False)\n",
            "      (bn2): BatchNorm2d(512, eps=1e-05, momentum=0.1, affine=True, track_running_stats=True)\n",
            "      (conv3): Conv2d(512, 2048, kernel_size=(1, 1), stride=(1, 1), bias=False)\n",
            "      (bn3): BatchNorm2d(2048, eps=1e-05, momentum=0.1, affine=True, track_running_stats=True)\n",
            "      (relu): ReLU(inplace=True)\n",
            "    )\n",
            "  )\n",
            "  (avgpool): AdaptiveAvgPool2d(output_size=(1, 1))\n",
            "  (fc): Linear(in_features=2048, out_features=1000, bias=True)\n",
            ")\n"
          ]
        }
      ]
    },
    {
      "cell_type": "code",
      "source": [
        "# 출력 레이어의 output 수정\n",
        "resnet.fc = nn.Linear(resnet.fc.in_features, 10) # (in_features=resnet.fc.in_features / out_features=10)\n",
        "# pytorch에서는 레이어를 쌓을 때 마지막 최종 출력에 activation function을 생략한다.\n",
        "# 모델의 구조를 출력\n",
        "print(resnet)"
      ],
      "metadata": {
        "colab": {
          "base_uri": "https://localhost:8080/"
        },
        "id": "C57Xph1sjwJ3",
        "outputId": "e79c5ec6-b9bd-433b-fae9-38f73bd1e639"
      },
      "execution_count": 62,
      "outputs": [
        {
          "output_type": "stream",
          "name": "stdout",
          "text": [
            "ResNet(\n",
            "  (conv1): Conv2d(3, 64, kernel_size=(7, 7), stride=(2, 2), padding=(3, 3), bias=False)\n",
            "  (bn1): BatchNorm2d(64, eps=1e-05, momentum=0.1, affine=True, track_running_stats=True)\n",
            "  (relu): ReLU(inplace=True)\n",
            "  (maxpool): MaxPool2d(kernel_size=3, stride=2, padding=1, dilation=1, ceil_mode=False)\n",
            "  (layer1): Sequential(\n",
            "    (0): Bottleneck(\n",
            "      (conv1): Conv2d(64, 64, kernel_size=(1, 1), stride=(1, 1), bias=False)\n",
            "      (bn1): BatchNorm2d(64, eps=1e-05, momentum=0.1, affine=True, track_running_stats=True)\n",
            "      (conv2): Conv2d(64, 64, kernel_size=(3, 3), stride=(1, 1), padding=(1, 1), bias=False)\n",
            "      (bn2): BatchNorm2d(64, eps=1e-05, momentum=0.1, affine=True, track_running_stats=True)\n",
            "      (conv3): Conv2d(64, 256, kernel_size=(1, 1), stride=(1, 1), bias=False)\n",
            "      (bn3): BatchNorm2d(256, eps=1e-05, momentum=0.1, affine=True, track_running_stats=True)\n",
            "      (relu): ReLU(inplace=True)\n",
            "      (downsample): Sequential(\n",
            "        (0): Conv2d(64, 256, kernel_size=(1, 1), stride=(1, 1), bias=False)\n",
            "        (1): BatchNorm2d(256, eps=1e-05, momentum=0.1, affine=True, track_running_stats=True)\n",
            "      )\n",
            "    )\n",
            "    (1): Bottleneck(\n",
            "      (conv1): Conv2d(256, 64, kernel_size=(1, 1), stride=(1, 1), bias=False)\n",
            "      (bn1): BatchNorm2d(64, eps=1e-05, momentum=0.1, affine=True, track_running_stats=True)\n",
            "      (conv2): Conv2d(64, 64, kernel_size=(3, 3), stride=(1, 1), padding=(1, 1), bias=False)\n",
            "      (bn2): BatchNorm2d(64, eps=1e-05, momentum=0.1, affine=True, track_running_stats=True)\n",
            "      (conv3): Conv2d(64, 256, kernel_size=(1, 1), stride=(1, 1), bias=False)\n",
            "      (bn3): BatchNorm2d(256, eps=1e-05, momentum=0.1, affine=True, track_running_stats=True)\n",
            "      (relu): ReLU(inplace=True)\n",
            "    )\n",
            "    (2): Bottleneck(\n",
            "      (conv1): Conv2d(256, 64, kernel_size=(1, 1), stride=(1, 1), bias=False)\n",
            "      (bn1): BatchNorm2d(64, eps=1e-05, momentum=0.1, affine=True, track_running_stats=True)\n",
            "      (conv2): Conv2d(64, 64, kernel_size=(3, 3), stride=(1, 1), padding=(1, 1), bias=False)\n",
            "      (bn2): BatchNorm2d(64, eps=1e-05, momentum=0.1, affine=True, track_running_stats=True)\n",
            "      (conv3): Conv2d(64, 256, kernel_size=(1, 1), stride=(1, 1), bias=False)\n",
            "      (bn3): BatchNorm2d(256, eps=1e-05, momentum=0.1, affine=True, track_running_stats=True)\n",
            "      (relu): ReLU(inplace=True)\n",
            "    )\n",
            "  )\n",
            "  (layer2): Sequential(\n",
            "    (0): Bottleneck(\n",
            "      (conv1): Conv2d(256, 128, kernel_size=(1, 1), stride=(1, 1), bias=False)\n",
            "      (bn1): BatchNorm2d(128, eps=1e-05, momentum=0.1, affine=True, track_running_stats=True)\n",
            "      (conv2): Conv2d(128, 128, kernel_size=(3, 3), stride=(2, 2), padding=(1, 1), bias=False)\n",
            "      (bn2): BatchNorm2d(128, eps=1e-05, momentum=0.1, affine=True, track_running_stats=True)\n",
            "      (conv3): Conv2d(128, 512, kernel_size=(1, 1), stride=(1, 1), bias=False)\n",
            "      (bn3): BatchNorm2d(512, eps=1e-05, momentum=0.1, affine=True, track_running_stats=True)\n",
            "      (relu): ReLU(inplace=True)\n",
            "      (downsample): Sequential(\n",
            "        (0): Conv2d(256, 512, kernel_size=(1, 1), stride=(2, 2), bias=False)\n",
            "        (1): BatchNorm2d(512, eps=1e-05, momentum=0.1, affine=True, track_running_stats=True)\n",
            "      )\n",
            "    )\n",
            "    (1): Bottleneck(\n",
            "      (conv1): Conv2d(512, 128, kernel_size=(1, 1), stride=(1, 1), bias=False)\n",
            "      (bn1): BatchNorm2d(128, eps=1e-05, momentum=0.1, affine=True, track_running_stats=True)\n",
            "      (conv2): Conv2d(128, 128, kernel_size=(3, 3), stride=(1, 1), padding=(1, 1), bias=False)\n",
            "      (bn2): BatchNorm2d(128, eps=1e-05, momentum=0.1, affine=True, track_running_stats=True)\n",
            "      (conv3): Conv2d(128, 512, kernel_size=(1, 1), stride=(1, 1), bias=False)\n",
            "      (bn3): BatchNorm2d(512, eps=1e-05, momentum=0.1, affine=True, track_running_stats=True)\n",
            "      (relu): ReLU(inplace=True)\n",
            "    )\n",
            "    (2): Bottleneck(\n",
            "      (conv1): Conv2d(512, 128, kernel_size=(1, 1), stride=(1, 1), bias=False)\n",
            "      (bn1): BatchNorm2d(128, eps=1e-05, momentum=0.1, affine=True, track_running_stats=True)\n",
            "      (conv2): Conv2d(128, 128, kernel_size=(3, 3), stride=(1, 1), padding=(1, 1), bias=False)\n",
            "      (bn2): BatchNorm2d(128, eps=1e-05, momentum=0.1, affine=True, track_running_stats=True)\n",
            "      (conv3): Conv2d(128, 512, kernel_size=(1, 1), stride=(1, 1), bias=False)\n",
            "      (bn3): BatchNorm2d(512, eps=1e-05, momentum=0.1, affine=True, track_running_stats=True)\n",
            "      (relu): ReLU(inplace=True)\n",
            "    )\n",
            "    (3): Bottleneck(\n",
            "      (conv1): Conv2d(512, 128, kernel_size=(1, 1), stride=(1, 1), bias=False)\n",
            "      (bn1): BatchNorm2d(128, eps=1e-05, momentum=0.1, affine=True, track_running_stats=True)\n",
            "      (conv2): Conv2d(128, 128, kernel_size=(3, 3), stride=(1, 1), padding=(1, 1), bias=False)\n",
            "      (bn2): BatchNorm2d(128, eps=1e-05, momentum=0.1, affine=True, track_running_stats=True)\n",
            "      (conv3): Conv2d(128, 512, kernel_size=(1, 1), stride=(1, 1), bias=False)\n",
            "      (bn3): BatchNorm2d(512, eps=1e-05, momentum=0.1, affine=True, track_running_stats=True)\n",
            "      (relu): ReLU(inplace=True)\n",
            "    )\n",
            "  )\n",
            "  (layer3): Sequential(\n",
            "    (0): Bottleneck(\n",
            "      (conv1): Conv2d(512, 256, kernel_size=(1, 1), stride=(1, 1), bias=False)\n",
            "      (bn1): BatchNorm2d(256, eps=1e-05, momentum=0.1, affine=True, track_running_stats=True)\n",
            "      (conv2): Conv2d(256, 256, kernel_size=(3, 3), stride=(2, 2), padding=(1, 1), bias=False)\n",
            "      (bn2): BatchNorm2d(256, eps=1e-05, momentum=0.1, affine=True, track_running_stats=True)\n",
            "      (conv3): Conv2d(256, 1024, kernel_size=(1, 1), stride=(1, 1), bias=False)\n",
            "      (bn3): BatchNorm2d(1024, eps=1e-05, momentum=0.1, affine=True, track_running_stats=True)\n",
            "      (relu): ReLU(inplace=True)\n",
            "      (downsample): Sequential(\n",
            "        (0): Conv2d(512, 1024, kernel_size=(1, 1), stride=(2, 2), bias=False)\n",
            "        (1): BatchNorm2d(1024, eps=1e-05, momentum=0.1, affine=True, track_running_stats=True)\n",
            "      )\n",
            "    )\n",
            "    (1): Bottleneck(\n",
            "      (conv1): Conv2d(1024, 256, kernel_size=(1, 1), stride=(1, 1), bias=False)\n",
            "      (bn1): BatchNorm2d(256, eps=1e-05, momentum=0.1, affine=True, track_running_stats=True)\n",
            "      (conv2): Conv2d(256, 256, kernel_size=(3, 3), stride=(1, 1), padding=(1, 1), bias=False)\n",
            "      (bn2): BatchNorm2d(256, eps=1e-05, momentum=0.1, affine=True, track_running_stats=True)\n",
            "      (conv3): Conv2d(256, 1024, kernel_size=(1, 1), stride=(1, 1), bias=False)\n",
            "      (bn3): BatchNorm2d(1024, eps=1e-05, momentum=0.1, affine=True, track_running_stats=True)\n",
            "      (relu): ReLU(inplace=True)\n",
            "    )\n",
            "    (2): Bottleneck(\n",
            "      (conv1): Conv2d(1024, 256, kernel_size=(1, 1), stride=(1, 1), bias=False)\n",
            "      (bn1): BatchNorm2d(256, eps=1e-05, momentum=0.1, affine=True, track_running_stats=True)\n",
            "      (conv2): Conv2d(256, 256, kernel_size=(3, 3), stride=(1, 1), padding=(1, 1), bias=False)\n",
            "      (bn2): BatchNorm2d(256, eps=1e-05, momentum=0.1, affine=True, track_running_stats=True)\n",
            "      (conv3): Conv2d(256, 1024, kernel_size=(1, 1), stride=(1, 1), bias=False)\n",
            "      (bn3): BatchNorm2d(1024, eps=1e-05, momentum=0.1, affine=True, track_running_stats=True)\n",
            "      (relu): ReLU(inplace=True)\n",
            "    )\n",
            "    (3): Bottleneck(\n",
            "      (conv1): Conv2d(1024, 256, kernel_size=(1, 1), stride=(1, 1), bias=False)\n",
            "      (bn1): BatchNorm2d(256, eps=1e-05, momentum=0.1, affine=True, track_running_stats=True)\n",
            "      (conv2): Conv2d(256, 256, kernel_size=(3, 3), stride=(1, 1), padding=(1, 1), bias=False)\n",
            "      (bn2): BatchNorm2d(256, eps=1e-05, momentum=0.1, affine=True, track_running_stats=True)\n",
            "      (conv3): Conv2d(256, 1024, kernel_size=(1, 1), stride=(1, 1), bias=False)\n",
            "      (bn3): BatchNorm2d(1024, eps=1e-05, momentum=0.1, affine=True, track_running_stats=True)\n",
            "      (relu): ReLU(inplace=True)\n",
            "    )\n",
            "    (4): Bottleneck(\n",
            "      (conv1): Conv2d(1024, 256, kernel_size=(1, 1), stride=(1, 1), bias=False)\n",
            "      (bn1): BatchNorm2d(256, eps=1e-05, momentum=0.1, affine=True, track_running_stats=True)\n",
            "      (conv2): Conv2d(256, 256, kernel_size=(3, 3), stride=(1, 1), padding=(1, 1), bias=False)\n",
            "      (bn2): BatchNorm2d(256, eps=1e-05, momentum=0.1, affine=True, track_running_stats=True)\n",
            "      (conv3): Conv2d(256, 1024, kernel_size=(1, 1), stride=(1, 1), bias=False)\n",
            "      (bn3): BatchNorm2d(1024, eps=1e-05, momentum=0.1, affine=True, track_running_stats=True)\n",
            "      (relu): ReLU(inplace=True)\n",
            "    )\n",
            "    (5): Bottleneck(\n",
            "      (conv1): Conv2d(1024, 256, kernel_size=(1, 1), stride=(1, 1), bias=False)\n",
            "      (bn1): BatchNorm2d(256, eps=1e-05, momentum=0.1, affine=True, track_running_stats=True)\n",
            "      (conv2): Conv2d(256, 256, kernel_size=(3, 3), stride=(1, 1), padding=(1, 1), bias=False)\n",
            "      (bn2): BatchNorm2d(256, eps=1e-05, momentum=0.1, affine=True, track_running_stats=True)\n",
            "      (conv3): Conv2d(256, 1024, kernel_size=(1, 1), stride=(1, 1), bias=False)\n",
            "      (bn3): BatchNorm2d(1024, eps=1e-05, momentum=0.1, affine=True, track_running_stats=True)\n",
            "      (relu): ReLU(inplace=True)\n",
            "    )\n",
            "  )\n",
            "  (layer4): Sequential(\n",
            "    (0): Bottleneck(\n",
            "      (conv1): Conv2d(1024, 512, kernel_size=(1, 1), stride=(1, 1), bias=False)\n",
            "      (bn1): BatchNorm2d(512, eps=1e-05, momentum=0.1, affine=True, track_running_stats=True)\n",
            "      (conv2): Conv2d(512, 512, kernel_size=(3, 3), stride=(2, 2), padding=(1, 1), bias=False)\n",
            "      (bn2): BatchNorm2d(512, eps=1e-05, momentum=0.1, affine=True, track_running_stats=True)\n",
            "      (conv3): Conv2d(512, 2048, kernel_size=(1, 1), stride=(1, 1), bias=False)\n",
            "      (bn3): BatchNorm2d(2048, eps=1e-05, momentum=0.1, affine=True, track_running_stats=True)\n",
            "      (relu): ReLU(inplace=True)\n",
            "      (downsample): Sequential(\n",
            "        (0): Conv2d(1024, 2048, kernel_size=(1, 1), stride=(2, 2), bias=False)\n",
            "        (1): BatchNorm2d(2048, eps=1e-05, momentum=0.1, affine=True, track_running_stats=True)\n",
            "      )\n",
            "    )\n",
            "    (1): Bottleneck(\n",
            "      (conv1): Conv2d(2048, 512, kernel_size=(1, 1), stride=(1, 1), bias=False)\n",
            "      (bn1): BatchNorm2d(512, eps=1e-05, momentum=0.1, affine=True, track_running_stats=True)\n",
            "      (conv2): Conv2d(512, 512, kernel_size=(3, 3), stride=(1, 1), padding=(1, 1), bias=False)\n",
            "      (bn2): BatchNorm2d(512, eps=1e-05, momentum=0.1, affine=True, track_running_stats=True)\n",
            "      (conv3): Conv2d(512, 2048, kernel_size=(1, 1), stride=(1, 1), bias=False)\n",
            "      (bn3): BatchNorm2d(2048, eps=1e-05, momentum=0.1, affine=True, track_running_stats=True)\n",
            "      (relu): ReLU(inplace=True)\n",
            "    )\n",
            "    (2): Bottleneck(\n",
            "      (conv1): Conv2d(2048, 512, kernel_size=(1, 1), stride=(1, 1), bias=False)\n",
            "      (bn1): BatchNorm2d(512, eps=1e-05, momentum=0.1, affine=True, track_running_stats=True)\n",
            "      (conv2): Conv2d(512, 512, kernel_size=(3, 3), stride=(1, 1), padding=(1, 1), bias=False)\n",
            "      (bn2): BatchNorm2d(512, eps=1e-05, momentum=0.1, affine=True, track_running_stats=True)\n",
            "      (conv3): Conv2d(512, 2048, kernel_size=(1, 1), stride=(1, 1), bias=False)\n",
            "      (bn3): BatchNorm2d(2048, eps=1e-05, momentum=0.1, affine=True, track_running_stats=True)\n",
            "      (relu): ReLU(inplace=True)\n",
            "    )\n",
            "  )\n",
            "  (avgpool): AdaptiveAvgPool2d(output_size=(1, 1))\n",
            "  (fc): Linear(in_features=2048, out_features=10, bias=True)\n",
            ")\n"
          ]
        }
      ]
    },
    {
      "cell_type": "code",
      "source": [
        "# transform 정의\n",
        "transform = transforms.Compose([\n",
        "    transforms.ToTensor(),\n",
        "    transforms.Lambda(lambda x: x.repeat(3, 1, 1)),  # 1채널을 3채널로 변환\n",
        "    transforms.Normalize(mean=[0.485, 0.456, 0.406], std=[0.229, 0.224, 0.225])  # 이미지 정규화\n",
        "])\n",
        "\n",
        "# MNIST 데이터셋을 다운로드하고 변환\n",
        "mnist = datasets.MNIST(root='./data', train=True, download=True, transform=transform)\n",
        "\n",
        "# 데이터로더 생성\n",
        "dataloader = torch.utils.data.DataLoader(mnist, batch_size=8, shuffle=True)\n",
        "\n",
        "# 샘플 데이터를 가져오기\n",
        "images, labels = next(iter(dataloader))\n",
        "images.shape"
      ],
      "metadata": {
        "colab": {
          "base_uri": "https://localhost:8080/"
        },
        "id": "xoQW-VzvSOod",
        "outputId": "fcd85bd7-df85-4c7b-eb63-d1be51aa6f4b"
      },
      "execution_count": 61,
      "outputs": [
        {
          "output_type": "execute_result",
          "data": {
            "text/plain": [
              "torch.Size([8, 3, 28, 28])"
            ]
          },
          "metadata": {},
          "execution_count": 61
        }
      ]
    },
    {
      "cell_type": "code",
      "source": [
        "# ResNet 모델에 샘플 데이터를 통과\n",
        "# 결과로는 각 클래스에 대한 로짓 값 출력\n",
        "outputs = resnet(images)\n",
        "\n",
        "# 로짓을 softmax에 통과시켜서 각 클래스에 대한 확률값으로 변환\n",
        "outputs = F.softmax(outputs, dim=1)\n",
        "\n",
        "print(outputs)\n",
        "print(outputs.shape)"
      ],
      "metadata": {
        "colab": {
          "base_uri": "https://localhost:8080/"
        },
        "id": "JwA5lXObgSHd",
        "outputId": "0774dcf3-ef75-4dc2-e702-6119ee8dec22"
      },
      "execution_count": 63,
      "outputs": [
        {
          "output_type": "stream",
          "name": "stdout",
          "text": [
            "tensor([[0.0798, 0.0995, 0.1236, 0.0841, 0.0842, 0.0912, 0.1546, 0.1067, 0.0825,\n",
            "         0.0938],\n",
            "        [0.0703, 0.1318, 0.1038, 0.1074, 0.0752, 0.1016, 0.1094, 0.0786, 0.1795,\n",
            "         0.0424],\n",
            "        [0.0764, 0.2305, 0.0949, 0.1215, 0.0617, 0.2129, 0.0437, 0.0785, 0.0549,\n",
            "         0.0251],\n",
            "        [0.1208, 0.0841, 0.1156, 0.1251, 0.0827, 0.0955, 0.1044, 0.1118, 0.0922,\n",
            "         0.0678],\n",
            "        [0.0950, 0.1206, 0.1264, 0.1569, 0.0508, 0.1028, 0.0929, 0.1003, 0.0873,\n",
            "         0.0671],\n",
            "        [0.1655, 0.1312, 0.0660, 0.0858, 0.0824, 0.0857, 0.1451, 0.0932, 0.0982,\n",
            "         0.0468],\n",
            "        [0.2345, 0.0935, 0.0569, 0.0519, 0.0636, 0.0438, 0.2389, 0.0918, 0.0733,\n",
            "         0.0518],\n",
            "        [0.0776, 0.0846, 0.1243, 0.1226, 0.1348, 0.1084, 0.0772, 0.1039, 0.0708,\n",
            "         0.0959]], grad_fn=<SoftmaxBackward0>)\n",
            "torch.Size([8, 10])\n"
          ]
        }
      ]
    },
    {
      "cell_type": "code",
      "source": [],
      "metadata": {
        "id": "R7ttzgahi1K0"
      },
      "execution_count": null,
      "outputs": []
    }
  ]
}