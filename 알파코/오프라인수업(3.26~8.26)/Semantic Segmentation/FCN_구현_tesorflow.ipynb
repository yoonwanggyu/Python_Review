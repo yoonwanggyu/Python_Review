{
  "nbformat": 4,
  "nbformat_minor": 0,
  "metadata": {
    "colab": {
      "provenance": [],
      "include_colab_link": true
    },
    "kernelspec": {
      "name": "python3",
      "display_name": "Python 3"
    },
    "language_info": {
      "name": "python"
    }
  },
  "cells": [
    {
      "cell_type": "markdown",
      "metadata": {
        "id": "view-in-github",
        "colab_type": "text"
      },
      "source": [
        "<a href=\"https://colab.research.google.com/github/yoonwanggyu/Self_Study/blob/main/%EC%95%8C%ED%8C%8C%EC%BD%94/%EC%98%A4%ED%94%84%EB%9D%BC%EC%9D%B8%EC%88%98%EC%97%85(3.26~8.26)/Semantic%20Segmentation/FCN_%EA%B5%AC%ED%98%84_tesorflow.ipynb\" target=\"_parent\"><img src=\"https://colab.research.google.com/assets/colab-badge.svg\" alt=\"Open In Colab\"/></a>"
      ]
    },
    {
      "cell_type": "markdown",
      "source": [
        "# FCN_implementation"
      ],
      "metadata": {
        "id": "fNCFl6s02QHC"
      }
    },
    {
      "cell_type": "markdown",
      "source": [
        "## 주요 함수\n",
        "- x32, x16, x8 : tensorflow.keras.layers.Upsampling2D\n",
        "    - UpSampling2D(size, interpolation='bilinear')\n",
        "- x2 : tensorflow.keras.layers.Conv2DTranspose\n",
        "    - Conv2DTranspose(filters, size, strides, padding='same')\n",
        "    - x2 = size : 4, strides : 2\n"
      ],
      "metadata": {
        "id": "f2PleeNu2QRd"
      }
    },
    {
      "cell_type": "code",
      "source": [
        "import tensorflow as tf\n",
        "from tensorflow.keras import layers\n",
        "from tensorflow.keras.models import Model"
      ],
      "metadata": {
        "id": "4kSCh6Y2OgDJ"
      },
      "execution_count": null,
      "outputs": []
    },
    {
      "cell_type": "code",
      "source": [
        "def FCN(input_shape, num_classes):\n",
        "    inputs = layers.Input(shape=input_shape)\n",
        "    # Block 1\n",
        "    conv1 = layers.Conv2D(64, 3, activation='relu', padding='same')(inputs)\n",
        "    conv1 = layers.Conv2D(64, 3, activation='relu', padding='same')(conv1)\n",
        "    pool1 = layers.MaxPooling2D(pool_size=(2, 2))(conv1)\n",
        "\n",
        "    # Block 2\n",
        "    conv2 = layers.Conv2D(128, 3, activation='relu', padding='same')(pool1)\n",
        "    conv2 = layers.Conv2D(128, 3, activation='relu', padding='same')(conv2)\n",
        "    pool3 = layers.MaxPooling2D(pool_size=(2, 2))(conv2)\n",
        "\n",
        "    # Block 3 : out_28x28\n",
        "    conv3 = layers.Conv2D(256, 3, activation='relu', padding='same')(pool3)\n",
        "    conv3 = layers.Conv2D(256, 3, activation='relu', padding='same')(conv3)\n",
        "    conv3 = layers.Conv2D(256, 3, activation='relu', padding='same')(conv3)\n",
        "    pool3 = layers.MaxPooling2D(pool_size=(2, 2))(conv3)\n",
        "    out_28x28 = layers.Conv2D(num_classes,1,activation='linear',padding='same')(pool3)\n",
        "\n",
        "    # Block 4 : out_14x14\n",
        "    conv4 = layers.Conv2D(512, 3, activation='relu', padding='same')(pool3)\n",
        "    conv4 = layers.Conv2D(512, 3, activation='relu', padding='same')(conv4)\n",
        "    conv4 = layers.Conv2D(512, 3, activation='relu', padding='same')(conv4)\n",
        "    pool4 = layers.MaxPooling2D(pool_size=(2, 2))(conv4)\n",
        "    out_14x14 = layers.Conv2D(num_classes,1,activation='linear',padding='same')(pool4)\n",
        "\n",
        "    # Block 5\n",
        "    conv5 = layers.Conv2D(512, 3, activation='relu', padding='same')(pool4)\n",
        "    conv5 = layers.Conv2D(512, 3, activation='relu', padding='same')(conv5)\n",
        "    conv5 = layers.Conv2D(512, 3, activation='relu', padding='same')(conv5)\n",
        "    pool5 = layers.MaxPooling2D(pool_size=(2, 2))(conv5)\n",
        "\n",
        "    # Block 6 : out_7x7\n",
        "    conv6 = layers.Conv2D(4096, 1, activation='relu', padding='same')(pool5)\n",
        "    conv6 = layers.Conv2D(4096, 1, activation='relu', padding='same')(conv6)\n",
        "    out_7x7 = layers.Conv2D(num_classes,1,activation='linear',padding='same')(conv6)\n",
        "\n",
        "    # upsampling x2 & add\n",
        "    up1 = layers.Conv2DTranspose(num_classes,4,2,activation='linear',padding='same')(out_7x7)\n",
        "    add_14x14 = layers.Add()([up1,out_14x14])\n",
        "    add_14x14 = layers.LeakyReLU()(add_14x14)\n",
        "\n",
        "    up2 = layers.Conv2DTranspose(num_classes,4,2,activation='linear',padding='same')(add_14x14)\n",
        "    add_28x28 = layers.Add()([up2,out_28x28])\n",
        "    add_28x28 = layers.LeakyReLU()(add_28x28)\n",
        "\n",
        "    # Output Layer\n",
        "    out_8s = layers.UpSampling2D(size=(8, 8), interpolation='bilinear')(add_28x28)\n",
        "    out_16s = layers.UpSampling2D(size=(16, 16), interpolation='bilinear')(add_14x14)\n",
        "    out_32s = layers.UpSampling2D(size=(32, 32), interpolation='bilinear')(out_7x7)\n",
        "\n",
        "    # model\n",
        "    # model_8s = Model(inputs=inputs, outputs=out_8s)\n",
        "    # model_16s = Model(inputs=inputs, outputs=out_16s)\n",
        "    # model_32s = Model(inputs=inputs, outputs=out_32s)\n",
        "    model = Model(inputs=inputs, outputs=[out_8s, out_16s, out_32s])\n",
        "    return model_8s, model_16s, model_32s"
      ],
      "metadata": {
        "id": "fRSRIIxW2ThO"
      },
      "execution_count": null,
      "outputs": []
    },
    {
      "cell_type": "code",
      "source": [
        "model_8s, model_16s, model_32s = FCN(input_shape=(224,224, 3), num_classes=21)"
      ],
      "metadata": {
        "id": "hElw8CERuXkf"
      },
      "execution_count": null,
      "outputs": []
    },
    {
      "cell_type": "code",
      "source": [
        "model_8s.summary()"
      ],
      "metadata": {
        "id": "V92Xyt5SuYHV"
      },
      "execution_count": null,
      "outputs": []
    }
  ]
}