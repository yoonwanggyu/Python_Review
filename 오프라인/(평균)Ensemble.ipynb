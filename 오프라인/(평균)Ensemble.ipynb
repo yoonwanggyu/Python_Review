{
  "nbformat": 4,
  "nbformat_minor": 0,
  "metadata": {
    "colab": {
      "provenance": [],
      "include_colab_link": true
    },
    "kernelspec": {
      "name": "python3",
      "display_name": "Python 3"
    },
    "language_info": {
      "name": "python"
    }
  },
  "cells": [
    {
      "cell_type": "markdown",
      "metadata": {
        "id": "view-in-github",
        "colab_type": "text"
      },
      "source": [
        "<a href=\"https://colab.research.google.com/github/yoonwanggyu/Self_Study/blob/main/%EC%98%A4%ED%94%84%EB%9D%BC%EC%9D%B8/(%ED%8F%89%EA%B7%A0)Ensemble.ipynb\" target=\"_parent\"><img src=\"https://colab.research.google.com/assets/colab-badge.svg\" alt=\"Open In Colab\"/></a>"
      ]
    },
    {
      "cell_type": "markdown",
      "source": [
        "# Ensemble"
      ],
      "metadata": {
        "id": "zv9MJSXRuQJg"
      }
    },
    {
      "cell_type": "markdown",
      "source": [
        "- 같은 모델을 쓰되 일부러 한쪽으로 과적합 시키고 평균을 내는 전략도 괜찮음"
      ],
      "metadata": {
        "id": "2pBnKaX6uTrs"
      }
    },
    {
      "cell_type": "markdown",
      "source": [
        "- 일반화 시키는 것과 과적합 시키는 것을 적절하게 조합"
      ],
      "metadata": {
        "id": "aG5rxtPNubyg"
      }
    },
    {
      "cell_type": "code",
      "source": [
        "import tensorflow as tf"
      ],
      "metadata": {
        "id": "5hOTW-IkKNhQ"
      },
      "execution_count": 25,
      "outputs": []
    },
    {
      "cell_type": "code",
      "source": [
        "from tensorflow.keras.applications.resnet50 import ResNet50"
      ],
      "metadata": {
        "id": "NLcF3isGKUFY"
      },
      "execution_count": 26,
      "outputs": []
    },
    {
      "cell_type": "code",
      "execution_count": 27,
      "metadata": {
        "id": "JoeuUTFD39Uv"
      },
      "outputs": [],
      "source": [
        "from tensorflow.keras import datasets, layers, models\n",
        "\n",
        "from tensorflow.keras.layers import Dense, Flatten, MaxPooling2D\n",
        "from tensorflow.keras import Input\n",
        "from tensorflow.keras.layers import Dropout, BatchNormalization\n",
        "\n",
        "import matplotlib.pyplot as plt"
      ]
    },
    {
      "cell_type": "code",
      "execution_count": 28,
      "metadata": {
        "id": "AutEd-Qh6gij"
      },
      "outputs": [],
      "source": [
        "# 케라스 데이터셋을 다운받아 변수에 각각 넣어준다.\n",
        "(train_images, train_labels), (test_images, test_labels) = datasets.cifar10.load_data()"
      ]
    },
    {
      "cell_type": "code",
      "source": [
        "train_images.shape, train_labels.shape, test_images.shape, test_labels.shape"
      ],
      "metadata": {
        "colab": {
          "base_uri": "https://localhost:8080/"
        },
        "id": "pyiqf5_NLj-f",
        "outputId": "437b4852-59a0-411b-ecaa-6a705eff6355"
      },
      "execution_count": 29,
      "outputs": [
        {
          "output_type": "execute_result",
          "data": {
            "text/plain": [
              "((50000, 32, 32, 3), (50000, 1), (10000, 32, 32, 3), (10000, 1))"
            ]
          },
          "metadata": {},
          "execution_count": 29
        }
      ]
    },
    {
      "cell_type": "markdown",
      "source": [
        "- sparse categorical crossentropy : Sparse Categorical Cross Entropy는 반대로 label이 정수일 때 사용한다. 기본적으로 데이터 셋이 제공될 때 label이 정수 형태를 띄고 있는 경우가 많은데 이럴 때 이 loss function을 사용한다."
      ],
      "metadata": {
        "id": "HjuPezMayFuC"
      }
    },
    {
      "cell_type": "markdown",
      "source": [
        "- categorical crossentropy : Categorical Cross Entropy는 데이터 label이 원-핫 인코딩 방식일 때 사용한다. 우리가 to_categorical을 죽어라 사용하는 것도 이것 때문일 확률이 높다."
      ],
      "metadata": {
        "id": "Rrr_uTIcyMgq"
      }
    },
    {
      "cell_type": "code",
      "source": [
        "# sparse categorical crossentropy VS categorical crossentropy + one_hot\n",
        "y_train = tf.keras.utils.to_categorical(train_labels, 10)\n",
        "y_test = tf.keras.utils.to_categorical(test_labels, 10)\n",
        "y_train.shape, y_test.shape"
      ],
      "metadata": {
        "colab": {
          "base_uri": "https://localhost:8080/"
        },
        "id": "kagZCQr2Msd0",
        "outputId": "8d26bc13-59b7-4abf-d30e-889eea58aaea"
      },
      "execution_count": 30,
      "outputs": [
        {
          "output_type": "execute_result",
          "data": {
            "text/plain": [
              "((50000, 10), (10000, 10))"
            ]
          },
          "metadata": {},
          "execution_count": 30
        }
      ]
    },
    {
      "cell_type": "code",
      "execution_count": 31,
      "metadata": {
        "id": "rW_uj8sj6ihs"
      },
      "outputs": [],
      "source": [
        "# 라벨 설정\n",
        "class_names = ['airplane', 'automobile', 'bird', 'cat', 'deer',\n",
        "               'dog', 'frog', 'horse', 'ship', 'truck']"
      ]
    },
    {
      "cell_type": "markdown",
      "source": [
        "### build cnn_model"
      ],
      "metadata": {
        "id": "ymt17jOSLs7B"
      }
    },
    {
      "cell_type": "code",
      "source": [
        "def cnn_model(n_hidden_node, dropout_prob):\n",
        "    base_model = ResNet50(include_top=False, input_shape = (32,32 ,3), weights = 'imagenet')\n",
        "    base_model.trainable = False\n",
        "\n",
        "    inputs = tf.keras.Input(shape=(32, 32, 3))\n",
        "\n",
        "    x = base_model(inputs, training=False)\n",
        "    x = tf.keras.layers.Flatten(input_shape=base_model.output_shape[1:])(x)\n",
        "    x = tf.keras.layers.Dense(n_hidden_node, activation='relu')(x)\n",
        "    x= tf.keras.layers.Dropout(dropout_prob)(x)\n",
        "    outputs = tf.keras.layers.Dense(10, activation='softmax')(x)\n",
        "\n",
        "    model = tf.keras.Model(inputs, outputs)\n",
        "\n",
        "    model.compile(optimizer = tf.keras.optimizers.Adam(learning_rate= 0.001),\n",
        "                  loss = 'categorical_crossentropy',\n",
        "                  metrics=['accuracy'])\n",
        "    return model"
      ],
      "metadata": {
        "id": "b1pejW_8L-qf"
      },
      "execution_count": 32,
      "outputs": []
    },
    {
      "cell_type": "markdown",
      "source": [
        "### train five cnn models"
      ],
      "metadata": {
        "id": "X9DyPg29sye6"
      }
    },
    {
      "cell_type": "markdown",
      "source": [
        "Dropout만 다르게 설정하여 총 5개의 모델을 만듦"
      ],
      "metadata": {
        "id": "RPE25buBrNem"
      }
    },
    {
      "cell_type": "code",
      "source": [
        "cnn_v1 = cnn_model(1024, 0.5)\n",
        "cnn_v2 = cnn_model(1024, 0.6)\n",
        "cnn_v3 = cnn_model(1024, 0.7)\n",
        "cnn_v4 = cnn_model(1024, 0.8)\n",
        "cnn_v5 = cnn_model(1024, 0.9)"
      ],
      "metadata": {
        "id": "rnjKGeGrL7TR",
        "colab": {
          "base_uri": "https://localhost:8080/"
        },
        "outputId": "a59461ce-6642-4710-f7d0-fc55756ea02d"
      },
      "execution_count": 9,
      "outputs": [
        {
          "output_type": "stream",
          "name": "stdout",
          "text": [
            "Downloading data from https://storage.googleapis.com/tensorflow/keras-applications/resnet/resnet50_weights_tf_dim_ordering_tf_kernels_notop.h5\n",
            "94765736/94765736 [==============================] - 1s 0us/step\n"
          ]
        }
      ]
    },
    {
      "cell_type": "markdown",
      "source": [
        "5개 모델 각각 학습"
      ],
      "metadata": {
        "id": "LAZhewtvrR49"
      }
    },
    {
      "cell_type": "code",
      "execution_count": 10,
      "metadata": {
        "colab": {
          "base_uri": "https://localhost:8080/"
        },
        "id": "fqJoWdOn7qtd",
        "outputId": "f0cc9cdd-df5c-4b81-c72a-c4acb52adc08"
      },
      "outputs": [
        {
          "output_type": "stream",
          "name": "stdout",
          "text": [
            "391/391 [==============================] - 255s 641ms/step - loss: 1.5156 - accuracy: 0.5050 - val_loss: 1.1584 - val_accuracy: 0.5967\n"
          ]
        },
        {
          "output_type": "execute_result",
          "data": {
            "text/plain": [
              "<keras.src.callbacks.History at 0x7c3320222050>"
            ]
          },
          "metadata": {},
          "execution_count": 10
        }
      ],
      "source": [
        "cnn_v1.fit(train_images, y_train, epochs = 1, validation_data=(test_images, y_test), batch_size=128)"
      ]
    },
    {
      "cell_type": "code",
      "source": [
        "cnn_v2.fit(train_images, y_train, epochs = 1, validation_data=(test_images, y_test), batch_size=128)"
      ],
      "metadata": {
        "colab": {
          "base_uri": "https://localhost:8080/"
        },
        "id": "bly4dFrGMYk7",
        "outputId": "c3515a65-8c68-4b1b-e86a-4a5fbb1bfa92"
      },
      "execution_count": 11,
      "outputs": [
        {
          "output_type": "stream",
          "name": "stdout",
          "text": [
            "391/391 [==============================] - 257s 647ms/step - loss: 1.6078 - accuracy: 0.4833 - val_loss: 1.1724 - val_accuracy: 0.5950\n"
          ]
        },
        {
          "output_type": "execute_result",
          "data": {
            "text/plain": [
              "<keras.src.callbacks.History at 0x7c330f247cd0>"
            ]
          },
          "metadata": {},
          "execution_count": 11
        }
      ]
    },
    {
      "cell_type": "code",
      "source": [
        "cnn_v3.fit(train_images, y_train, epochs = 1, validation_data=(test_images, y_test), batch_size=128)"
      ],
      "metadata": {
        "colab": {
          "base_uri": "https://localhost:8080/"
        },
        "id": "vw_y2ACUMZwh",
        "outputId": "848a7f4a-d795-49a4-fd9d-24e68a273717"
      },
      "execution_count": 12,
      "outputs": [
        {
          "output_type": "stream",
          "name": "stdout",
          "text": [
            "391/391 [==============================] - 252s 632ms/step - loss: 1.6935 - accuracy: 0.4579 - val_loss: 1.2130 - val_accuracy: 0.5794\n"
          ]
        },
        {
          "output_type": "execute_result",
          "data": {
            "text/plain": [
              "<keras.src.callbacks.History at 0x7c332177b490>"
            ]
          },
          "metadata": {},
          "execution_count": 12
        }
      ]
    },
    {
      "cell_type": "code",
      "source": [
        "cnn_v4.fit(train_images, y_train, epochs = 1, validation_data=(test_images, y_test), batch_size=128)"
      ],
      "metadata": {
        "colab": {
          "base_uri": "https://localhost:8080/"
        },
        "id": "y1aSPJ2vMa0z",
        "outputId": "9726ce4a-65f6-4686-e93b-5426566c49b4"
      },
      "execution_count": 13,
      "outputs": [
        {
          "output_type": "stream",
          "name": "stdout",
          "text": [
            "391/391 [==============================] - 254s 640ms/step - loss: 1.8956 - accuracy: 0.4090 - val_loss: 1.2688 - val_accuracy: 0.5640\n"
          ]
        },
        {
          "output_type": "execute_result",
          "data": {
            "text/plain": [
              "<keras.src.callbacks.History at 0x7c3310eeb8b0>"
            ]
          },
          "metadata": {},
          "execution_count": 13
        }
      ]
    },
    {
      "cell_type": "code",
      "source": [
        "cnn_v5.fit(train_images, y_train, epochs = 1, validation_data=(test_images, y_test), batch_size=128)"
      ],
      "metadata": {
        "colab": {
          "base_uri": "https://localhost:8080/"
        },
        "id": "nl0wSMGrMb5k",
        "outputId": "5e2e83d6-60e0-4597-c289-42c182c1d8b6"
      },
      "execution_count": 14,
      "outputs": [
        {
          "output_type": "stream",
          "name": "stdout",
          "text": [
            "391/391 [==============================] - 256s 644ms/step - loss: 2.2859 - accuracy: 0.3143 - val_loss: 1.4334 - val_accuracy: 0.5086\n"
          ]
        },
        {
          "output_type": "execute_result",
          "data": {
            "text/plain": [
              "<keras.src.callbacks.History at 0x7c330f9e78e0>"
            ]
          },
          "metadata": {},
          "execution_count": 14
        }
      ]
    },
    {
      "cell_type": "markdown",
      "source": [
        "### evaluate five cnn model"
      ],
      "metadata": {
        "id": "fioXkw7oM_V8"
      }
    },
    {
      "cell_type": "code",
      "source": [
        "pred_v1 = cnn_v1.predict(test_images)\n",
        "pred_v2 = cnn_v2.predict(test_images)\n",
        "pred_v3 = cnn_v3.predict(test_images)\n",
        "pred_v4 = cnn_v4.predict(test_images)\n",
        "pred_v5 = cnn_v5.predict(test_images)"
      ],
      "metadata": {
        "colab": {
          "base_uri": "https://localhost:8080/"
        },
        "id": "Gnv6pmRsnIGl",
        "outputId": "59a540df-bf6f-445c-fd05-4e259efbc2c7"
      },
      "execution_count": 15,
      "outputs": [
        {
          "output_type": "stream",
          "name": "stdout",
          "text": [
            "313/313 [==============================] - 49s 151ms/step\n",
            "313/313 [==============================] - 49s 152ms/step\n",
            "313/313 [==============================] - 46s 145ms/step\n",
            "313/313 [==============================] - 48s 149ms/step\n",
            "313/313 [==============================] - 48s 150ms/step\n"
          ]
        }
      ]
    },
    {
      "cell_type": "code",
      "source": [
        "import numpy as np\n",
        "from sklearn.metrics import accuracy_score\n",
        "\n",
        "y_test = np.argmax(y_test, axis=1)   # y_test 배열의 각 행에서 최대값의 인덱스를 반환합니다.\n",
        "\n",
        "score_v1 = accuracy_score(np.argmax(pred_v1, axis=1), y_test)\n",
        "score_v2 = accuracy_score(np.argmax(pred_v2, axis=1), y_test)\n",
        "score_v3 = accuracy_score(np.argmax(pred_v3, axis=1), y_test)\n",
        "score_v4 = accuracy_score(np.argmax(pred_v4, axis=1), y_test)\n",
        "score_v5 = accuracy_score(np.argmax(pred_v5, axis=1), y_test)\n",
        "\n",
        "print(f'score_v1 : {score_v1}')\n",
        "print(f'score_v2 : {score_v2}')\n",
        "print(f'score_v3 : {score_v3}')\n",
        "print(f'score_v4 : {score_v4}')\n",
        "print(f'score_v5 : {score_v5}')"
      ],
      "metadata": {
        "colab": {
          "base_uri": "https://localhost:8080/"
        },
        "id": "GMzW0JbeM4dT",
        "outputId": "4ed597d6-7c41-43ab-fdae-396fce1672ca"
      },
      "execution_count": 16,
      "outputs": [
        {
          "output_type": "stream",
          "name": "stdout",
          "text": [
            "score_v1 : 0.5967\n",
            "score_v2 : 0.595\n",
            "score_v3 : 0.5794\n",
            "score_v4 : 0.564\n",
            "score_v5 : 0.5086\n"
          ]
        }
      ]
    },
    {
      "cell_type": "markdown",
      "source": [
        "### ensemble 5 cnn model"
      ],
      "metadata": {
        "id": "y9R_kNOphP3w"
      }
    },
    {
      "cell_type": "markdown",
      "source": [
        "axis = 0 : 중요 -> 앙상블 할 시 0으로 설정"
      ],
      "metadata": {
        "id": "H3jVZzQ-rl3U"
      }
    },
    {
      "cell_type": "markdown",
      "source": [
        "5개 모델 예측값 평균으로 앙상블"
      ],
      "metadata": {
        "id": "ep4LsNc7r9eP"
      }
    },
    {
      "cell_type": "code",
      "source": [
        "pred_ensemble = np.mean([pred_v1, pred_v2, pred_v3, pred_v4, pred_v5], axis=0)"
      ],
      "metadata": {
        "id": "wi_mNHfFhVHO"
      },
      "execution_count": 17,
      "outputs": []
    },
    {
      "cell_type": "code",
      "source": [
        "pred_ensemble"
      ],
      "metadata": {
        "colab": {
          "base_uri": "https://localhost:8080/"
        },
        "id": "JcGk5kMf6KzS",
        "outputId": "3c9241b3-20e5-4093-c9fa-5433095373d0"
      },
      "execution_count": 19,
      "outputs": [
        {
          "output_type": "execute_result",
          "data": {
            "text/plain": [
              "array([3, 1, 8, ..., 5, 2, 7])"
            ]
          },
          "metadata": {},
          "execution_count": 19
        }
      ]
    },
    {
      "cell_type": "code",
      "source": [
        "pred_ensemble = np.argmax(pred_ensemble, axis=1)\n",
        "accuracy_score(pred_ensemble, y_test)"
      ],
      "metadata": {
        "id": "UXj8xY2HkRoQ",
        "colab": {
          "base_uri": "https://localhost:8080/"
        },
        "outputId": "c25d7706-d4f0-4026-89da-dd5474fa80ab"
      },
      "execution_count": 18,
      "outputs": [
        {
          "output_type": "execute_result",
          "data": {
            "text/plain": [
              "0.6009"
            ]
          },
          "metadata": {},
          "execution_count": 18
        }
      ]
    },
    {
      "cell_type": "markdown",
      "source": [
        "### (practice)ensemble + 2 cnn model\n",
        "위 다섯개의 모델을 앙상블한 모델에 아래 조건에 맞는 2개의 모델을 추가로 학습하여 앙상블해봅시다.\n",
        "- n_hidden_node : 512, dropout_prob : 0.5\n",
        "- n_hidden_node : 256, dropout_prob : 0.5"
      ],
      "metadata": {
        "id": "Pe2qC1V3O9rv"
      }
    },
    {
      "cell_type": "code",
      "source": [
        "cnn_v6 = cnn_model(512, 0.5)\n",
        "cnn_v7 = cnn_model(256,0.5)"
      ],
      "metadata": {
        "id": "uNnrzuWnO9W3"
      },
      "execution_count": 33,
      "outputs": []
    },
    {
      "cell_type": "code",
      "source": [
        "cnn_v6.fit(train_images, y_train, epochs = 1, validation_data=(test_images, y_test), batch_size=128)"
      ],
      "metadata": {
        "colab": {
          "base_uri": "https://localhost:8080/"
        },
        "id": "oybZRkW06bQ_",
        "outputId": "17793de5-a4ec-40a1-c878-a52e3a5317ee"
      },
      "execution_count": 34,
      "outputs": [
        {
          "output_type": "stream",
          "name": "stdout",
          "text": [
            "391/391 [==============================] - 247s 623ms/step - loss: 1.5296 - accuracy: 0.4893 - val_loss: 1.1900 - val_accuracy: 0.5819\n"
          ]
        },
        {
          "output_type": "execute_result",
          "data": {
            "text/plain": [
              "<keras.src.callbacks.History at 0x7c32fd2063b0>"
            ]
          },
          "metadata": {},
          "execution_count": 34
        }
      ]
    },
    {
      "cell_type": "code",
      "source": [
        "cnn_v7.fit(train_images, y_train, epochs = 1, validation_data=(test_images, y_test), batch_size=128)"
      ],
      "metadata": {
        "colab": {
          "base_uri": "https://localhost:8080/"
        },
        "id": "4K8YV1hA6ijb",
        "outputId": "08494055-6fba-44ce-e35a-b8c59dc494c6"
      },
      "execution_count": 35,
      "outputs": [
        {
          "output_type": "stream",
          "name": "stdout",
          "text": [
            "391/391 [==============================] - 250s 618ms/step - loss: 1.5838 - accuracy: 0.4652 - val_loss: 1.1994 - val_accuracy: 0.5793\n"
          ]
        },
        {
          "output_type": "execute_result",
          "data": {
            "text/plain": [
              "<keras.src.callbacks.History at 0x7c32fba27040>"
            ]
          },
          "metadata": {},
          "execution_count": 35
        }
      ]
    },
    {
      "cell_type": "code",
      "source": [
        "pred_v6 = cnn_v1.predict(test_images)\n",
        "pred_v7 = cnn_v1.predict(test_images)\n",
        "\n",
        "print(pred_v6)\n",
        "print(pred_v7)"
      ],
      "metadata": {
        "colab": {
          "base_uri": "https://localhost:8080/"
        },
        "id": "gvVjYWwD6uYY",
        "outputId": "27137c84-c4eb-452c-fa6d-1d138aff8c41"
      },
      "execution_count": 36,
      "outputs": [
        {
          "output_type": "stream",
          "name": "stdout",
          "text": [
            "313/313 [==============================] - 53s 169ms/step\n",
            "313/313 [==============================] - 48s 154ms/step\n",
            "[[5.85275283e-03 4.65413556e-03 1.52443657e-02 ... 3.47337546e-03\n",
            "  5.24012093e-03 1.09879870e-03]\n",
            " [4.79215346e-02 3.10375512e-01 6.21480722e-05 ... 4.47705825e-05\n",
            "  5.21570504e-01 1.19503267e-01]\n",
            " [1.60968415e-02 1.09989159e-02 4.08497763e-05 ... 3.21558822e-04\n",
            "  9.03887212e-01 6.71416298e-02]\n",
            " ...\n",
            " [5.07463061e-04 1.00349856e-03 7.22040385e-02 ... 5.98934256e-02\n",
            "  1.11424619e-04 4.06018255e-04]\n",
            " [1.05366066e-01 1.47327110e-01 1.67274207e-01 ... 1.61469892e-01\n",
            "  3.05379126e-02 4.86348756e-02]\n",
            " [4.74278932e-05 2.98753775e-06 2.96944083e-04 ... 9.64357376e-01\n",
            "  5.02814828e-06 6.23182086e-06]]\n",
            "[[5.85275283e-03 4.65413556e-03 1.52443657e-02 ... 3.47337546e-03\n",
            "  5.24012093e-03 1.09879870e-03]\n",
            " [4.79215346e-02 3.10375512e-01 6.21480722e-05 ... 4.47705825e-05\n",
            "  5.21570504e-01 1.19503267e-01]\n",
            " [1.60968415e-02 1.09989159e-02 4.08497763e-05 ... 3.21558822e-04\n",
            "  9.03887212e-01 6.71416298e-02]\n",
            " ...\n",
            " [5.07463061e-04 1.00349856e-03 7.22040385e-02 ... 5.98934256e-02\n",
            "  1.11424619e-04 4.06018255e-04]\n",
            " [1.05366066e-01 1.47327110e-01 1.67274207e-01 ... 1.61469892e-01\n",
            "  3.05379126e-02 4.86348756e-02]\n",
            " [4.74278932e-05 2.98753775e-06 2.96944083e-04 ... 9.64357376e-01\n",
            "  5.02814828e-06 6.23182086e-06]]\n"
          ]
        }
      ]
    },
    {
      "cell_type": "code",
      "source": [
        "y_test = np.argmax(y_test, axis=1)\n",
        "\n",
        "score_v6 = accuracy_score(np.argmax(pred_v6, axis=1), y_test)\n",
        "score_v7 = accuracy_score(np.argmax(pred_v7, axis=1), y_test)\n",
        "\n",
        "print(f'score_v6 : {score_v6}')\n",
        "print(f'score_v7 : {score_v7}')"
      ],
      "metadata": {
        "colab": {
          "base_uri": "https://localhost:8080/"
        },
        "id": "hDdf4SUK61gg",
        "outputId": "c0936a1b-a803-45f4-fbdd-af52a4858e6f"
      },
      "execution_count": 38,
      "outputs": [
        {
          "output_type": "stream",
          "name": "stdout",
          "text": [
            "score_v6 : 0.5967\n",
            "score_v7 : 0.5967\n"
          ]
        }
      ]
    },
    {
      "cell_type": "markdown",
      "source": [
        "- 기존 5개 + new 2개 앙상블"
      ],
      "metadata": {
        "id": "l6gEmrrNCMho"
      }
    },
    {
      "cell_type": "code",
      "source": [
        "ensemble = np.mean([pred_v1, pred_v2, pred_v3, pred_v4, pred_v5,pred_v6,pred_v7], axis=0)"
      ],
      "metadata": {
        "id": "nmURdkhl8IgB"
      },
      "execution_count": 42,
      "outputs": []
    },
    {
      "cell_type": "code",
      "source": [
        "ensemble = np.argmax(ensemble, axis=1)\n",
        "accuracy_score(ensemble, y_test)"
      ],
      "metadata": {
        "colab": {
          "base_uri": "https://localhost:8080/"
        },
        "id": "_59C3BGuArOy",
        "outputId": "52e538ad-09be-4060-c34c-2faa2f97eda4"
      },
      "execution_count": 43,
      "outputs": [
        {
          "output_type": "execute_result",
          "data": {
            "text/plain": [
              "0.6043"
            ]
          },
          "metadata": {},
          "execution_count": 43
        }
      ]
    }
  ]
}