{
  "nbformat": 4,
  "nbformat_minor": 0,
  "metadata": {
    "colab": {
      "provenance": [],
      "toc_visible": true,
      "authorship_tag": "ABX9TyNkNmw6aKhC3V6dtOB9oSt+",
      "include_colab_link": true
    },
    "kernelspec": {
      "name": "python3",
      "display_name": "Python 3"
    },
    "language_info": {
      "name": "python"
    }
  },
  "cells": [
    {
      "cell_type": "markdown",
      "metadata": {
        "id": "view-in-github",
        "colab_type": "text"
      },
      "source": [
        "<a href=\"https://colab.research.google.com/github/yoonwanggyu/Self_Study/blob/main/%EC%98%A4%ED%94%84%EB%9D%BC%EC%9D%B8/%EC%9D%B4%EB%AF%B8%EC%A7%80_callback%EC%8B%A4%EC%8A%B5.ipynb\" target=\"_parent\"><img src=\"https://colab.research.google.com/assets/colab-badge.svg\" alt=\"Open In Colab\"/></a>"
      ]
    },
    {
      "cell_type": "markdown",
      "source": [
        "## EarlyStopping"
      ],
      "metadata": {
        "id": "-HHxl0ishTeF"
      }
    },
    {
      "cell_type": "markdown",
      "source": [
        "\n",
        "- 첫번째 Callback 기능인 EarlyStopping 에 대해 살펴보자.\n",
        "- 이 기능은 말그대로 모델 학습 시, 더 이상 모델 성능이 개선되지 않을 때, 모델  \n",
        "  학습을 중단(조기 종료)하는 것이다.\n",
        "\n",
        "- 그렇다면, 이 기능을 사용하기 위해서 필요한 세부 설정은 어떤 것이 있을지      \n",
        "  생각해보자.\n",
        "\n",
        "    - 모델 성능을 판단할 지표\n",
        "    - 성능 개선 여부를 판단한 기준\n",
        "    - 성능 개선이 이뤄지지 않을 때, 얼마나 지켜볼 것인지(인내할 것인지)\n",
        "    - 조기 종료할 때, 종료 시 결과로 반환한 것인지, 최고 상태의 결과로 복원해서\n",
        "      반환할 것인지"
      ],
      "metadata": {
        "id": "83txmYDAgZjl"
      }
    },
    {
      "cell_type": "markdown",
      "source": [
        "- tf.keras.callbacks.EarlyStopping(\n",
        "     monitor='val_loss', -> 성능 판단 지표  \n",
        "     min_delta=0, -> 개선이라 판단할 최소값    \n",
        "     patience=0, -> 개선되지않을때 몇 epoch기다렸다 stop할것인지   \n",
        "     restore_best_weights=False -> 최적weight값으로 복원할지  \n",
        "     )"
      ],
      "metadata": {
        "id": "CxI5rtB7hDbk"
      }
    },
    {
      "cell_type": "markdown",
      "source": [
        "## ModelCheckpoint"
      ],
      "metadata": {
        "id": "0FcZKnzShS0z"
      }
    },
    {
      "cell_type": "markdown",
      "source": [
        "- 무엇을 저장해야 할까?\n",
        "    - 모델의 구조\n",
        "    - 모델의 weights"
      ],
      "metadata": {
        "id": "iz9zR2cAhYWg"
      }
    },
    {
      "cell_type": "code",
      "execution_count": null,
      "metadata": {
        "id": "FTaCh5fqfq5v"
      },
      "outputs": [],
      "source": [
        "ckpt = tf.keras.callbacks.ModelCheckpoint(\n",
        "     filepath=checkpoint_path, # 고유한 파일이름 부여 가능\n",
        "     monitor='val_loss', # val_loss값을 기준으로 최저점일때를 기록하고 싶다면\n",
        "     save_best_only=True, # True를 주면 monitor기준 최고상태 기록\n",
        "     save_weights_only=True, # False면 모델 레이어 및 weight값 모두\n",
        "     # save_freq=5 # 체크포인트 저장하는 주기 설정 가능 ('epoch'=에폭마다, 숫자=해당 배치마다)\n",
        "     )"
      ]
    },
    {
      "cell_type": "markdown",
      "source": [
        "## ReduceLROnPlateau"
      ],
      "metadata": {
        "id": "Ygx_QIKWjc-e"
      }
    },
    {
      "cell_type": "markdown",
      "source": [
        "- 모델이 일정기간(patience)동안 개선되지 않으면(monitor)\n",
        "  Learning rate을 일정비율(factor)로 감소시킴으로 loss를 낮춤"
      ],
      "metadata": {
        "id": "vpAfGpJbjiJ5"
      }
    },
    {
      "cell_type": "code",
      "source": [
        "tf.keras.callbacks.ReduceLROnPlateau(\n",
        "    monitor=\"val_loss\",\n",
        "    factor=0.1, # new_lr = lr * factor.\n",
        "    patience=10,\n",
        "    min_delta=0.0001, # threshold for measuring the new optimum, to only focus on significant changes.\n",
        "    cooldown=0, # number of epochs to wait before resuming normal operation after lr has been reduced.\n",
        "    min_lr=0\n",
        ")"
      ],
      "metadata": {
        "id": "pS2Qsex_js-2"
      },
      "execution_count": null,
      "outputs": []
    },
    {
      "cell_type": "markdown",
      "source": [
        "- early stoping이랑 같이 쓸 때는 주의!!(reduce learning rate이 먼저 종료되도록\n",
        "  설정)"
      ],
      "metadata": {
        "id": "cigxdyK-jwhy"
      }
    },
    {
      "cell_type": "markdown",
      "source": [
        "## LearningRateScheduler"
      ],
      "metadata": {
        "id": "WYe_8bnKkCi4"
      }
    },
    {
      "cell_type": "markdown",
      "source": [
        "- 나만의 함수로 설정해서 learning rate을 줄이고 싶을 땐 learningratescheduler쓰자"
      ],
      "metadata": {
        "id": "xOb_iRS9kFtL"
      }
    },
    {
      "cell_type": "markdown",
      "source": [
        "- scheduler함수 설정을 바탕으로, epoch마다 learning rate을 변환"
      ],
      "metadata": {
        "id": "JTLL97BhkKp8"
      }
    },
    {
      "cell_type": "code",
      "source": [
        "def scheduler(epoch, lr):\n",
        "   if epoch < 2:\n",
        "     return lr\n",
        "   else:\n",
        "     return lr * 0.1\n",
        "\n",
        "lr_schedule = tf.keras.callbacks.LearningRateScheduler(scheduler, verbose=0)"
      ],
      "metadata": {
        "id": "cbDQRcfXj0H6"
      },
      "execution_count": null,
      "outputs": []
    },
    {
      "cell_type": "markdown",
      "source": [
        "## 과제"
      ],
      "metadata": {
        "id": "y5eW_40ykgBP"
      }
    },
    {
      "cell_type": "markdown",
      "source": [
        "- 아래 조건에 맞춰 콜백을 이용하여 cifar 10 데이터를 resnet 50으로 학습을 시켜봅시다.\n",
        "\n",
        "    - early stopping : 50 에폭을 잡고, val loss 가 더이상 개선되지 않을 때 조기 종료 (세부 설정은 자율적으로 설정)\n",
        "    - model save : weights만 저장 (세부 설정을 자율)\n",
        "    - learning rate schedule : reduceLR을 사용하여, 성능개선이 되지 않을 때 10분의 1씩 감소(patience 가 early stopping patience보다 작게 잡을 것)\n",
        "    - 학습이 완료되면, 저장된 weights를 불러와서 검증해봅시다."
      ],
      "metadata": {
        "id": "330Sj6n-kiIJ"
      }
    },
    {
      "cell_type": "code",
      "source": [
        "# import tensorflow\n",
        "import tensorflow as tf\n",
        "\n",
        "(train_image,train_label),(test_image,test_label) = tf.keras.datasets.cifar10.load_data()"
      ],
      "metadata": {
        "colab": {
          "base_uri": "https://localhost:8080/"
        },
        "id": "tWT0nghYkq5W",
        "outputId": "a261f968-6e2d-4e6c-ac5f-ba7054b1832a"
      },
      "execution_count": 1,
      "outputs": [
        {
          "output_type": "stream",
          "name": "stdout",
          "text": [
            "Downloading data from https://www.cs.toronto.edu/~kriz/cifar-10-python.tar.gz\n",
            "170498071/170498071 [==============================] - 3s 0us/step\n"
          ]
        }
      ]
    },
    {
      "cell_type": "code",
      "source": [
        "train_image.shape,train_label.shape,test_image.shape,test_label.shape"
      ],
      "metadata": {
        "colab": {
          "base_uri": "https://localhost:8080/"
        },
        "id": "glwj5heInuVa",
        "outputId": "d257f28b-b07c-478b-d334-b26f76092775"
      },
      "execution_count": 2,
      "outputs": [
        {
          "output_type": "execute_result",
          "data": {
            "text/plain": [
              "((50000, 32, 32, 3), (50000, 1), (10000, 32, 32, 3), (10000, 1))"
            ]
          },
          "metadata": {},
          "execution_count": 2
        }
      ]
    },
    {
      "cell_type": "code",
      "source": [
        "import keras\n",
        "from keras.applications import *\n",
        "from tensorflow.keras import layers\n",
        "\n",
        "base_model = keras.applications.resnet50.ResNet50(weights='imagenet',\n",
        "                                                  include_top = False,\n",
        "                                                  input_shape = (32,32,3))"
      ],
      "metadata": {
        "colab": {
          "base_uri": "https://localhost:8080/"
        },
        "id": "eZGY2es9nzjX",
        "outputId": "da48ef05-7559-40f9-e768-6a4b9853fc8d"
      },
      "execution_count": 3,
      "outputs": [
        {
          "output_type": "stream",
          "name": "stdout",
          "text": [
            "Downloading data from https://storage.googleapis.com/tensorflow/keras-applications/resnet/resnet50_weights_tf_dim_ordering_tf_kernels_notop.h5\n",
            "94765736/94765736 [==============================] - 0s 0us/step\n"
          ]
        }
      ]
    },
    {
      "cell_type": "code",
      "source": [
        "len(base_model.layers)"
      ],
      "metadata": {
        "colab": {
          "base_uri": "https://localhost:8080/"
        },
        "id": "6JLzdwwSoIvQ",
        "outputId": "b4895851-fa69-4b02-a3d1-847cb4710a98"
      },
      "execution_count": 4,
      "outputs": [
        {
          "output_type": "execute_result",
          "data": {
            "text/plain": [
              "175"
            ]
          },
          "metadata": {},
          "execution_count": 4
        }
      ]
    },
    {
      "cell_type": "code",
      "source": [
        "base_model.trainable = True\n",
        "\n",
        "for layer in base_model.layers[:-20]:\n",
        "  layer.trainable = False\n",
        "\n",
        "for layer in base_model.layers[-100:]:\n",
        "  print(layer.name, layer.trainable)\n",
        "\n",
        "base_model.output_shape"
      ],
      "metadata": {
        "colab": {
          "base_uri": "https://localhost:8080/"
        },
        "id": "aueJJzFjn9QR",
        "outputId": "7d7cc538-ce01-4d4c-b33c-d32020c180d4"
      },
      "execution_count": 5,
      "outputs": [
        {
          "output_type": "stream",
          "name": "stdout",
          "text": [
            "conv3_block4_2_bn False\n",
            "conv3_block4_2_relu False\n",
            "conv3_block4_3_conv False\n",
            "conv3_block4_3_bn False\n",
            "conv3_block4_add False\n",
            "conv3_block4_out False\n",
            "conv4_block1_1_conv False\n",
            "conv4_block1_1_bn False\n",
            "conv4_block1_1_relu False\n",
            "conv4_block1_2_conv False\n",
            "conv4_block1_2_bn False\n",
            "conv4_block1_2_relu False\n",
            "conv4_block1_0_conv False\n",
            "conv4_block1_3_conv False\n",
            "conv4_block1_0_bn False\n",
            "conv4_block1_3_bn False\n",
            "conv4_block1_add False\n",
            "conv4_block1_out False\n",
            "conv4_block2_1_conv False\n",
            "conv4_block2_1_bn False\n",
            "conv4_block2_1_relu False\n",
            "conv4_block2_2_conv False\n",
            "conv4_block2_2_bn False\n",
            "conv4_block2_2_relu False\n",
            "conv4_block2_3_conv False\n",
            "conv4_block2_3_bn False\n",
            "conv4_block2_add False\n",
            "conv4_block2_out False\n",
            "conv4_block3_1_conv False\n",
            "conv4_block3_1_bn False\n",
            "conv4_block3_1_relu False\n",
            "conv4_block3_2_conv False\n",
            "conv4_block3_2_bn False\n",
            "conv4_block3_2_relu False\n",
            "conv4_block3_3_conv False\n",
            "conv4_block3_3_bn False\n",
            "conv4_block3_add False\n",
            "conv4_block3_out False\n",
            "conv4_block4_1_conv False\n",
            "conv4_block4_1_bn False\n",
            "conv4_block4_1_relu False\n",
            "conv4_block4_2_conv False\n",
            "conv4_block4_2_bn False\n",
            "conv4_block4_2_relu False\n",
            "conv4_block4_3_conv False\n",
            "conv4_block4_3_bn False\n",
            "conv4_block4_add False\n",
            "conv4_block4_out False\n",
            "conv4_block5_1_conv False\n",
            "conv4_block5_1_bn False\n",
            "conv4_block5_1_relu False\n",
            "conv4_block5_2_conv False\n",
            "conv4_block5_2_bn False\n",
            "conv4_block5_2_relu False\n",
            "conv4_block5_3_conv False\n",
            "conv4_block5_3_bn False\n",
            "conv4_block5_add False\n",
            "conv4_block5_out False\n",
            "conv4_block6_1_conv False\n",
            "conv4_block6_1_bn False\n",
            "conv4_block6_1_relu False\n",
            "conv4_block6_2_conv False\n",
            "conv4_block6_2_bn False\n",
            "conv4_block6_2_relu False\n",
            "conv4_block6_3_conv False\n",
            "conv4_block6_3_bn False\n",
            "conv4_block6_add False\n",
            "conv4_block6_out False\n",
            "conv5_block1_1_conv False\n",
            "conv5_block1_1_bn False\n",
            "conv5_block1_1_relu False\n",
            "conv5_block1_2_conv False\n",
            "conv5_block1_2_bn False\n",
            "conv5_block1_2_relu False\n",
            "conv5_block1_0_conv False\n",
            "conv5_block1_3_conv False\n",
            "conv5_block1_0_bn False\n",
            "conv5_block1_3_bn False\n",
            "conv5_block1_add False\n",
            "conv5_block1_out False\n",
            "conv5_block2_1_conv True\n",
            "conv5_block2_1_bn True\n",
            "conv5_block2_1_relu True\n",
            "conv5_block2_2_conv True\n",
            "conv5_block2_2_bn True\n",
            "conv5_block2_2_relu True\n",
            "conv5_block2_3_conv True\n",
            "conv5_block2_3_bn True\n",
            "conv5_block2_add True\n",
            "conv5_block2_out True\n",
            "conv5_block3_1_conv True\n",
            "conv5_block3_1_bn True\n",
            "conv5_block3_1_relu True\n",
            "conv5_block3_2_conv True\n",
            "conv5_block3_2_bn True\n",
            "conv5_block3_2_relu True\n",
            "conv5_block3_3_conv True\n",
            "conv5_block3_3_bn True\n",
            "conv5_block3_add True\n",
            "conv5_block3_out True\n"
          ]
        },
        {
          "output_type": "execute_result",
          "data": {
            "text/plain": [
              "(None, 1, 1, 2048)"
            ]
          },
          "metadata": {},
          "execution_count": 5
        }
      ]
    },
    {
      "cell_type": "code",
      "source": [
        "inputs = tf.keras.Input(shape=(32, 32, 3))\n",
        "\n",
        "x = base_model(inputs, training=True)\n",
        "\n",
        "x = tf.keras.layers.Flatten(input_shape=base_model.output_shape[1:])(x)\n",
        "x = tf.keras.layers.Dense(64, activation='relu')(x)\n",
        "x= tf.keras.layers.Dropout(0.2)(x)\n",
        "outputs = tf.keras.layers.Dense(10, activation='softmax')(x)\n",
        "\n",
        "model = tf.keras.Model(inputs, outputs)"
      ],
      "metadata": {
        "id": "KobKiwaJo6Bx"
      },
      "execution_count": 6,
      "outputs": []
    },
    {
      "cell_type": "code",
      "source": [
        "model.compile(optimizer = tf.keras.optimizers.Adam(learning_rate= 0.001),\n",
        "                  loss = 'sparse_categorical_crossentropy',\n",
        "                  metrics=['accuracy'])"
      ],
      "metadata": {
        "id": "Tbg27JBIp3L0"
      },
      "execution_count": 7,
      "outputs": []
    },
    {
      "cell_type": "code",
      "source": [
        "early_stop = tf.keras.callbacks.EarlyStopping(monitor='val_loss',\n",
        "                                              patience = 15,\n",
        "                                              verbose = 1,\n",
        "                                              restore_best_weights = True)\n",
        "check_point = tf.keras.callbacks.ModelCheckpoint(filepath = 'test_model.h5',\n",
        "                                                 monitor = 'val_loss',\n",
        "                                                 save_best_only = True,\n",
        "                                                 save_weights_only = True)\n",
        "reduceLr = tf.keras.callbacks.ReduceLROnPlateau(monitor = 'val_loss',\n",
        "                                                patience = 5,\n",
        "                                                factor = 0.1,   # 1/10 씩 감소시킴\n",
        "                                                verbose = 1,\n",
        "                                                min_lr = 0)"
      ],
      "metadata": {
        "id": "c6IVLhXCp7VB"
      },
      "execution_count": 8,
      "outputs": []
    },
    {
      "cell_type": "code",
      "source": [
        "model.fit(train_image,train_label,\n",
        "          validation_split = 0.2,\n",
        "          epochs=50,\n",
        "          callbacks=[early_stop,check_point,reduceLr],\n",
        "          verbose = 1)"
      ],
      "metadata": {
        "colab": {
          "base_uri": "https://localhost:8080/",
          "height": 478
        },
        "id": "aQharCYmqIKj",
        "outputId": "dae13520-be96-4d65-eb47-f59a6d34e191"
      },
      "execution_count": 9,
      "outputs": [
        {
          "output_type": "stream",
          "name": "stdout",
          "text": [
            "Epoch 1/50\n",
            "1250/1250 [==============================] - 1041s 827ms/step - loss: 1.4536 - accuracy: 0.5016 - val_loss: 1.2080 - val_accuracy: 0.5815 - lr: 0.0010\n",
            "Epoch 2/50\n",
            "1250/1250 [==============================] - 1005s 804ms/step - loss: 1.1867 - accuracy: 0.5835 - val_loss: 1.1477 - val_accuracy: 0.5999 - lr: 0.0010\n",
            "Epoch 3/50\n",
            " 482/1250 [==========>...................] - ETA: 9:30 - loss: 1.0697 - accuracy: 0.6274"
          ]
        },
        {
          "output_type": "error",
          "ename": "KeyboardInterrupt",
          "evalue": "",
          "traceback": [
            "\u001b[0;31m---------------------------------------------------------------------------\u001b[0m",
            "\u001b[0;31mKeyboardInterrupt\u001b[0m                         Traceback (most recent call last)",
            "\u001b[0;32m<ipython-input-9-669f8ffc3b9e>\u001b[0m in \u001b[0;36m<cell line: 1>\u001b[0;34m()\u001b[0m\n\u001b[0;32m----> 1\u001b[0;31m model.fit(train_image,train_label,\n\u001b[0m\u001b[1;32m      2\u001b[0m           \u001b[0mvalidation_split\u001b[0m \u001b[0;34m=\u001b[0m \u001b[0;36m0.2\u001b[0m\u001b[0;34m,\u001b[0m\u001b[0;34m\u001b[0m\u001b[0;34m\u001b[0m\u001b[0m\n\u001b[1;32m      3\u001b[0m           \u001b[0mepochs\u001b[0m\u001b[0;34m=\u001b[0m\u001b[0;36m50\u001b[0m\u001b[0;34m,\u001b[0m\u001b[0;34m\u001b[0m\u001b[0;34m\u001b[0m\u001b[0m\n\u001b[1;32m      4\u001b[0m           \u001b[0mcallbacks\u001b[0m\u001b[0;34m=\u001b[0m\u001b[0;34m[\u001b[0m\u001b[0mearly_stop\u001b[0m\u001b[0;34m,\u001b[0m\u001b[0mcheck_point\u001b[0m\u001b[0;34m,\u001b[0m\u001b[0mreduceLr\u001b[0m\u001b[0;34m]\u001b[0m\u001b[0;34m,\u001b[0m\u001b[0;34m\u001b[0m\u001b[0;34m\u001b[0m\u001b[0m\n\u001b[1;32m      5\u001b[0m           verbose = 1)\n",
            "\u001b[0;32m/usr/local/lib/python3.10/dist-packages/keras/src/utils/traceback_utils.py\u001b[0m in \u001b[0;36merror_handler\u001b[0;34m(*args, **kwargs)\u001b[0m\n\u001b[1;32m     63\u001b[0m         \u001b[0mfiltered_tb\u001b[0m \u001b[0;34m=\u001b[0m \u001b[0;32mNone\u001b[0m\u001b[0;34m\u001b[0m\u001b[0;34m\u001b[0m\u001b[0m\n\u001b[1;32m     64\u001b[0m         \u001b[0;32mtry\u001b[0m\u001b[0;34m:\u001b[0m\u001b[0;34m\u001b[0m\u001b[0;34m\u001b[0m\u001b[0m\n\u001b[0;32m---> 65\u001b[0;31m             \u001b[0;32mreturn\u001b[0m \u001b[0mfn\u001b[0m\u001b[0;34m(\u001b[0m\u001b[0;34m*\u001b[0m\u001b[0margs\u001b[0m\u001b[0;34m,\u001b[0m \u001b[0;34m**\u001b[0m\u001b[0mkwargs\u001b[0m\u001b[0;34m)\u001b[0m\u001b[0;34m\u001b[0m\u001b[0;34m\u001b[0m\u001b[0m\n\u001b[0m\u001b[1;32m     66\u001b[0m         \u001b[0;32mexcept\u001b[0m \u001b[0mException\u001b[0m \u001b[0;32mas\u001b[0m \u001b[0me\u001b[0m\u001b[0;34m:\u001b[0m\u001b[0;34m\u001b[0m\u001b[0;34m\u001b[0m\u001b[0m\n\u001b[1;32m     67\u001b[0m             \u001b[0mfiltered_tb\u001b[0m \u001b[0;34m=\u001b[0m \u001b[0m_process_traceback_frames\u001b[0m\u001b[0;34m(\u001b[0m\u001b[0me\u001b[0m\u001b[0;34m.\u001b[0m\u001b[0m__traceback__\u001b[0m\u001b[0;34m)\u001b[0m\u001b[0;34m\u001b[0m\u001b[0;34m\u001b[0m\u001b[0m\n",
            "\u001b[0;32m/usr/local/lib/python3.10/dist-packages/keras/src/engine/training.py\u001b[0m in \u001b[0;36mfit\u001b[0;34m(self, x, y, batch_size, epochs, verbose, callbacks, validation_split, validation_data, shuffle, class_weight, sample_weight, initial_epoch, steps_per_epoch, validation_steps, validation_batch_size, validation_freq, max_queue_size, workers, use_multiprocessing)\u001b[0m\n\u001b[1;32m   1805\u001b[0m                         ):\n\u001b[1;32m   1806\u001b[0m                             \u001b[0mcallbacks\u001b[0m\u001b[0;34m.\u001b[0m\u001b[0mon_train_batch_begin\u001b[0m\u001b[0;34m(\u001b[0m\u001b[0mstep\u001b[0m\u001b[0;34m)\u001b[0m\u001b[0;34m\u001b[0m\u001b[0;34m\u001b[0m\u001b[0m\n\u001b[0;32m-> 1807\u001b[0;31m                             \u001b[0mtmp_logs\u001b[0m \u001b[0;34m=\u001b[0m \u001b[0mself\u001b[0m\u001b[0;34m.\u001b[0m\u001b[0mtrain_function\u001b[0m\u001b[0;34m(\u001b[0m\u001b[0miterator\u001b[0m\u001b[0;34m)\u001b[0m\u001b[0;34m\u001b[0m\u001b[0;34m\u001b[0m\u001b[0m\n\u001b[0m\u001b[1;32m   1808\u001b[0m                             \u001b[0;32mif\u001b[0m \u001b[0mdata_handler\u001b[0m\u001b[0;34m.\u001b[0m\u001b[0mshould_sync\u001b[0m\u001b[0;34m:\u001b[0m\u001b[0;34m\u001b[0m\u001b[0;34m\u001b[0m\u001b[0m\n\u001b[1;32m   1809\u001b[0m                                 \u001b[0mcontext\u001b[0m\u001b[0;34m.\u001b[0m\u001b[0masync_wait\u001b[0m\u001b[0;34m(\u001b[0m\u001b[0;34m)\u001b[0m\u001b[0;34m\u001b[0m\u001b[0;34m\u001b[0m\u001b[0m\n",
            "\u001b[0;32m/usr/local/lib/python3.10/dist-packages/tensorflow/python/util/traceback_utils.py\u001b[0m in \u001b[0;36merror_handler\u001b[0;34m(*args, **kwargs)\u001b[0m\n\u001b[1;32m    148\u001b[0m     \u001b[0mfiltered_tb\u001b[0m \u001b[0;34m=\u001b[0m \u001b[0;32mNone\u001b[0m\u001b[0;34m\u001b[0m\u001b[0;34m\u001b[0m\u001b[0m\n\u001b[1;32m    149\u001b[0m     \u001b[0;32mtry\u001b[0m\u001b[0;34m:\u001b[0m\u001b[0;34m\u001b[0m\u001b[0;34m\u001b[0m\u001b[0m\n\u001b[0;32m--> 150\u001b[0;31m       \u001b[0;32mreturn\u001b[0m \u001b[0mfn\u001b[0m\u001b[0;34m(\u001b[0m\u001b[0;34m*\u001b[0m\u001b[0margs\u001b[0m\u001b[0;34m,\u001b[0m \u001b[0;34m**\u001b[0m\u001b[0mkwargs\u001b[0m\u001b[0;34m)\u001b[0m\u001b[0;34m\u001b[0m\u001b[0;34m\u001b[0m\u001b[0m\n\u001b[0m\u001b[1;32m    151\u001b[0m     \u001b[0;32mexcept\u001b[0m \u001b[0mException\u001b[0m \u001b[0;32mas\u001b[0m \u001b[0me\u001b[0m\u001b[0;34m:\u001b[0m\u001b[0;34m\u001b[0m\u001b[0;34m\u001b[0m\u001b[0m\n\u001b[1;32m    152\u001b[0m       \u001b[0mfiltered_tb\u001b[0m \u001b[0;34m=\u001b[0m \u001b[0m_process_traceback_frames\u001b[0m\u001b[0;34m(\u001b[0m\u001b[0me\u001b[0m\u001b[0;34m.\u001b[0m\u001b[0m__traceback__\u001b[0m\u001b[0;34m)\u001b[0m\u001b[0;34m\u001b[0m\u001b[0;34m\u001b[0m\u001b[0m\n",
            "\u001b[0;32m/usr/local/lib/python3.10/dist-packages/tensorflow/python/eager/polymorphic_function/polymorphic_function.py\u001b[0m in \u001b[0;36m__call__\u001b[0;34m(self, *args, **kwds)\u001b[0m\n\u001b[1;32m    830\u001b[0m \u001b[0;34m\u001b[0m\u001b[0m\n\u001b[1;32m    831\u001b[0m       \u001b[0;32mwith\u001b[0m \u001b[0mOptionalXlaContext\u001b[0m\u001b[0;34m(\u001b[0m\u001b[0mself\u001b[0m\u001b[0;34m.\u001b[0m\u001b[0m_jit_compile\u001b[0m\u001b[0;34m)\u001b[0m\u001b[0;34m:\u001b[0m\u001b[0;34m\u001b[0m\u001b[0;34m\u001b[0m\u001b[0m\n\u001b[0;32m--> 832\u001b[0;31m         \u001b[0mresult\u001b[0m \u001b[0;34m=\u001b[0m \u001b[0mself\u001b[0m\u001b[0;34m.\u001b[0m\u001b[0m_call\u001b[0m\u001b[0;34m(\u001b[0m\u001b[0;34m*\u001b[0m\u001b[0margs\u001b[0m\u001b[0;34m,\u001b[0m \u001b[0;34m**\u001b[0m\u001b[0mkwds\u001b[0m\u001b[0;34m)\u001b[0m\u001b[0;34m\u001b[0m\u001b[0;34m\u001b[0m\u001b[0m\n\u001b[0m\u001b[1;32m    833\u001b[0m \u001b[0;34m\u001b[0m\u001b[0m\n\u001b[1;32m    834\u001b[0m       \u001b[0mnew_tracing_count\u001b[0m \u001b[0;34m=\u001b[0m \u001b[0mself\u001b[0m\u001b[0;34m.\u001b[0m\u001b[0mexperimental_get_tracing_count\u001b[0m\u001b[0;34m(\u001b[0m\u001b[0;34m)\u001b[0m\u001b[0;34m\u001b[0m\u001b[0;34m\u001b[0m\u001b[0m\n",
            "\u001b[0;32m/usr/local/lib/python3.10/dist-packages/tensorflow/python/eager/polymorphic_function/polymorphic_function.py\u001b[0m in \u001b[0;36m_call\u001b[0;34m(self, *args, **kwds)\u001b[0m\n\u001b[1;32m    866\u001b[0m       \u001b[0;31m# In this case we have created variables on the first call, so we run the\u001b[0m\u001b[0;34m\u001b[0m\u001b[0;34m\u001b[0m\u001b[0m\n\u001b[1;32m    867\u001b[0m       \u001b[0;31m# defunned version which is guaranteed to never create variables.\u001b[0m\u001b[0;34m\u001b[0m\u001b[0;34m\u001b[0m\u001b[0m\n\u001b[0;32m--> 868\u001b[0;31m       return tracing_compilation.call_function(\n\u001b[0m\u001b[1;32m    869\u001b[0m           \u001b[0margs\u001b[0m\u001b[0;34m,\u001b[0m \u001b[0mkwds\u001b[0m\u001b[0;34m,\u001b[0m \u001b[0mself\u001b[0m\u001b[0;34m.\u001b[0m\u001b[0m_no_variable_creation_config\u001b[0m\u001b[0;34m\u001b[0m\u001b[0;34m\u001b[0m\u001b[0m\n\u001b[1;32m    870\u001b[0m       )\n",
            "\u001b[0;32m/usr/local/lib/python3.10/dist-packages/tensorflow/python/eager/polymorphic_function/tracing_compilation.py\u001b[0m in \u001b[0;36mcall_function\u001b[0;34m(args, kwargs, tracing_options)\u001b[0m\n\u001b[1;32m    137\u001b[0m   \u001b[0mbound_args\u001b[0m \u001b[0;34m=\u001b[0m \u001b[0mfunction\u001b[0m\u001b[0;34m.\u001b[0m\u001b[0mfunction_type\u001b[0m\u001b[0;34m.\u001b[0m\u001b[0mbind\u001b[0m\u001b[0;34m(\u001b[0m\u001b[0;34m*\u001b[0m\u001b[0margs\u001b[0m\u001b[0;34m,\u001b[0m \u001b[0;34m**\u001b[0m\u001b[0mkwargs\u001b[0m\u001b[0;34m)\u001b[0m\u001b[0;34m\u001b[0m\u001b[0;34m\u001b[0m\u001b[0m\n\u001b[1;32m    138\u001b[0m   \u001b[0mflat_inputs\u001b[0m \u001b[0;34m=\u001b[0m \u001b[0mfunction\u001b[0m\u001b[0;34m.\u001b[0m\u001b[0mfunction_type\u001b[0m\u001b[0;34m.\u001b[0m\u001b[0munpack_inputs\u001b[0m\u001b[0;34m(\u001b[0m\u001b[0mbound_args\u001b[0m\u001b[0;34m)\u001b[0m\u001b[0;34m\u001b[0m\u001b[0;34m\u001b[0m\u001b[0m\n\u001b[0;32m--> 139\u001b[0;31m   return function._call_flat(  # pylint: disable=protected-access\n\u001b[0m\u001b[1;32m    140\u001b[0m       \u001b[0mflat_inputs\u001b[0m\u001b[0;34m,\u001b[0m \u001b[0mcaptured_inputs\u001b[0m\u001b[0;34m=\u001b[0m\u001b[0mfunction\u001b[0m\u001b[0;34m.\u001b[0m\u001b[0mcaptured_inputs\u001b[0m\u001b[0;34m\u001b[0m\u001b[0;34m\u001b[0m\u001b[0m\n\u001b[1;32m    141\u001b[0m   )\n",
            "\u001b[0;32m/usr/local/lib/python3.10/dist-packages/tensorflow/python/eager/polymorphic_function/concrete_function.py\u001b[0m in \u001b[0;36m_call_flat\u001b[0;34m(self, tensor_inputs, captured_inputs)\u001b[0m\n\u001b[1;32m   1321\u001b[0m         and executing_eagerly):\n\u001b[1;32m   1322\u001b[0m       \u001b[0;31m# No tape is watching; skip to running the function.\u001b[0m\u001b[0;34m\u001b[0m\u001b[0;34m\u001b[0m\u001b[0m\n\u001b[0;32m-> 1323\u001b[0;31m       \u001b[0;32mreturn\u001b[0m \u001b[0mself\u001b[0m\u001b[0;34m.\u001b[0m\u001b[0m_inference_function\u001b[0m\u001b[0;34m.\u001b[0m\u001b[0mcall_preflattened\u001b[0m\u001b[0;34m(\u001b[0m\u001b[0margs\u001b[0m\u001b[0;34m)\u001b[0m\u001b[0;34m\u001b[0m\u001b[0;34m\u001b[0m\u001b[0m\n\u001b[0m\u001b[1;32m   1324\u001b[0m     forward_backward = self._select_forward_and_backward_functions(\n\u001b[1;32m   1325\u001b[0m         \u001b[0margs\u001b[0m\u001b[0;34m,\u001b[0m\u001b[0;34m\u001b[0m\u001b[0;34m\u001b[0m\u001b[0m\n",
            "\u001b[0;32m/usr/local/lib/python3.10/dist-packages/tensorflow/python/eager/polymorphic_function/atomic_function.py\u001b[0m in \u001b[0;36mcall_preflattened\u001b[0;34m(self, args)\u001b[0m\n\u001b[1;32m    214\u001b[0m   \u001b[0;32mdef\u001b[0m \u001b[0mcall_preflattened\u001b[0m\u001b[0;34m(\u001b[0m\u001b[0mself\u001b[0m\u001b[0;34m,\u001b[0m \u001b[0margs\u001b[0m\u001b[0;34m:\u001b[0m \u001b[0mSequence\u001b[0m\u001b[0;34m[\u001b[0m\u001b[0mcore\u001b[0m\u001b[0;34m.\u001b[0m\u001b[0mTensor\u001b[0m\u001b[0;34m]\u001b[0m\u001b[0;34m)\u001b[0m \u001b[0;34m->\u001b[0m \u001b[0mAny\u001b[0m\u001b[0;34m:\u001b[0m\u001b[0;34m\u001b[0m\u001b[0;34m\u001b[0m\u001b[0m\n\u001b[1;32m    215\u001b[0m     \u001b[0;34m\"\"\"Calls with flattened tensor inputs and returns the structured output.\"\"\"\u001b[0m\u001b[0;34m\u001b[0m\u001b[0;34m\u001b[0m\u001b[0m\n\u001b[0;32m--> 216\u001b[0;31m     \u001b[0mflat_outputs\u001b[0m \u001b[0;34m=\u001b[0m \u001b[0mself\u001b[0m\u001b[0;34m.\u001b[0m\u001b[0mcall_flat\u001b[0m\u001b[0;34m(\u001b[0m\u001b[0;34m*\u001b[0m\u001b[0margs\u001b[0m\u001b[0;34m)\u001b[0m\u001b[0;34m\u001b[0m\u001b[0;34m\u001b[0m\u001b[0m\n\u001b[0m\u001b[1;32m    217\u001b[0m     \u001b[0;32mreturn\u001b[0m \u001b[0mself\u001b[0m\u001b[0;34m.\u001b[0m\u001b[0mfunction_type\u001b[0m\u001b[0;34m.\u001b[0m\u001b[0mpack_output\u001b[0m\u001b[0;34m(\u001b[0m\u001b[0mflat_outputs\u001b[0m\u001b[0;34m)\u001b[0m\u001b[0;34m\u001b[0m\u001b[0;34m\u001b[0m\u001b[0m\n\u001b[1;32m    218\u001b[0m \u001b[0;34m\u001b[0m\u001b[0m\n",
            "\u001b[0;32m/usr/local/lib/python3.10/dist-packages/tensorflow/python/eager/polymorphic_function/atomic_function.py\u001b[0m in \u001b[0;36mcall_flat\u001b[0;34m(self, *args)\u001b[0m\n\u001b[1;32m    249\u001b[0m         \u001b[0;32mwith\u001b[0m \u001b[0mrecord\u001b[0m\u001b[0;34m.\u001b[0m\u001b[0mstop_recording\u001b[0m\u001b[0;34m(\u001b[0m\u001b[0;34m)\u001b[0m\u001b[0;34m:\u001b[0m\u001b[0;34m\u001b[0m\u001b[0;34m\u001b[0m\u001b[0m\n\u001b[1;32m    250\u001b[0m           \u001b[0;32mif\u001b[0m \u001b[0mself\u001b[0m\u001b[0;34m.\u001b[0m\u001b[0m_bound_context\u001b[0m\u001b[0;34m.\u001b[0m\u001b[0mexecuting_eagerly\u001b[0m\u001b[0;34m(\u001b[0m\u001b[0;34m)\u001b[0m\u001b[0;34m:\u001b[0m\u001b[0;34m\u001b[0m\u001b[0;34m\u001b[0m\u001b[0m\n\u001b[0;32m--> 251\u001b[0;31m             outputs = self._bound_context.call_function(\n\u001b[0m\u001b[1;32m    252\u001b[0m                 \u001b[0mself\u001b[0m\u001b[0;34m.\u001b[0m\u001b[0mname\u001b[0m\u001b[0;34m,\u001b[0m\u001b[0;34m\u001b[0m\u001b[0;34m\u001b[0m\u001b[0m\n\u001b[1;32m    253\u001b[0m                 \u001b[0mlist\u001b[0m\u001b[0;34m(\u001b[0m\u001b[0margs\u001b[0m\u001b[0;34m)\u001b[0m\u001b[0;34m,\u001b[0m\u001b[0;34m\u001b[0m\u001b[0;34m\u001b[0m\u001b[0m\n",
            "\u001b[0;32m/usr/local/lib/python3.10/dist-packages/tensorflow/python/eager/context.py\u001b[0m in \u001b[0;36mcall_function\u001b[0;34m(self, name, tensor_inputs, num_outputs)\u001b[0m\n\u001b[1;32m   1484\u001b[0m     \u001b[0mcancellation_context\u001b[0m \u001b[0;34m=\u001b[0m \u001b[0mcancellation\u001b[0m\u001b[0;34m.\u001b[0m\u001b[0mcontext\u001b[0m\u001b[0;34m(\u001b[0m\u001b[0;34m)\u001b[0m\u001b[0;34m\u001b[0m\u001b[0;34m\u001b[0m\u001b[0m\n\u001b[1;32m   1485\u001b[0m     \u001b[0;32mif\u001b[0m \u001b[0mcancellation_context\u001b[0m \u001b[0;32mis\u001b[0m \u001b[0;32mNone\u001b[0m\u001b[0;34m:\u001b[0m\u001b[0;34m\u001b[0m\u001b[0;34m\u001b[0m\u001b[0m\n\u001b[0;32m-> 1486\u001b[0;31m       outputs = execute.execute(\n\u001b[0m\u001b[1;32m   1487\u001b[0m           \u001b[0mname\u001b[0m\u001b[0;34m.\u001b[0m\u001b[0mdecode\u001b[0m\u001b[0;34m(\u001b[0m\u001b[0;34m\"utf-8\"\u001b[0m\u001b[0;34m)\u001b[0m\u001b[0;34m,\u001b[0m\u001b[0;34m\u001b[0m\u001b[0;34m\u001b[0m\u001b[0m\n\u001b[1;32m   1488\u001b[0m           \u001b[0mnum_outputs\u001b[0m\u001b[0;34m=\u001b[0m\u001b[0mnum_outputs\u001b[0m\u001b[0;34m,\u001b[0m\u001b[0;34m\u001b[0m\u001b[0;34m\u001b[0m\u001b[0m\n",
            "\u001b[0;32m/usr/local/lib/python3.10/dist-packages/tensorflow/python/eager/execute.py\u001b[0m in \u001b[0;36mquick_execute\u001b[0;34m(op_name, num_outputs, inputs, attrs, ctx, name)\u001b[0m\n\u001b[1;32m     51\u001b[0m   \u001b[0;32mtry\u001b[0m\u001b[0;34m:\u001b[0m\u001b[0;34m\u001b[0m\u001b[0;34m\u001b[0m\u001b[0m\n\u001b[1;32m     52\u001b[0m     \u001b[0mctx\u001b[0m\u001b[0;34m.\u001b[0m\u001b[0mensure_initialized\u001b[0m\u001b[0;34m(\u001b[0m\u001b[0;34m)\u001b[0m\u001b[0;34m\u001b[0m\u001b[0;34m\u001b[0m\u001b[0m\n\u001b[0;32m---> 53\u001b[0;31m     tensors = pywrap_tfe.TFE_Py_Execute(ctx._handle, device_name, op_name,\n\u001b[0m\u001b[1;32m     54\u001b[0m                                         inputs, attrs, num_outputs)\n\u001b[1;32m     55\u001b[0m   \u001b[0;32mexcept\u001b[0m \u001b[0mcore\u001b[0m\u001b[0;34m.\u001b[0m\u001b[0m_NotOkStatusException\u001b[0m \u001b[0;32mas\u001b[0m \u001b[0me\u001b[0m\u001b[0;34m:\u001b[0m\u001b[0;34m\u001b[0m\u001b[0;34m\u001b[0m\u001b[0m\n",
            "\u001b[0;31mKeyboardInterrupt\u001b[0m: "
          ]
        }
      ]
    }
  ]
}